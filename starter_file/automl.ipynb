{
  "cells": [
    {
      "cell_type": "code",
      "source": [
        "# Automated ML\n",
        "    \n",
        "from azureml.core import Workspace, Experiment\n",
        "from azureml.core.compute import ComputeTarget, AmlCompute\n",
        "from azureml.core.compute_target import ComputeTargetException\n",
        "from azureml.data.dataset_factory import TabularDatasetFactory\n",
        "import pandas as pd\n",
        "from azureml.train.automl import AutoMLConfig\n",
        "from azureml.widgets import RunDetails\n",
        "from azureml.core.model import Model\n",
        "from azureml.core.model import InferenceConfig\n",
        "from azureml.core import Workspace, Environment\n",
        "from azureml.core import Model\n",
        "from azureml.core.webservice import AciWebservice, Webservice\n",
        "import json\n",
        "import joblib\n"
      ],
      "outputs": [],
      "execution_count": 2,
      "metadata": {}
    },
    {
      "cell_type": "code",
      "source": [],
      "outputs": [],
      "execution_count": null,
      "metadata": {
        "gather": {
          "logged": 1598423888013
        },
        "jupyter": {
          "outputs_hidden": false,
          "source_hidden": false
        },
        "nteract": {
          "transient": {
            "deleting": false
          }
        }
      }
    },
    {
      "cell_type": "markdown",
      "source": [
        "## Dataset\n",
        "\n",
        "### Overview\n",
        "TODO: In this markdown cell, give an overview of the dataset you are using. Also mention the task you will be performing.\n",
        "We first of all define the workspace and create the experiment 'Parkinson-classification-AutoML' \n",
        "\n",
        "We then access to the dataset from the external link (placed in the github)\n",
        "\n",
        "We move then to prepare the data(read the data using TabularDatasetFactory  then transforme it to a dataframe then store it in a csv file ) and send it to the default datastore so that we can use it in the Automl Config \n",
        "\n",
        "To finally create the compute cluster \n",
        "\n",
        "The dataset used in this notebook  is composed of a range of biomedical voice measurements from 31 people, 23 with Parkinson's disease (PD). Each column in the data is a particular voice measure, and each row corresponds one of 195 voice recording from these individuals (\"name\" column)\n",
        "\n",
        "TODO: Get data. In the cell below, write code to access the data you will be using in this project. Remember that the dataset needs to be external.\n"
      ],
      "metadata": {}
    },
    {
      "cell_type": "code",
      "source": [
        "#Connection to the workspace and definition of the experiment \n",
        "ws = Workspace.from_config()\n",
        "experiment_name = 'Parkinson-classification-AutoML'\n",
        "\n",
        "experiment=Experiment(workspace=ws, name=experiment_name)\n",
        "\n",
        "print('Workspace name: ' + ws.name, \n",
        "      'Azure region: ' + ws.location, \n",
        "      'Subscription id: ' + ws.subscription_id, \n",
        "      'Resource group: ' + ws.resource_group, sep = '\\n')\n",
        "\n",
        "run = experiment.start_logging()"
      ],
      "outputs": [
        {
          "output_type": "stream",
          "name": "stdout",
          "text": [
            "Workspace name: quick-starts-ws-137242\n",
            "Azure region: southcentralus\n",
            "Subscription id: f5091c60-1c3c-430f-8d81-d802f6bf2414\n",
            "Resource group: aml-quickstarts-137242\n"
          ]
        }
      ],
      "execution_count": 3,
      "metadata": {
        "gather": {
          "logged": 1598423890461
        },
        "jupyter": {
          "outputs_hidden": false,
          "source_hidden": false
        },
        "nteract": {
          "transient": {
            "deleting": false
          }
        }
      }
    },
    {
      "cell_type": "code",
      "source": [
        "#Get the data from github\n",
        "path_url = 'https://gist.githubusercontent.com/Nwaneto/0d1477bd10c92f8b16ab19306d21a17f/raw/0af3078c0d174e26039ab31525487ceaceda77b0/parkinson-classification-data.csv'\n",
        "ds = TabularDatasetFactory.from_delimited_files(path = path_url)\n",
        "ds.to_pandas_dataframe().head()"
      ],
      "outputs": [
        {
          "output_type": "execute_result",
          "execution_count": 4,
          "data": {
            "text/html": "<div>\n<style scoped>\n    .dataframe tbody tr th:only-of-type {\n        vertical-align: middle;\n    }\n\n    .dataframe tbody tr th {\n        vertical-align: top;\n    }\n\n    .dataframe thead th {\n        text-align: right;\n    }\n</style>\n<table border=\"1\" class=\"dataframe\">\n  <thead>\n    <tr style=\"text-align: right;\">\n      <th></th>\n      <th>name</th>\n      <th>MDVP:Fo(Hz)</th>\n      <th>MDVP:Fhi(Hz)</th>\n      <th>MDVP:Flo(Hz)</th>\n      <th>MDVP:Jitter(%)</th>\n      <th>MDVP:Jitter(Abs)</th>\n      <th>MDVP:RAP</th>\n      <th>MDVP:PPQ</th>\n      <th>Jitter:DDP</th>\n      <th>MDVP:Shimmer</th>\n      <th>...</th>\n      <th>Shimmer:DDA</th>\n      <th>NHR</th>\n      <th>HNR</th>\n      <th>status</th>\n      <th>RPDE</th>\n      <th>DFA</th>\n      <th>spread1</th>\n      <th>spread2</th>\n      <th>D2</th>\n      <th>PPE</th>\n    </tr>\n  </thead>\n  <tbody>\n    <tr>\n      <th>0</th>\n      <td>phon_R01_S01_1</td>\n      <td>119.992</td>\n      <td>157.302</td>\n      <td>74.997</td>\n      <td>0.00784</td>\n      <td>0.00007</td>\n      <td>0.00370</td>\n      <td>0.00554</td>\n      <td>0.01109</td>\n      <td>0.04374</td>\n      <td>...</td>\n      <td>0.06545</td>\n      <td>0.02211</td>\n      <td>21.033</td>\n      <td>1</td>\n      <td>0.414783</td>\n      <td>0.815285</td>\n      <td>-4.813031</td>\n      <td>0.266482</td>\n      <td>2.301442</td>\n      <td>0.284654</td>\n    </tr>\n    <tr>\n      <th>1</th>\n      <td>phon_R01_S01_2</td>\n      <td>122.400</td>\n      <td>148.650</td>\n      <td>113.819</td>\n      <td>0.00968</td>\n      <td>0.00008</td>\n      <td>0.00465</td>\n      <td>0.00696</td>\n      <td>0.01394</td>\n      <td>0.06134</td>\n      <td>...</td>\n      <td>0.09403</td>\n      <td>0.01929</td>\n      <td>19.085</td>\n      <td>1</td>\n      <td>0.458359</td>\n      <td>0.819521</td>\n      <td>-4.075192</td>\n      <td>0.335590</td>\n      <td>2.486855</td>\n      <td>0.368674</td>\n    </tr>\n    <tr>\n      <th>2</th>\n      <td>phon_R01_S01_3</td>\n      <td>116.682</td>\n      <td>131.111</td>\n      <td>111.555</td>\n      <td>0.01050</td>\n      <td>0.00009</td>\n      <td>0.00544</td>\n      <td>0.00781</td>\n      <td>0.01633</td>\n      <td>0.05233</td>\n      <td>...</td>\n      <td>0.08270</td>\n      <td>0.01309</td>\n      <td>20.651</td>\n      <td>1</td>\n      <td>0.429895</td>\n      <td>0.825288</td>\n      <td>-4.443179</td>\n      <td>0.311173</td>\n      <td>2.342259</td>\n      <td>0.332634</td>\n    </tr>\n    <tr>\n      <th>3</th>\n      <td>phon_R01_S01_4</td>\n      <td>116.676</td>\n      <td>137.871</td>\n      <td>111.366</td>\n      <td>0.00997</td>\n      <td>0.00009</td>\n      <td>0.00502</td>\n      <td>0.00698</td>\n      <td>0.01505</td>\n      <td>0.05492</td>\n      <td>...</td>\n      <td>0.08771</td>\n      <td>0.01353</td>\n      <td>20.644</td>\n      <td>1</td>\n      <td>0.434969</td>\n      <td>0.819235</td>\n      <td>-4.117501</td>\n      <td>0.334147</td>\n      <td>2.405554</td>\n      <td>0.368975</td>\n    </tr>\n    <tr>\n      <th>4</th>\n      <td>phon_R01_S01_5</td>\n      <td>116.014</td>\n      <td>141.781</td>\n      <td>110.655</td>\n      <td>0.01284</td>\n      <td>0.00011</td>\n      <td>0.00655</td>\n      <td>0.00908</td>\n      <td>0.01966</td>\n      <td>0.06425</td>\n      <td>...</td>\n      <td>0.10470</td>\n      <td>0.01767</td>\n      <td>19.649</td>\n      <td>1</td>\n      <td>0.417356</td>\n      <td>0.823484</td>\n      <td>-3.747787</td>\n      <td>0.234513</td>\n      <td>2.332180</td>\n      <td>0.410335</td>\n    </tr>\n  </tbody>\n</table>\n<p>5 rows × 24 columns</p>\n</div>",
            "text/plain": "             name  MDVP:Fo(Hz)  MDVP:Fhi(Hz)  MDVP:Flo(Hz)  MDVP:Jitter(%)  \\\n0  phon_R01_S01_1      119.992       157.302        74.997         0.00784   \n1  phon_R01_S01_2      122.400       148.650       113.819         0.00968   \n2  phon_R01_S01_3      116.682       131.111       111.555         0.01050   \n3  phon_R01_S01_4      116.676       137.871       111.366         0.00997   \n4  phon_R01_S01_5      116.014       141.781       110.655         0.01284   \n\n   MDVP:Jitter(Abs)  MDVP:RAP  MDVP:PPQ  Jitter:DDP  MDVP:Shimmer  ...  \\\n0           0.00007   0.00370   0.00554     0.01109       0.04374  ...   \n1           0.00008   0.00465   0.00696     0.01394       0.06134  ...   \n2           0.00009   0.00544   0.00781     0.01633       0.05233  ...   \n3           0.00009   0.00502   0.00698     0.01505       0.05492  ...   \n4           0.00011   0.00655   0.00908     0.01966       0.06425  ...   \n\n   Shimmer:DDA      NHR     HNR  status      RPDE       DFA   spread1  \\\n0      0.06545  0.02211  21.033       1  0.414783  0.815285 -4.813031   \n1      0.09403  0.01929  19.085       1  0.458359  0.819521 -4.075192   \n2      0.08270  0.01309  20.651       1  0.429895  0.825288 -4.443179   \n3      0.08771  0.01353  20.644       1  0.434969  0.819235 -4.117501   \n4      0.10470  0.01767  19.649       1  0.417356  0.823484 -3.747787   \n\n    spread2        D2       PPE  \n0  0.266482  2.301442  0.284654  \n1  0.335590  2.486855  0.368674  \n2  0.311173  2.342259  0.332634  \n3  0.334147  2.405554  0.368975  \n4  0.234513  2.332180  0.410335  \n\n[5 rows x 24 columns]"
          },
          "metadata": {}
        }
      ],
      "execution_count": 4,
      "metadata": {}
    },
    {
      "cell_type": "code",
      "source": [
        "#Prepare the data and send it to the datastore\n",
        "df=ds.to_pandas_dataframe()\n",
        "df.drop(\"name\", inplace=True, axis=1)  \n",
        "df.to_csv(\"./training_data.csv\")\n",
        "datastore = ws.get_default_datastore()\n",
        "datastore.upload(src_dir = \"./\", target_path = \"data/\")\n",
        "training_data = TabularDatasetFactory.from_delimited_files(path = [(datastore, (\"data/training_data.csv\"))])"
      ],
      "outputs": [
        {
          "output_type": "stream",
          "name": "stdout",
          "text": [
            "Uploading an estimated of 14 files\n",
            "Uploading ./automl.ipynb\n",
            "Uploaded ./automl.ipynb, 1 files out of an estimated total of 14\n",
            "Uploading ./automl2.ipynb\n",
            "Uploaded ./automl2.ipynb, 2 files out of an estimated total of 14\n",
            "Uploading ./hyperparameter_tuning.ipynb\n",
            "Uploaded ./hyperparameter_tuning.ipynb, 3 files out of an estimated total of 14\n",
            "Uploading ./hyperparam_tuning2.ipynb\n",
            "Uploaded ./hyperparam_tuning2.ipynb, 4 files out of an estimated total of 14\n",
            "Uploading ./LICENSE\n",
            "Uploaded ./LICENSE, 5 files out of an estimated total of 14\n",
            "Uploading ./parkinsons.data\n",
            "Uploaded ./parkinsons.data, 6 files out of an estimated total of 14\n",
            "Uploading ./parkinsons.names\n",
            "Uploaded ./parkinsons.names, 7 files out of an estimated total of 14\n",
            "Uploading ./README.md\n",
            "Uploaded ./README.md, 8 files out of an estimated total of 14\n",
            "Uploading ./README2.md\n",
            "Uploaded ./README2.md, 9 files out of an estimated total of 14\n",
            "Uploading ./train2.py\n",
            "Uploaded ./train2.py, 10 files out of an estimated total of 14\n",
            "Uploading ./training_data.csv\n",
            "Uploaded ./training_data.csv, 11 files out of an estimated total of 14\n",
            "Uploading ./.ipynb_aml_checkpoints/automl-checkpoint2021-1-4-15-50-50.ipynb\n",
            "Uploaded ./.ipynb_aml_checkpoints/automl-checkpoint2021-1-4-15-50-50.ipynb, 12 files out of an estimated total of 14\n",
            "Uploading ./.ipynb_checkpoints/automl-checkpoint.ipynb\n",
            "Uploaded ./.ipynb_checkpoints/automl-checkpoint.ipynb, 13 files out of an estimated total of 14\n",
            "Uploading ./.ipynb_checkpoints/automl2-checkpoint.ipynb\n",
            "Uploaded ./.ipynb_checkpoints/automl2-checkpoint.ipynb, 14 files out of an estimated total of 14\n",
            "Uploaded 14 files\n"
          ]
        }
      ],
      "execution_count": 5,
      "metadata": {}
    },
    {
      "cell_type": "code",
      "source": [
        "df.head()"
      ],
      "outputs": [
        {
          "output_type": "execute_result",
          "execution_count": 6,
          "data": {
            "text/html": "<div>\n<style scoped>\n    .dataframe tbody tr th:only-of-type {\n        vertical-align: middle;\n    }\n\n    .dataframe tbody tr th {\n        vertical-align: top;\n    }\n\n    .dataframe thead th {\n        text-align: right;\n    }\n</style>\n<table border=\"1\" class=\"dataframe\">\n  <thead>\n    <tr style=\"text-align: right;\">\n      <th></th>\n      <th>MDVP:Fo(Hz)</th>\n      <th>MDVP:Fhi(Hz)</th>\n      <th>MDVP:Flo(Hz)</th>\n      <th>MDVP:Jitter(%)</th>\n      <th>MDVP:Jitter(Abs)</th>\n      <th>MDVP:RAP</th>\n      <th>MDVP:PPQ</th>\n      <th>Jitter:DDP</th>\n      <th>MDVP:Shimmer</th>\n      <th>MDVP:Shimmer(dB)</th>\n      <th>...</th>\n      <th>Shimmer:DDA</th>\n      <th>NHR</th>\n      <th>HNR</th>\n      <th>status</th>\n      <th>RPDE</th>\n      <th>DFA</th>\n      <th>spread1</th>\n      <th>spread2</th>\n      <th>D2</th>\n      <th>PPE</th>\n    </tr>\n  </thead>\n  <tbody>\n    <tr>\n      <th>0</th>\n      <td>119.992</td>\n      <td>157.302</td>\n      <td>74.997</td>\n      <td>0.00784</td>\n      <td>0.00007</td>\n      <td>0.00370</td>\n      <td>0.00554</td>\n      <td>0.01109</td>\n      <td>0.04374</td>\n      <td>0.426</td>\n      <td>...</td>\n      <td>0.06545</td>\n      <td>0.02211</td>\n      <td>21.033</td>\n      <td>1</td>\n      <td>0.414783</td>\n      <td>0.815285</td>\n      <td>-4.813031</td>\n      <td>0.266482</td>\n      <td>2.301442</td>\n      <td>0.284654</td>\n    </tr>\n    <tr>\n      <th>1</th>\n      <td>122.400</td>\n      <td>148.650</td>\n      <td>113.819</td>\n      <td>0.00968</td>\n      <td>0.00008</td>\n      <td>0.00465</td>\n      <td>0.00696</td>\n      <td>0.01394</td>\n      <td>0.06134</td>\n      <td>0.626</td>\n      <td>...</td>\n      <td>0.09403</td>\n      <td>0.01929</td>\n      <td>19.085</td>\n      <td>1</td>\n      <td>0.458359</td>\n      <td>0.819521</td>\n      <td>-4.075192</td>\n      <td>0.335590</td>\n      <td>2.486855</td>\n      <td>0.368674</td>\n    </tr>\n    <tr>\n      <th>2</th>\n      <td>116.682</td>\n      <td>131.111</td>\n      <td>111.555</td>\n      <td>0.01050</td>\n      <td>0.00009</td>\n      <td>0.00544</td>\n      <td>0.00781</td>\n      <td>0.01633</td>\n      <td>0.05233</td>\n      <td>0.482</td>\n      <td>...</td>\n      <td>0.08270</td>\n      <td>0.01309</td>\n      <td>20.651</td>\n      <td>1</td>\n      <td>0.429895</td>\n      <td>0.825288</td>\n      <td>-4.443179</td>\n      <td>0.311173</td>\n      <td>2.342259</td>\n      <td>0.332634</td>\n    </tr>\n    <tr>\n      <th>3</th>\n      <td>116.676</td>\n      <td>137.871</td>\n      <td>111.366</td>\n      <td>0.00997</td>\n      <td>0.00009</td>\n      <td>0.00502</td>\n      <td>0.00698</td>\n      <td>0.01505</td>\n      <td>0.05492</td>\n      <td>0.517</td>\n      <td>...</td>\n      <td>0.08771</td>\n      <td>0.01353</td>\n      <td>20.644</td>\n      <td>1</td>\n      <td>0.434969</td>\n      <td>0.819235</td>\n      <td>-4.117501</td>\n      <td>0.334147</td>\n      <td>2.405554</td>\n      <td>0.368975</td>\n    </tr>\n    <tr>\n      <th>4</th>\n      <td>116.014</td>\n      <td>141.781</td>\n      <td>110.655</td>\n      <td>0.01284</td>\n      <td>0.00011</td>\n      <td>0.00655</td>\n      <td>0.00908</td>\n      <td>0.01966</td>\n      <td>0.06425</td>\n      <td>0.584</td>\n      <td>...</td>\n      <td>0.10470</td>\n      <td>0.01767</td>\n      <td>19.649</td>\n      <td>1</td>\n      <td>0.417356</td>\n      <td>0.823484</td>\n      <td>-3.747787</td>\n      <td>0.234513</td>\n      <td>2.332180</td>\n      <td>0.410335</td>\n    </tr>\n  </tbody>\n</table>\n<p>5 rows × 23 columns</p>\n</div>",
            "text/plain": "   MDVP:Fo(Hz)  MDVP:Fhi(Hz)  MDVP:Flo(Hz)  MDVP:Jitter(%)  MDVP:Jitter(Abs)  \\\n0      119.992       157.302        74.997         0.00784           0.00007   \n1      122.400       148.650       113.819         0.00968           0.00008   \n2      116.682       131.111       111.555         0.01050           0.00009   \n3      116.676       137.871       111.366         0.00997           0.00009   \n4      116.014       141.781       110.655         0.01284           0.00011   \n\n   MDVP:RAP  MDVP:PPQ  Jitter:DDP  MDVP:Shimmer  MDVP:Shimmer(dB)  ...  \\\n0   0.00370   0.00554     0.01109       0.04374             0.426  ...   \n1   0.00465   0.00696     0.01394       0.06134             0.626  ...   \n2   0.00544   0.00781     0.01633       0.05233             0.482  ...   \n3   0.00502   0.00698     0.01505       0.05492             0.517  ...   \n4   0.00655   0.00908     0.01966       0.06425             0.584  ...   \n\n   Shimmer:DDA      NHR     HNR  status      RPDE       DFA   spread1  \\\n0      0.06545  0.02211  21.033       1  0.414783  0.815285 -4.813031   \n1      0.09403  0.01929  19.085       1  0.458359  0.819521 -4.075192   \n2      0.08270  0.01309  20.651       1  0.429895  0.825288 -4.443179   \n3      0.08771  0.01353  20.644       1  0.434969  0.819235 -4.117501   \n4      0.10470  0.01767  19.649       1  0.417356  0.823484 -3.747787   \n\n    spread2        D2       PPE  \n0  0.266482  2.301442  0.284654  \n1  0.335590  2.486855  0.368674  \n2  0.311173  2.342259  0.332634  \n3  0.334147  2.405554  0.368975  \n4  0.234513  2.332180  0.410335  \n\n[5 rows x 23 columns]"
          },
          "metadata": {}
        }
      ],
      "execution_count": 6,
      "metadata": {}
    },
    {
      "cell_type": "code",
      "source": [
        "#Creation of the compute-cluster\n",
        "amlcompute_cluster_name = \"cpu-cluster\"\n",
        "\n",
        "try:\n",
        "    aml_compute = ComputeTarget(workspace=ws, name=amlcompute_cluster_name)\n",
        "    print('Found existing cluster, use it.')\n",
        "except ComputeTargetException:\n",
        "    compute_config = AmlCompute.provisioning_configuration(vm_size='STANDARD_DS3_V2',\n",
        "                                                           max_nodes=5)\n",
        "    aml_compute = ComputeTarget.create(ws, amlcompute_cluster_name, compute_config)\n",
        "\n",
        "aml_compute.wait_for_completion(show_output=True , min_node_count = 1, timeout_in_minutes = 2)"
      ],
      "outputs": [
        {
          "output_type": "stream",
          "name": "stdout",
          "text": [
            "Creating\n",
            "Succeeded....................\n",
            "AmlCompute wait for completion finished\n",
            "\n",
            "Wait timeout has been reached\n",
            "Current provisioning state of AmlCompute is \"Succeeded\" and current node count is \"0\"\n"
          ]
        }
      ],
      "execution_count": 7,
      "metadata": {}
    },
    {
      "cell_type": "markdown",
      "source": [
        "## AutoML Configuration\n",
        "\n",
        "In this section we configure the automnl setting and submit the experiment \n",
        "\n",
        "And Bellow is the description/Reason for the configuration used in Automl\n",
        "\n",
        "|Setting |Reasons ?|\n",
        "|-|-|\n",
        "|**experiment_timeout_minutes**|Maximum amount of time in minutes that all iterations combined can take before the experiment terminates (15 minute because the dataset include only 195 lines)|\n",
        "|**max_concurrent_iterations**|To help manage child runs  in parallele mode and when they can be performed, we create a dedicated cluster per experiment, and match the number of this setting (4) to the number of nodes in the cluster(5-1))|\n",
        "|**n_cross_validations**|Number of cross validation (5) splits to ensure that they will be no overfiting |\n",
        "|**primary_metric**|This is the metric that we want to optimize (accuracy) |\n",
        "|**task**|classification |\n",
        "|**compute_target**|To define the compute cluster we will be using |\n",
        "|**training_data**|To specify the training dataset stored in the datastore  |\n",
        "|**label_column_name**|To specify the dependent variable that we are trying to classify |"
      ],
      "metadata": {}
    },
    {
      "cell_type": "code",
      "source": [
        "# Automl settings \n",
        "automl_settings = {\n",
        "    \"experiment_timeout_minutes\" :15,\n",
        "    \"max_concurrent_iterations\": 4,\n",
        "    \"n_cross_validations\": 5,\n",
        "    \"primary_metric\": 'accuracy',\n",
        "}\n",
        "\n",
        "# Automl config \n",
        "automl_config = AutoMLConfig(\n",
        "    task=\"classification\",\n",
        "    compute_target=aml_compute,\n",
        "    training_data=training_data,\n",
        "    label_column_name=\"status\",\n",
        "    **automl_settings\n",
        ")"
      ],
      "outputs": [],
      "execution_count": 8,
      "metadata": {
        "gather": {
          "logged": 1598429217746
        },
        "jupyter": {
          "outputs_hidden": false,
          "source_hidden": false
        },
        "nteract": {
          "transient": {
            "deleting": false
          }
        }
      }
    },
    {
      "cell_type": "code",
      "source": [
        "# Submit experiment\n",
        "auto_ml_run = experiment.submit(config = automl_config, show_output = True)\n"
      ],
      "outputs": [
        {
          "output_type": "stream",
          "name": "stdout",
          "text": [
            "Running on remote.\n",
            "No run_configuration provided, running on cpu-cluster with default configuration\n",
            "Running on remote compute: cpu-cluster\n",
            "Parent Run ID: AutoML_fb271a28-e0a5-487d-8b3d-531bda210902\n",
            "\n",
            "Current status: FeaturesGeneration. Generating features for the dataset.\n",
            "Current status: ModelSelection. Beginning model selection.\n",
            "\n",
            "****************************************************************************************************\n",
            "DATA GUARDRAILS: \n",
            "\n",
            "TYPE:         Class balancing detection\n",
            "STATUS:       PASSED\n",
            "DESCRIPTION:  Your inputs were analyzed, and all classes are balanced in your training data.\n",
            "              Learn more about imbalanced data: https://aka.ms/AutomatedMLImbalancedData\n",
            "\n",
            "****************************************************************************************************\n",
            "\n",
            "TYPE:         Missing feature values imputation\n",
            "STATUS:       PASSED\n",
            "DESCRIPTION:  No feature missing values were detected in the training data.\n",
            "              Learn more about missing value imputation: https://aka.ms/AutomatedMLFeaturization\n",
            "\n",
            "****************************************************************************************************\n",
            "\n",
            "TYPE:         High cardinality feature detection\n",
            "STATUS:       PASSED\n",
            "DESCRIPTION:  Your inputs were analyzed, and no high cardinality features were detected.\n",
            "              Learn more about high cardinality feature handling: https://aka.ms/AutomatedMLFeaturization\n",
            "\n",
            "****************************************************************************************************\n",
            "\n",
            "****************************************************************************************************\n",
            "ITERATION: The iteration being evaluated.\n",
            "PIPELINE: A summary description of the pipeline being evaluated.\n",
            "DURATION: Time taken for the current iteration.\n",
            "METRIC: The result of computing score on the fitted pipeline.\n",
            "BEST: The best observed score thus far.\n",
            "****************************************************************************************************\n",
            "\n",
            " ITERATION   PIPELINE                                       DURATION      METRIC      BEST\n",
            "         1   MaxAbsScaler XGBoostClassifier                 0:00:43       0.9641    0.9641\n",
            "         0   MaxAbsScaler LightGBM                          0:00:58       0.9641    0.9641\n",
            "         5   StandardScalerWrapper LightGBM                 0:00:51       0.9385    0.9641\n",
            "         2   MinMaxScaler RandomForest                      0:02:03       0.9333    0.9641\n",
            "         3   MinMaxScaler RandomForest                      0:02:02       0.8769    0.9641\n",
            "         4   MinMaxScaler RandomForest                      0:02:11       0.9077    0.9641\n",
            "         6   StandardScalerWrapper XGBoostClassifier        0:00:52       0.9436    0.9641\n",
            "         8   SparseNormalizer XGBoostClassifier             0:00:44       0.9333    0.9641\n",
            "         7   MinMaxScaler SVM                               0:00:59       0.9590    0.9641\n",
            "         9   SparseNormalizer XGBoostClassifier             0:00:46       0.9436    0.9641\n",
            "        10   SparseNormalizer XGBoostClassifier             0:00:45       0.9333    0.9641\n",
            "        11   RobustScaler SVM                               0:00:53       0.9538    0.9641\n",
            "        12   StandardScalerWrapper RandomForest             0:00:48       0.9231    0.9641\n",
            "        13   MaxAbsScaler LightGBM                          0:00:51       0.9026    0.9641\n",
            "        14   MaxAbsScaler LightGBM                          0:00:48       0.8974    0.9641\n",
            "        15   StandardScalerWrapper LightGBM                 0:00:46       0.9436    0.9641\n",
            "        16   MaxAbsScaler ExtremeRandomTrees                0:00:52       0.8923    0.9641\n",
            "        17   StandardScalerWrapper ExtremeRandomTrees       0:01:03       0.8821    0.9641\n",
            "        18   StandardScalerWrapper LogisticRegression       0:00:54       0.8410    0.9641\n",
            "        19   RobustScaler LightGBM                          0:00:52       0.9436    0.9641\n",
            "        20   StandardScalerWrapper LightGBM                 0:00:49       0.9282    0.9641\n",
            "        21   StandardScalerWrapper LogisticRegression       0:00:49       0.8308    0.9641\n",
            "        22   SparseNormalizer XGBoostClassifier             0:00:51       0.8974    0.9641\n",
            "        23   StandardScalerWrapper XGBoostClassifier        0:00:48       0.8615    0.9641\n",
            "        24   SparseNormalizer XGBoostClassifier             0:00:49       0.9026    0.9641\n",
            "        26   StandardScalerWrapper RandomForest             0:00:46       0.8718    0.9641\n",
            "        25   SparseNormalizer XGBoostClassifier             0:00:55       0.7538    0.9641\n",
            "        27   RobustScaler RandomForest                      0:00:53       0.8769    0.9641\n",
            "        29   StandardScalerWrapper LightGBM                 0:00:52       0.9231    0.9641\n",
            "        30   SparseNormalizer XGBoostClassifier             0:00:46       0.8769    0.9641\n",
            "        28   MaxAbsScaler RandomForest                      0:00:47       0.8513    0.9641\n",
            "        31   StandardScalerWrapper XGBoostClassifier        0:00:48       0.8974    0.9641\n",
            "        33   MinMaxScaler LightGBM                          0:00:46       0.9487    0.9641\n",
            "        32   SparseNormalizer XGBoostClassifier             0:00:46       0.9179    0.9641\n",
            "        34   SparseNormalizer XGBoostClassifier             0:00:50       0.9436    0.9641\n",
            "        35   SparseNormalizer XGBoostClassifier             0:00:45       0.9128    0.9641\n",
            "        36   SparseNormalizer XGBoostClassifier             0:00:43       0.8821    0.9641\n",
            "        37   SparseNormalizer XGBoostClassifier             0:00:49       0.9487    0.9641\n",
            "        38   StandardScalerWrapper LightGBM                 0:00:43       0.9077    0.9641\n",
            "        39   SparseNormalizer XGBoostClassifier             0:00:49       0.9436    0.9641\n",
            "        40   SparseNormalizer XGBoostClassifier             0:00:49       0.9231    0.9641\n",
            "        41   SparseNormalizer XGBoostClassifier             0:00:49       0.9231    0.9641\n",
            "        42   RobustScaler LightGBM                          0:00:50       0.9179    0.9641\n",
            "        43   StandardScalerWrapper LightGBM                 0:01:00       0.9282    0.9641\n",
            "        44   MaxAbsScaler LightGBM                          0:00:55       0.9385    0.9641\n",
            "        45   SparseNormalizer XGBoostClassifier             0:00:51       0.9282    0.9641\n",
            "        46   SparseNormalizer XGBoostClassifier             0:00:52       0.9231    0.9641\n",
            "        47   StandardScalerWrapper ExtremeRandomTrees       0:00:57       0.9385    0.9641\n",
            "        48   SparseNormalizer LightGBM                      0:00:36       0.8872    0.9641\n",
            "ERROR: {\n",
            "    \"additional_properties\": {},\n",
            "    \"error\": {\n",
            "        \"additional_properties\": {\n",
            "            \"debugInfo\": null\n",
            "        },\n",
            "        \"code\": \"UserError\",\n",
            "        \"severity\": null,\n",
            "        \"message\": \"Experiment timeout reached, please consider increasing your experiment timeout.\",\n",
            "        \"message_format\": \"Experiment timeout reached, please consider increasing your experiment timeout.\",\n",
            "        \"message_parameters\": {},\n",
            "        \"reference_code\": null,\n",
            "        \"details_uri\": null,\n",
            "        \"target\": null,\n",
            "        \"details\": [],\n",
            "        \"inner_error\": {\n",
            "            \"additional_properties\": {},\n",
            "            \"code\": \"ResourceExhausted\",\n",
            "            \"inner_error\": {\n",
            "                \"additional_properties\": {},\n",
            "                \"code\": \"Timeout\",\n",
            "                \"inner_error\": {\n",
            "                    \"additional_properties\": {},\n",
            "                    \"code\": \"ExperimentTimeoutForIterations\",\n",
            "                    \"inner_error\": null\n",
            "                }\n",
            "            }\n",
            "        }\n",
            "    },\n",
            "    \"correlation\": null,\n",
            "    \"environment\": null,\n",
            "    \"location\": null,\n",
            "    \"time\": {},\n",
            "    \"component_name\": null\n",
            "}\n",
            "        49   SparseNormalizer XGBoostClassifier             0:00:31       0.9385    0.9641\n",
            "ERROR: {\n",
            "    \"additional_properties\": {},\n",
            "    \"error\": {\n",
            "        \"additional_properties\": {\n",
            "            \"debugInfo\": null\n",
            "        },\n",
            "        \"code\": \"UserError\",\n",
            "        \"severity\": null,\n",
            "        \"message\": \"Experiment timeout reached, please consider increasing your experiment timeout.\",\n",
            "        \"message_format\": \"Experiment timeout reached, please consider increasing your experiment timeout.\",\n",
            "        \"message_parameters\": {},\n",
            "        \"reference_code\": null,\n",
            "        \"details_uri\": null,\n",
            "        \"target\": null,\n",
            "        \"details\": [],\n",
            "        \"inner_error\": {\n",
            "            \"additional_properties\": {},\n",
            "            \"code\": \"ResourceExhausted\",\n",
            "            \"inner_error\": {\n",
            "                \"additional_properties\": {},\n",
            "                \"code\": \"Timeout\",\n",
            "                \"inner_error\": {\n",
            "                    \"additional_properties\": {},\n",
            "                    \"code\": \"ExperimentTimeoutForIterations\",\n",
            "                    \"inner_error\": null\n",
            "                }\n",
            "            }\n",
            "        }\n",
            "    },\n",
            "    \"correlation\": null,\n",
            "    \"environment\": null,\n",
            "    \"location\": null,\n",
            "    \"time\": {},\n",
            "    \"component_name\": null\n",
            "}\n"
          ]
        },
        {
          "output_type": "stream",
          "name": "stdout",
          "text": [
            "        50   SparseNormalizer XGBoostClassifier             0:00:24          nan    0.9641\n",
            "ERROR: {\n",
            "    \"additional_properties\": {},\n",
            "    \"error\": {\n",
            "        \"additional_properties\": {\n",
            "            \"debugInfo\": null\n",
            "        },\n",
            "        \"code\": \"UserError\",\n",
            "        \"severity\": null,\n",
            "        \"message\": \"Experiment timeout reached, please consider increasing your experiment timeout.\",\n",
            "        \"message_format\": \"Experiment timeout reached, please consider increasing your experiment timeout.\",\n",
            "        \"message_parameters\": {},\n",
            "        \"reference_code\": null,\n",
            "        \"details_uri\": null,\n",
            "        \"target\": null,\n",
            "        \"details\": [],\n",
            "        \"inner_error\": {\n",
            "            \"additional_properties\": {},\n",
            "            \"code\": \"ResourceExhausted\",\n",
            "            \"inner_error\": {\n",
            "                \"additional_properties\": {},\n",
            "                \"code\": \"Timeout\",\n",
            "                \"inner_error\": {\n",
            "                    \"additional_properties\": {},\n",
            "                    \"code\": \"ExperimentTimeoutForIterations\",\n",
            "                    \"inner_error\": null\n",
            "                }\n",
            "            }\n",
            "        }\n",
            "    },\n",
            "    \"correlation\": null,\n",
            "    \"environment\": null,\n",
            "    \"location\": null,\n",
            "    \"time\": {},\n",
            "    \"component_name\": null\n",
            "}\n",
            "        51    VotingEnsemble                                0:01:38       0.9692    0.9692\n",
            "        52    StackEnsemble                                 0:01:38       0.9538    0.9692\n"
          ]
        }
      ],
      "execution_count": 9,
      "metadata": {
        "gather": {
          "logged": 1598431107951
        },
        "jupyter": {
          "outputs_hidden": false,
          "source_hidden": false
        },
        "nteract": {
          "transient": {
            "deleting": false
          }
        }
      }
    },
    {
      "cell_type": "markdown",
      "source": [
        "## Run Details\n",
        "I  use the `RunDetails` widget to show the different experiments."
      ],
      "metadata": {}
    },
    {
      "cell_type": "code",
      "source": [
        "RunDetails(auto_ml_run).show()\n",
        "auto_ml_run.wait_for_completion(show_output=True)"
      ],
      "outputs": [
        {
          "output_type": "display_data",
          "data": {
            "application/vnd.jupyter.widget-view+json": {
              "model_id": "5a9f06b9453d4d25bc830a7abcd84c85",
              "version_major": 2,
              "version_minor": 0
            },
            "text/plain": "_AutoMLWidget(widget_settings={'childWidgetDisplay': 'popup', 'send_telemetry': False, 'log_level': 'INFO', 's…"
          },
          "metadata": {}
        },
        {
          "output_type": "display_data",
          "data": {
            "application/aml.mini.widget.v1": "{\"status\": \"Completed\", \"workbench_run_details_uri\": \"https://ml.azure.com/experiments/Parkinson-classification-AutoML/runs/AutoML_fb271a28-e0a5-487d-8b3d-531bda210902?wsid=/subscriptions/f5091c60-1c3c-430f-8d81-d802f6bf2414/resourcegroups/aml-quickstarts-137242/workspaces/quick-starts-ws-137242\", \"run_id\": \"AutoML_fb271a28-e0a5-487d-8b3d-531bda210902\", \"run_properties\": {\"run_id\": \"AutoML_fb271a28-e0a5-487d-8b3d-531bda210902\", \"created_utc\": \"2021-02-04T16:19:16.421125Z\", \"properties\": {\"num_iterations\": \"1000\", \"training_type\": \"TrainFull\", \"acquisition_function\": \"EI\", \"primary_metric\": \"accuracy\", \"train_split\": \"0\", \"acquisition_parameter\": \"0\", \"num_cross_validation\": \"5\", \"target\": \"cpu-cluster\", \"AMLSettingsJsonString\": \"{\\\"path\\\":null,\\\"name\\\":\\\"Parkinson-classification-AutoML\\\",\\\"subscription_id\\\":\\\"f5091c60-1c3c-430f-8d81-d802f6bf2414\\\",\\\"resource_group\\\":\\\"aml-quickstarts-137242\\\",\\\"workspace_name\\\":\\\"quick-starts-ws-137242\\\",\\\"region\\\":\\\"southcentralus\\\",\\\"compute_target\\\":\\\"cpu-cluster\\\",\\\"spark_service\\\":null,\\\"azure_service\\\":\\\"remote\\\",\\\"many_models\\\":false,\\\"pipeline_fetch_max_batch_size\\\":1,\\\"iterations\\\":1000,\\\"primary_metric\\\":\\\"accuracy\\\",\\\"task_type\\\":\\\"classification\\\",\\\"data_script\\\":null,\\\"validation_size\\\":0.0,\\\"n_cross_validations\\\":5,\\\"y_min\\\":null,\\\"y_max\\\":null,\\\"num_classes\\\":null,\\\"featurization\\\":\\\"auto\\\",\\\"_ignore_package_version_incompatibilities\\\":false,\\\"is_timeseries\\\":false,\\\"max_cores_per_iteration\\\":1,\\\"max_concurrent_iterations\\\":4,\\\"iteration_timeout_minutes\\\":null,\\\"mem_in_mb\\\":null,\\\"enforce_time_on_windows\\\":false,\\\"experiment_timeout_minutes\\\":15,\\\"experiment_exit_score\\\":null,\\\"whitelist_models\\\":null,\\\"blacklist_algos\\\":[\\\"TensorFlowLinearClassifier\\\",\\\"TensorFlowDNN\\\"],\\\"supported_models\\\":[\\\"TensorFlowLinearClassifier\\\",\\\"SGD\\\",\\\"TensorFlowDNN\\\",\\\"DecisionTree\\\",\\\"SVM\\\",\\\"BernoulliNaiveBayes\\\",\\\"AveragedPerceptronClassifier\\\",\\\"MultinomialNaiveBayes\\\",\\\"LightGBM\\\",\\\"RandomForest\\\",\\\"LogisticRegression\\\",\\\"LinearSVM\\\",\\\"KNN\\\",\\\"XGBoostClassifier\\\",\\\"GradientBoosting\\\",\\\"ExtremeRandomTrees\\\"],\\\"auto_blacklist\\\":true,\\\"blacklist_samples_reached\\\":false,\\\"exclude_nan_labels\\\":true,\\\"verbosity\\\":20,\\\"_debug_log\\\":\\\"azureml_automl.log\\\",\\\"show_warnings\\\":false,\\\"model_explainability\\\":true,\\\"service_url\\\":null,\\\"sdk_url\\\":null,\\\"sdk_packages\\\":null,\\\"enable_onnx_compatible_models\\\":false,\\\"enable_split_onnx_featurizer_estimator_models\\\":false,\\\"vm_type\\\":\\\"STANDARD_DS3_V2\\\",\\\"telemetry_verbosity\\\":20,\\\"send_telemetry\\\":true,\\\"enable_dnn\\\":false,\\\"scenario\\\":\\\"SDK-1.13.0\\\",\\\"environment_label\\\":null,\\\"force_text_dnn\\\":false,\\\"enable_feature_sweeping\\\":true,\\\"enable_early_stopping\\\":false,\\\"early_stopping_n_iters\\\":10,\\\"metrics\\\":null,\\\"enable_ensembling\\\":true,\\\"enable_stack_ensembling\\\":true,\\\"ensemble_iterations\\\":15,\\\"enable_tf\\\":false,\\\"enable_subsampling\\\":null,\\\"subsample_seed\\\":null,\\\"enable_nimbusml\\\":false,\\\"enable_streaming\\\":false,\\\"force_streaming\\\":false,\\\"track_child_runs\\\":true,\\\"allowed_private_models\\\":[],\\\"label_column_name\\\":\\\"status\\\",\\\"weight_column_name\\\":null,\\\"cv_split_column_names\\\":null,\\\"enable_local_managed\\\":false,\\\"_local_managed_run_id\\\":null,\\\"cost_mode\\\":1,\\\"lag_length\\\":0,\\\"metric_operation\\\":\\\"maximize\\\",\\\"preprocess\\\":true}\", \"DataPrepJsonString\": \"{\\\\\\\"training_data\\\\\\\": \\\\\\\"{\\\\\\\\\\\\\\\"blocks\\\\\\\\\\\\\\\": [{\\\\\\\\\\\\\\\"id\\\\\\\\\\\\\\\": \\\\\\\\\\\\\\\"075d3872-cd24-4611-9474-e056e9b58f28\\\\\\\\\\\\\\\", \\\\\\\\\\\\\\\"type\\\\\\\\\\\\\\\": \\\\\\\\\\\\\\\"Microsoft.DPrep.GetDatastoreFilesBlock\\\\\\\\\\\\\\\", \\\\\\\\\\\\\\\"arguments\\\\\\\\\\\\\\\": {\\\\\\\\\\\\\\\"datastores\\\\\\\\\\\\\\\": [{\\\\\\\\\\\\\\\"datastoreName\\\\\\\\\\\\\\\": \\\\\\\\\\\\\\\"workspaceblobstore\\\\\\\\\\\\\\\", \\\\\\\\\\\\\\\"path\\\\\\\\\\\\\\\": \\\\\\\\\\\\\\\"data/training_data.csv\\\\\\\\\\\\\\\", \\\\\\\\\\\\\\\"resourceGroup\\\\\\\\\\\\\\\": \\\\\\\\\\\\\\\"aml-quickstarts-137242\\\\\\\\\\\\\\\", \\\\\\\\\\\\\\\"subscription\\\\\\\\\\\\\\\": \\\\\\\\\\\\\\\"f5091c60-1c3c-430f-8d81-d802f6bf2414\\\\\\\\\\\\\\\", \\\\\\\\\\\\\\\"workspaceName\\\\\\\\\\\\\\\": \\\\\\\\\\\\\\\"quick-starts-ws-137242\\\\\\\\\\\\\\\"}]}, \\\\\\\\\\\\\\\"localData\\\\\\\\\\\\\\\": {}, \\\\\\\\\\\\\\\"isEnabled\\\\\\\\\\\\\\\": true, \\\\\\\\\\\\\\\"name\\\\\\\\\\\\\\\": null, \\\\\\\\\\\\\\\"annotation\\\\\\\\\\\\\\\": null}, {\\\\\\\\\\\\\\\"id\\\\\\\\\\\\\\\": \\\\\\\\\\\\\\\"7adbf41d-2825-40ac-971f-df2d7698a21e\\\\\\\\\\\\\\\", \\\\\\\\\\\\\\\"type\\\\\\\\\\\\\\\": \\\\\\\\\\\\\\\"Microsoft.DPrep.ParseDelimitedBlock\\\\\\\\\\\\\\\", \\\\\\\\\\\\\\\"arguments\\\\\\\\\\\\\\\": {\\\\\\\\\\\\\\\"columnHeadersMode\\\\\\\\\\\\\\\": 3, \\\\\\\\\\\\\\\"fileEncoding\\\\\\\\\\\\\\\": 0, \\\\\\\\\\\\\\\"handleQuotedLineBreaks\\\\\\\\\\\\\\\": false, \\\\\\\\\\\\\\\"preview\\\\\\\\\\\\\\\": false, \\\\\\\\\\\\\\\"separator\\\\\\\\\\\\\\\": \\\\\\\\\\\\\\\",\\\\\\\\\\\\\\\", \\\\\\\\\\\\\\\"skipRows\\\\\\\\\\\\\\\": 0, \\\\\\\\\\\\\\\"skipRowsMode\\\\\\\\\\\\\\\": 0}, \\\\\\\\\\\\\\\"localData\\\\\\\\\\\\\\\": {}, \\\\\\\\\\\\\\\"isEnabled\\\\\\\\\\\\\\\": true, \\\\\\\\\\\\\\\"name\\\\\\\\\\\\\\\": null, \\\\\\\\\\\\\\\"annotation\\\\\\\\\\\\\\\": null}, {\\\\\\\\\\\\\\\"id\\\\\\\\\\\\\\\": \\\\\\\\\\\\\\\"54484d9e-f228-4768-8dd3-1df161318fe0\\\\\\\\\\\\\\\", \\\\\\\\\\\\\\\"type\\\\\\\\\\\\\\\": \\\\\\\\\\\\\\\"Microsoft.DPrep.DropColumnsBlock\\\\\\\\\\\\\\\", \\\\\\\\\\\\\\\"arguments\\\\\\\\\\\\\\\": {\\\\\\\\\\\\\\\"columns\\\\\\\\\\\\\\\": {\\\\\\\\\\\\\\\"type\\\\\\\\\\\\\\\": 0, \\\\\\\\\\\\\\\"details\\\\\\\\\\\\\\\": {\\\\\\\\\\\\\\\"selectedColumns\\\\\\\\\\\\\\\": [\\\\\\\\\\\\\\\"Path\\\\\\\\\\\\\\\"]}}}, \\\\\\\\\\\\\\\"localData\\\\\\\\\\\\\\\": {}, \\\\\\\\\\\\\\\"isEnabled\\\\\\\\\\\\\\\": true, \\\\\\\\\\\\\\\"name\\\\\\\\\\\\\\\": null, \\\\\\\\\\\\\\\"annotation\\\\\\\\\\\\\\\": null}, {\\\\\\\\\\\\\\\"id\\\\\\\\\\\\\\\": \\\\\\\\\\\\\\\"6ad6c03b-92cd-4bcb-b41c-07273d62992b\\\\\\\\\\\\\\\", \\\\\\\\\\\\\\\"type\\\\\\\\\\\\\\\": \\\\\\\\\\\\\\\"Microsoft.DPrep.SetColumnTypesBlock\\\\\\\\\\\\\\\", \\\\\\\\\\\\\\\"arguments\\\\\\\\\\\\\\\": {\\\\\\\\\\\\\\\"columnConversion\\\\\\\\\\\\\\\": [{\\\\\\\\\\\\\\\"column\\\\\\\\\\\\\\\": {\\\\\\\\\\\\\\\"type\\\\\\\\\\\\\\\": 2, \\\\\\\\\\\\\\\"details\\\\\\\\\\\\\\\": {\\\\\\\\\\\\\\\"selectedColumn\\\\\\\\\\\\\\\": \\\\\\\\\\\\\\\"Column1\\\\\\\\\\\\\\\"}}, \\\\\\\\\\\\\\\"typeProperty\\\\\\\\\\\\\\\": 2}, {\\\\\\\\\\\\\\\"column\\\\\\\\\\\\\\\": {\\\\\\\\\\\\\\\"type\\\\\\\\\\\\\\\": 2, \\\\\\\\\\\\\\\"details\\\\\\\\\\\\\\\": {\\\\\\\\\\\\\\\"selectedColumn\\\\\\\\\\\\\\\": \\\\\\\\\\\\\\\"MDVP:Fo(Hz)\\\\\\\\\\\\\\\"}}, \\\\\\\\\\\\\\\"typeProperty\\\\\\\\\\\\\\\": 3}, {\\\\\\\\\\\\\\\"column\\\\\\\\\\\\\\\": {\\\\\\\\\\\\\\\"type\\\\\\\\\\\\\\\": 2, \\\\\\\\\\\\\\\"details\\\\\\\\\\\\\\\": {\\\\\\\\\\\\\\\"selectedColumn\\\\\\\\\\\\\\\": \\\\\\\\\\\\\\\"MDVP:Fhi(Hz)\\\\\\\\\\\\\\\"}}, \\\\\\\\\\\\\\\"typeProperty\\\\\\\\\\\\\\\": 3}, {\\\\\\\\\\\\\\\"column\\\\\\\\\\\\\\\": {\\\\\\\\\\\\\\\"type\\\\\\\\\\\\\\\": 2, \\\\\\\\\\\\\\\"details\\\\\\\\\\\\\\\": {\\\\\\\\\\\\\\\"selectedColumn\\\\\\\\\\\\\\\": \\\\\\\\\\\\\\\"MDVP:Flo(Hz)\\\\\\\\\\\\\\\"}}, \\\\\\\\\\\\\\\"typeProperty\\\\\\\\\\\\\\\": 3}, {\\\\\\\\\\\\\\\"column\\\\\\\\\\\\\\\": {\\\\\\\\\\\\\\\"type\\\\\\\\\\\\\\\": 2, \\\\\\\\\\\\\\\"details\\\\\\\\\\\\\\\": {\\\\\\\\\\\\\\\"selectedColumn\\\\\\\\\\\\\\\": \\\\\\\\\\\\\\\"MDVP:Jitter(%)\\\\\\\\\\\\\\\"}}, \\\\\\\\\\\\\\\"typeProperty\\\\\\\\\\\\\\\": 3}, {\\\\\\\\\\\\\\\"column\\\\\\\\\\\\\\\": {\\\\\\\\\\\\\\\"type\\\\\\\\\\\\\\\": 2, \\\\\\\\\\\\\\\"details\\\\\\\\\\\\\\\": {\\\\\\\\\\\\\\\"selectedColumn\\\\\\\\\\\\\\\": \\\\\\\\\\\\\\\"MDVP:Jitter(Abs)\\\\\\\\\\\\\\\"}}, \\\\\\\\\\\\\\\"typeProperty\\\\\\\\\\\\\\\": 3}, {\\\\\\\\\\\\\\\"column\\\\\\\\\\\\\\\": {\\\\\\\\\\\\\\\"type\\\\\\\\\\\\\\\": 2, \\\\\\\\\\\\\\\"details\\\\\\\\\\\\\\\": {\\\\\\\\\\\\\\\"selectedColumn\\\\\\\\\\\\\\\": \\\\\\\\\\\\\\\"MDVP:RAP\\\\\\\\\\\\\\\"}}, \\\\\\\\\\\\\\\"typeProperty\\\\\\\\\\\\\\\": 3}, {\\\\\\\\\\\\\\\"column\\\\\\\\\\\\\\\": {\\\\\\\\\\\\\\\"type\\\\\\\\\\\\\\\": 2, \\\\\\\\\\\\\\\"details\\\\\\\\\\\\\\\": {\\\\\\\\\\\\\\\"selectedColumn\\\\\\\\\\\\\\\": \\\\\\\\\\\\\\\"MDVP:PPQ\\\\\\\\\\\\\\\"}}, \\\\\\\\\\\\\\\"typeProperty\\\\\\\\\\\\\\\": 3}, {\\\\\\\\\\\\\\\"column\\\\\\\\\\\\\\\": {\\\\\\\\\\\\\\\"type\\\\\\\\\\\\\\\": 2, \\\\\\\\\\\\\\\"details\\\\\\\\\\\\\\\": {\\\\\\\\\\\\\\\"selectedColumn\\\\\\\\\\\\\\\": \\\\\\\\\\\\\\\"Jitter:DDP\\\\\\\\\\\\\\\"}}, \\\\\\\\\\\\\\\"typeProperty\\\\\\\\\\\\\\\": 3}, {\\\\\\\\\\\\\\\"column\\\\\\\\\\\\\\\": {\\\\\\\\\\\\\\\"type\\\\\\\\\\\\\\\": 2, \\\\\\\\\\\\\\\"details\\\\\\\\\\\\\\\": {\\\\\\\\\\\\\\\"selectedColumn\\\\\\\\\\\\\\\": \\\\\\\\\\\\\\\"MDVP:Shimmer\\\\\\\\\\\\\\\"}}, \\\\\\\\\\\\\\\"typeProperty\\\\\\\\\\\\\\\": 3}, {\\\\\\\\\\\\\\\"column\\\\\\\\\\\\\\\": {\\\\\\\\\\\\\\\"type\\\\\\\\\\\\\\\": 2, \\\\\\\\\\\\\\\"details\\\\\\\\\\\\\\\": {\\\\\\\\\\\\\\\"selectedColumn\\\\\\\\\\\\\\\": \\\\\\\\\\\\\\\"MDVP:Shimmer(dB)\\\\\\\\\\\\\\\"}}, \\\\\\\\\\\\\\\"typeProperty\\\\\\\\\\\\\\\": 3}, {\\\\\\\\\\\\\\\"column\\\\\\\\\\\\\\\": {\\\\\\\\\\\\\\\"type\\\\\\\\\\\\\\\": 2, \\\\\\\\\\\\\\\"details\\\\\\\\\\\\\\\": {\\\\\\\\\\\\\\\"selectedColumn\\\\\\\\\\\\\\\": \\\\\\\\\\\\\\\"Shimmer:APQ3\\\\\\\\\\\\\\\"}}, \\\\\\\\\\\\\\\"typeProperty\\\\\\\\\\\\\\\": 3}, {\\\\\\\\\\\\\\\"column\\\\\\\\\\\\\\\": {\\\\\\\\\\\\\\\"type\\\\\\\\\\\\\\\": 2, \\\\\\\\\\\\\\\"details\\\\\\\\\\\\\\\": {\\\\\\\\\\\\\\\"selectedColumn\\\\\\\\\\\\\\\": \\\\\\\\\\\\\\\"Shimmer:APQ5\\\\\\\\\\\\\\\"}}, \\\\\\\\\\\\\\\"typeProperty\\\\\\\\\\\\\\\": 3}, {\\\\\\\\\\\\\\\"column\\\\\\\\\\\\\\\": {\\\\\\\\\\\\\\\"type\\\\\\\\\\\\\\\": 2, \\\\\\\\\\\\\\\"details\\\\\\\\\\\\\\\": {\\\\\\\\\\\\\\\"selectedColumn\\\\\\\\\\\\\\\": \\\\\\\\\\\\\\\"MDVP:APQ\\\\\\\\\\\\\\\"}}, \\\\\\\\\\\\\\\"typeProperty\\\\\\\\\\\\\\\": 3}, {\\\\\\\\\\\\\\\"column\\\\\\\\\\\\\\\": {\\\\\\\\\\\\\\\"type\\\\\\\\\\\\\\\": 2, \\\\\\\\\\\\\\\"details\\\\\\\\\\\\\\\": {\\\\\\\\\\\\\\\"selectedColumn\\\\\\\\\\\\\\\": \\\\\\\\\\\\\\\"Shimmer:DDA\\\\\\\\\\\\\\\"}}, \\\\\\\\\\\\\\\"typeProperty\\\\\\\\\\\\\\\": 3}, {\\\\\\\\\\\\\\\"column\\\\\\\\\\\\\\\": {\\\\\\\\\\\\\\\"type\\\\\\\\\\\\\\\": 2, \\\\\\\\\\\\\\\"details\\\\\\\\\\\\\\\": {\\\\\\\\\\\\\\\"selectedColumn\\\\\\\\\\\\\\\": \\\\\\\\\\\\\\\"NHR\\\\\\\\\\\\\\\"}}, \\\\\\\\\\\\\\\"typeProperty\\\\\\\\\\\\\\\": 3}, {\\\\\\\\\\\\\\\"column\\\\\\\\\\\\\\\": {\\\\\\\\\\\\\\\"type\\\\\\\\\\\\\\\": 2, \\\\\\\\\\\\\\\"details\\\\\\\\\\\\\\\": {\\\\\\\\\\\\\\\"selectedColumn\\\\\\\\\\\\\\\": \\\\\\\\\\\\\\\"HNR\\\\\\\\\\\\\\\"}}, \\\\\\\\\\\\\\\"typeProperty\\\\\\\\\\\\\\\": 3}, {\\\\\\\\\\\\\\\"column\\\\\\\\\\\\\\\": {\\\\\\\\\\\\\\\"type\\\\\\\\\\\\\\\": 2, \\\\\\\\\\\\\\\"details\\\\\\\\\\\\\\\": {\\\\\\\\\\\\\\\"selectedColumn\\\\\\\\\\\\\\\": \\\\\\\\\\\\\\\"status\\\\\\\\\\\\\\\"}}, \\\\\\\\\\\\\\\"typeProperty\\\\\\\\\\\\\\\": 2}, {\\\\\\\\\\\\\\\"column\\\\\\\\\\\\\\\": {\\\\\\\\\\\\\\\"type\\\\\\\\\\\\\\\": 2, \\\\\\\\\\\\\\\"details\\\\\\\\\\\\\\\": {\\\\\\\\\\\\\\\"selectedColumn\\\\\\\\\\\\\\\": \\\\\\\\\\\\\\\"RPDE\\\\\\\\\\\\\\\"}}, \\\\\\\\\\\\\\\"typeProperty\\\\\\\\\\\\\\\": 3}, {\\\\\\\\\\\\\\\"column\\\\\\\\\\\\\\\": {\\\\\\\\\\\\\\\"type\\\\\\\\\\\\\\\": 2, \\\\\\\\\\\\\\\"details\\\\\\\\\\\\\\\": {\\\\\\\\\\\\\\\"selectedColumn\\\\\\\\\\\\\\\": \\\\\\\\\\\\\\\"DFA\\\\\\\\\\\\\\\"}}, \\\\\\\\\\\\\\\"typeProperty\\\\\\\\\\\\\\\": 3}, {\\\\\\\\\\\\\\\"column\\\\\\\\\\\\\\\": {\\\\\\\\\\\\\\\"type\\\\\\\\\\\\\\\": 2, \\\\\\\\\\\\\\\"details\\\\\\\\\\\\\\\": {\\\\\\\\\\\\\\\"selectedColumn\\\\\\\\\\\\\\\": \\\\\\\\\\\\\\\"spread1\\\\\\\\\\\\\\\"}}, \\\\\\\\\\\\\\\"typeProperty\\\\\\\\\\\\\\\": 3}, {\\\\\\\\\\\\\\\"column\\\\\\\\\\\\\\\": {\\\\\\\\\\\\\\\"type\\\\\\\\\\\\\\\": 2, \\\\\\\\\\\\\\\"details\\\\\\\\\\\\\\\": {\\\\\\\\\\\\\\\"selectedColumn\\\\\\\\\\\\\\\": \\\\\\\\\\\\\\\"spread2\\\\\\\\\\\\\\\"}}, \\\\\\\\\\\\\\\"typeProperty\\\\\\\\\\\\\\\": 3}, {\\\\\\\\\\\\\\\"column\\\\\\\\\\\\\\\": {\\\\\\\\\\\\\\\"type\\\\\\\\\\\\\\\": 2, \\\\\\\\\\\\\\\"details\\\\\\\\\\\\\\\": {\\\\\\\\\\\\\\\"selectedColumn\\\\\\\\\\\\\\\": \\\\\\\\\\\\\\\"D2\\\\\\\\\\\\\\\"}}, \\\\\\\\\\\\\\\"typeProperty\\\\\\\\\\\\\\\": 3}, {\\\\\\\\\\\\\\\"column\\\\\\\\\\\\\\\": {\\\\\\\\\\\\\\\"type\\\\\\\\\\\\\\\": 2, \\\\\\\\\\\\\\\"details\\\\\\\\\\\\\\\": {\\\\\\\\\\\\\\\"selectedColumn\\\\\\\\\\\\\\\": \\\\\\\\\\\\\\\"PPE\\\\\\\\\\\\\\\"}}, \\\\\\\\\\\\\\\"typeProperty\\\\\\\\\\\\\\\": 3}]}, \\\\\\\\\\\\\\\"localData\\\\\\\\\\\\\\\": {}, \\\\\\\\\\\\\\\"isEnabled\\\\\\\\\\\\\\\": true, \\\\\\\\\\\\\\\"name\\\\\\\\\\\\\\\": null, \\\\\\\\\\\\\\\"annotation\\\\\\\\\\\\\\\": null}], \\\\\\\\\\\\\\\"inspectors\\\\\\\\\\\\\\\": [], \\\\\\\\\\\\\\\"meta\\\\\\\\\\\\\\\": {\\\\\\\\\\\\\\\"savedDatasetId\\\\\\\\\\\\\\\": \\\\\\\\\\\\\\\"b76c49e1-d75d-41b8-9439-71c07f2d6f06\\\\\\\\\\\\\\\", \\\\\\\\\\\\\\\"datasetType\\\\\\\\\\\\\\\": \\\\\\\\\\\\\\\"tabular\\\\\\\\\\\\\\\", \\\\\\\\\\\\\\\"subscriptionId\\\\\\\\\\\\\\\": \\\\\\\\\\\\\\\"f5091c60-1c3c-430f-8d81-d802f6bf2414\\\\\\\\\\\\\\\", \\\\\\\\\\\\\\\"workspaceId\\\\\\\\\\\\\\\": \\\\\\\\\\\\\\\"1e362fd1-bd34-486e-9267-256139be0b2f\\\\\\\\\\\\\\\", \\\\\\\\\\\\\\\"workspaceLocation\\\\\\\\\\\\\\\": \\\\\\\\\\\\\\\"southcentralus\\\\\\\\\\\\\\\"}}\\\\\\\", \\\\\\\"activities\\\\\\\": 0}\", \"EnableSubsampling\": null, \"runTemplate\": \"AutoML\", \"azureml.runsource\": \"automl\", \"display_task_type\": \"classification\", \"dependencies_versions\": \"{\\\"azureml-widgets\\\": \\\"1.20.0\\\", \\\"azureml-train\\\": \\\"1.20.0\\\", \\\"azureml-train-restclients-hyperdrive\\\": \\\"1.20.0\\\", \\\"azureml-train-core\\\": \\\"1.20.0\\\", \\\"azureml-train-automl\\\": \\\"1.20.0\\\", \\\"azureml-train-automl-runtime\\\": \\\"1.20.0\\\", \\\"azureml-train-automl-client\\\": \\\"1.20.0\\\", \\\"azureml-tensorboard\\\": \\\"1.20.0\\\", \\\"azureml-telemetry\\\": \\\"1.20.0\\\", \\\"azureml-sdk\\\": \\\"1.20.0\\\", \\\"azureml-samples\\\": \\\"0+unknown\\\", \\\"azureml-pipeline\\\": \\\"1.20.0\\\", \\\"azureml-pipeline-steps\\\": \\\"1.20.0\\\", \\\"azureml-pipeline-core\\\": \\\"1.20.0\\\", \\\"azureml-opendatasets\\\": \\\"1.20.0\\\", \\\"azureml-model-management-sdk\\\": \\\"1.0.1b6.post1\\\", \\\"azureml-mlflow\\\": \\\"1.20.0.post1\\\", \\\"azureml-interpret\\\": \\\"1.20.0\\\", \\\"azureml-explain-model\\\": \\\"1.20.0\\\", \\\"azureml-defaults\\\": \\\"1.20.0\\\", \\\"azureml-dataset-runtime\\\": \\\"1.20.0\\\", \\\"azureml-dataprep\\\": \\\"2.7.3\\\", \\\"azureml-dataprep-rslex\\\": \\\"1.5.0\\\", \\\"azureml-dataprep-native\\\": \\\"27.0.0\\\", \\\"azureml-datadrift\\\": \\\"1.20.0\\\", \\\"azureml-core\\\": \\\"1.20.0\\\", \\\"azureml-contrib-services\\\": \\\"1.20.0\\\", \\\"azureml-contrib-server\\\": \\\"1.20.0\\\", \\\"azureml-contrib-reinforcementlearning\\\": \\\"1.20.0\\\", \\\"azureml-contrib-pipeline-steps\\\": \\\"1.20.0\\\", \\\"azureml-contrib-notebook\\\": \\\"1.20.0\\\", \\\"azureml-contrib-interpret\\\": \\\"1.20.0\\\", \\\"azureml-contrib-gbdt\\\": \\\"1.20.0\\\", \\\"azureml-contrib-fairness\\\": \\\"1.20.0\\\", \\\"azureml-contrib-dataset\\\": \\\"1.20.0\\\", \\\"azureml-cli-common\\\": \\\"1.20.0\\\", \\\"azureml-automl-runtime\\\": \\\"1.20.0\\\", \\\"azureml-automl-core\\\": \\\"1.20.0\\\", \\\"azureml-accel-models\\\": \\\"1.20.0\\\"}\", \"_aml_system_scenario_identification\": \"Remote.Parent\", \"ClientType\": \"SDK\", \"environment_cpu_name\": \"AzureML-AutoML\", \"environment_cpu_label\": \"prod\", \"environment_gpu_name\": \"AzureML-AutoML-GPU\", \"environment_gpu_label\": \"prod\", \"root_attribution\": \"automl\", \"attribution\": \"AutoML\", \"Orchestrator\": \"AutoML\", \"CancelUri\": \"https://southcentralus.experiments.azureml.net/jasmine/v1.0/subscriptions/f5091c60-1c3c-430f-8d81-d802f6bf2414/resourceGroups/aml-quickstarts-137242/providers/Microsoft.MachineLearningServices/workspaces/quick-starts-ws-137242/experimentids/3920192e-8f87-4c84-b3a1-58cb827a6dcb/cancel/AutoML_fb271a28-e0a5-487d-8b3d-531bda210902\", \"ClientSdkVersion\": \"1.21.0\", \"snapshotId\": \"00000000-0000-0000-0000-000000000000\", \"SetupRunId\": \"AutoML_fb271a28-e0a5-487d-8b3d-531bda210902_setup\", \"SetupRunContainerId\": \"dcid.AutoML_fb271a28-e0a5-487d-8b3d-531bda210902_setup\", \"FeaturizationRunJsonPath\": \"featurizer_container.json\", \"FeaturizationRunId\": \"AutoML_fb271a28-e0a5-487d-8b3d-531bda210902_featurize\", \"ProblemInfoJsonString\": \"{\\\"dataset_num_categorical\\\": 0, \\\"is_sparse\\\": false, \\\"subsampling\\\": false, \\\"dataset_classes\\\": 2, \\\"dataset_features\\\": 23, \\\"dataset_samples\\\": 195, \\\"single_frequency_class_detected\\\": false}\", \"ModelExplainRunId\": \"AutoML_fb271a28-e0a5-487d-8b3d-531bda210902_ModelExplain\"}, \"tags\": {\"model_explain_run\": \"best_run\", \"_aml_system_azureml.automlComponent\": \"AutoML\", \"pipeline_id\": \"\", \"score\": \"\", \"predicted_cost\": \"\", \"fit_time\": \"\", \"training_percent\": \"\", \"iteration\": \"\", \"run_preprocessor\": \"\", \"run_algorithm\": \"\", \"dynamic_whitelisting_iterations\": \"<25>;<30>;<35>;<40>;<45>;<50>;\", \"automl_best_child_run_id\": \"AutoML_fb271a28-e0a5-487d-8b3d-531bda210902_51\"}, \"end_time_utc\": \"2021-02-04T16:44:18.044724Z\", \"status\": \"Completed\", \"log_files\": {}, \"log_groups\": [], \"run_duration\": \"0:25:01\"}, \"child_runs\": [{\"run_id\": \"AutoML_fb271a28-e0a5-487d-8b3d-531bda210902_0\", \"run_number\": 6, \"metric\": null, \"status\": \"Completed\", \"run_type\": \"azureml.scriptrun\", \"training_percent\": \"100\", \"start_time\": \"2021-02-04T16:27:50.323021Z\", \"end_time\": \"2021-02-04T16:28:48.235564Z\", \"created_time\": \"2021-02-04T16:26:48.969578Z\", \"created_time_dt\": \"2021-02-04T16:26:48.969578Z\", \"duration\": \"0:01:59\", \"iteration\": \"0\", \"goal\": \"accuracy_max\", \"run_name\": \"MaxAbsScaler, LightGBM\", \"run_properties\": \"copy=True\", \"primary_metric\": 0.96410256, \"best_metric\": 0.96410256}, {\"run_id\": \"AutoML_fb271a28-e0a5-487d-8b3d-531bda210902_2\", \"run_number\": 7, \"metric\": null, \"status\": \"Completed\", \"run_type\": \"azureml.scriptrun\", \"training_percent\": \"100\", \"start_time\": \"2021-02-04T16:28:24.230423Z\", \"end_time\": \"2021-02-04T16:30:26.97775Z\", \"created_time\": \"2021-02-04T16:26:49.103323Z\", \"created_time_dt\": \"2021-02-04T16:26:49.103323Z\", \"duration\": \"0:03:37\", \"iteration\": \"2\", \"goal\": \"accuracy_max\", \"run_name\": \"MinMaxScaler, RandomForest\", \"run_properties\": \"copy=True, feature_range=(0, 1\", \"primary_metric\": 0.93333333, \"best_metric\": 0.96410256}, {\"run_id\": \"AutoML_fb271a28-e0a5-487d-8b3d-531bda210902_1\", \"run_number\": 8, \"metric\": null, \"status\": \"Completed\", \"run_type\": \"azureml.scriptrun\", \"training_percent\": \"100\", \"start_time\": \"2021-02-04T16:27:00.025133Z\", \"end_time\": \"2021-02-04T16:27:43.104601Z\", \"created_time\": \"2021-02-04T16:26:49.10323Z\", \"created_time_dt\": \"2021-02-04T16:26:49.10323Z\", \"duration\": \"0:00:54\", \"iteration\": \"1\", \"goal\": \"accuracy_max\", \"run_name\": \"MaxAbsScaler, XGBoostClassifier\", \"run_properties\": \"copy=True\", \"primary_metric\": 0.96410256, \"best_metric\": 0.96410256}, {\"run_id\": \"AutoML_fb271a28-e0a5-487d-8b3d-531bda210902_3\", \"run_number\": 9, \"metric\": null, \"status\": \"Completed\", \"run_type\": \"azureml.scriptrun\", \"training_percent\": \"100\", \"start_time\": \"2021-02-04T16:28:24.1428Z\", \"end_time\": \"2021-02-04T16:30:26.136062Z\", \"created_time\": \"2021-02-04T16:26:49.106198Z\", \"created_time_dt\": \"2021-02-04T16:26:49.106198Z\", \"duration\": \"0:03:37\", \"iteration\": \"3\", \"goal\": \"accuracy_max\", \"run_name\": \"MinMaxScaler, RandomForest\", \"run_properties\": \"copy=True, feature_range=(0, 1\", \"primary_metric\": 0.87692308, \"best_metric\": 0.96410256}, {\"run_id\": \"AutoML_fb271a28-e0a5-487d-8b3d-531bda210902_4\", \"run_number\": 10, \"metric\": null, \"status\": \"Completed\", \"run_type\": \"azureml.scriptrun\", \"training_percent\": \"100\", \"start_time\": \"2021-02-04T16:28:25.932233Z\", \"end_time\": \"2021-02-04T16:30:37.088252Z\", \"created_time\": \"2021-02-04T16:27:45.020187Z\", \"created_time_dt\": \"2021-02-04T16:27:45.020187Z\", \"duration\": \"0:02:52\", \"iteration\": \"4\", \"goal\": \"accuracy_max\", \"run_name\": \"MinMaxScaler, RandomForest\", \"run_properties\": \"copy=True, feature_range=(0, 1\", \"primary_metric\": 0.90769231, \"best_metric\": 0.96410256}, {\"run_id\": \"AutoML_fb271a28-e0a5-487d-8b3d-531bda210902_5\", \"run_number\": 11, \"metric\": null, \"status\": \"Completed\", \"run_type\": \"azureml.scriptrun\", \"training_percent\": \"100\", \"start_time\": \"2021-02-04T16:29:01.711379Z\", \"end_time\": \"2021-02-04T16:29:52.230897Z\", \"created_time\": \"2021-02-04T16:28:49.379855Z\", \"created_time_dt\": \"2021-02-04T16:28:49.379855Z\", \"duration\": \"0:01:02\", \"iteration\": \"5\", \"goal\": \"accuracy_max\", \"run_name\": \"StandardScalerWrapper, LightGBM\", \"run_properties\": \"<azureml.automl.runtime.shared.model_wrappers.StandardScalerWrapper object at 0x7fe4fd3fe1d0\", \"primary_metric\": 0.93846154, \"best_metric\": 0.96410256}, {\"run_id\": \"AutoML_fb271a28-e0a5-487d-8b3d-531bda210902_6\", \"run_number\": 12, \"metric\": null, \"status\": \"Completed\", \"run_type\": \"azureml.scriptrun\", \"training_percent\": \"100\", \"start_time\": \"2021-02-04T16:30:08.036803Z\", \"end_time\": \"2021-02-04T16:30:59.932518Z\", \"created_time\": \"2021-02-04T16:29:55.21464Z\", \"created_time_dt\": \"2021-02-04T16:29:55.21464Z\", \"duration\": \"0:01:04\", \"iteration\": \"6\", \"goal\": \"accuracy_max\", \"run_name\": \"StandardScalerWrapper, XGBoostClassifier\", \"run_properties\": \"<azureml.automl.runtime.shared.model_wrappers.StandardScalerWrapper object at 0x7fa4e6182eb8\", \"primary_metric\": 0.94358974, \"best_metric\": 0.96410256}, {\"run_id\": \"AutoML_fb271a28-e0a5-487d-8b3d-531bda210902_7\", \"run_number\": 13, \"metric\": null, \"status\": \"Completed\", \"run_type\": \"azureml.scriptrun\", \"training_percent\": \"100\", \"start_time\": \"2021-02-04T16:30:40.342775Z\", \"end_time\": \"2021-02-04T16:31:39.313736Z\", \"created_time\": \"2021-02-04T16:30:28.398432Z\", \"created_time_dt\": \"2021-02-04T16:30:28.398432Z\", \"duration\": \"0:01:10\", \"iteration\": \"7\", \"goal\": \"accuracy_max\", \"run_name\": \"MinMaxScaler, SVM\", \"run_properties\": \"copy=True, feature_range=(0, 1\", \"primary_metric\": 0.95897436, \"best_metric\": 0.96410256}, {\"run_id\": \"AutoML_fb271a28-e0a5-487d-8b3d-531bda210902_8\", \"run_number\": 14, \"metric\": null, \"status\": \"Completed\", \"run_type\": \"azureml.scriptrun\", \"training_percent\": \"100\", \"start_time\": \"2021-02-04T16:30:42.092629Z\", \"end_time\": \"2021-02-04T16:31:26.027925Z\", \"created_time\": \"2021-02-04T16:30:32.17192Z\", \"created_time_dt\": \"2021-02-04T16:30:32.17192Z\", \"duration\": \"0:00:53\", \"iteration\": \"8\", \"goal\": \"accuracy_max\", \"run_name\": \"SparseNormalizer, XGBoostClassifier\", \"run_properties\": \"<azureml.automl.runtime.shared.model_wrappers.SparseNormalizer object at 0x7fa8c05e5c50\", \"primary_metric\": 0.93333333, \"best_metric\": 0.96410256}, {\"run_id\": \"AutoML_fb271a28-e0a5-487d-8b3d-531bda210902_9\", \"run_number\": 15, \"metric\": null, \"status\": \"Completed\", \"run_type\": \"azureml.scriptrun\", \"training_percent\": \"100\", \"start_time\": \"2021-02-04T16:30:51.813569Z\", \"end_time\": \"2021-02-04T16:31:38.078284Z\", \"created_time\": \"2021-02-04T16:30:39.202893Z\", \"created_time_dt\": \"2021-02-04T16:30:39.202893Z\", \"duration\": \"0:00:58\", \"iteration\": \"9\", \"goal\": \"accuracy_max\", \"run_name\": \"SparseNormalizer, XGBoostClassifier\", \"run_properties\": \"<azureml.automl.runtime.shared.model_wrappers.SparseNormalizer object at 0x7f443aaa22e8\", \"primary_metric\": 0.94358974, \"best_metric\": 0.96410256}, {\"run_id\": \"AutoML_fb271a28-e0a5-487d-8b3d-531bda210902_10\", \"run_number\": 16, \"metric\": null, \"status\": \"Completed\", \"run_type\": \"azureml.scriptrun\", \"training_percent\": \"100\", \"start_time\": \"2021-02-04T16:31:11.66324Z\", \"end_time\": \"2021-02-04T16:31:56.429459Z\", \"created_time\": \"2021-02-04T16:31:01.721666Z\", \"created_time_dt\": \"2021-02-04T16:31:01.721666Z\", \"duration\": \"0:00:54\", \"iteration\": \"10\", \"goal\": \"accuracy_max\", \"run_name\": \"SparseNormalizer, XGBoostClassifier\", \"run_properties\": \"<azureml.automl.runtime.shared.model_wrappers.SparseNormalizer object at 0x7fc1b43204e0\", \"primary_metric\": 0.93333333, \"best_metric\": 0.96410256}, {\"run_id\": \"AutoML_fb271a28-e0a5-487d-8b3d-531bda210902_11\", \"run_number\": 17, \"metric\": null, \"status\": \"Completed\", \"run_type\": \"azureml.scriptrun\", \"training_percent\": \"100\", \"start_time\": \"2021-02-04T16:31:37.796318Z\", \"end_time\": \"2021-02-04T16:32:31.275133Z\", \"created_time\": \"2021-02-04T16:31:27.812928Z\", \"created_time_dt\": \"2021-02-04T16:31:27.812928Z\", \"duration\": \"0:01:03\", \"iteration\": \"11\", \"goal\": \"accuracy_max\", \"run_name\": \"RobustScaler, SVM\", \"run_properties\": \"copy=True, quantile_range=[10, 90], with_centering=True,\\n             with_scaling=True\", \"primary_metric\": 0.95384615, \"best_metric\": 0.96410256}, {\"run_id\": \"AutoML_fb271a28-e0a5-487d-8b3d-531bda210902_12\", \"run_number\": 18, \"metric\": null, \"status\": \"Completed\", \"run_type\": \"azureml.scriptrun\", \"training_percent\": \"100\", \"start_time\": \"2021-02-04T16:31:50.016892Z\", \"end_time\": \"2021-02-04T16:32:37.531114Z\", \"created_time\": \"2021-02-04T16:31:39.964913Z\", \"created_time_dt\": \"2021-02-04T16:31:39.964913Z\", \"duration\": \"0:00:57\", \"iteration\": \"12\", \"goal\": \"accuracy_max\", \"run_name\": \"StandardScalerWrapper, RandomForest\", \"run_properties\": \"<azureml.automl.runtime.shared.model_wrappers.StandardScalerWrapper object at 0x7f638c32ca20\", \"primary_metric\": 0.92307692, \"best_metric\": 0.96410256}, {\"run_id\": \"AutoML_fb271a28-e0a5-487d-8b3d-531bda210902_13\", \"run_number\": 19, \"metric\": null, \"status\": \"Completed\", \"run_type\": \"azureml.scriptrun\", \"training_percent\": \"100\", \"start_time\": \"2021-02-04T16:31:55.301996Z\", \"end_time\": \"2021-02-04T16:32:46.776357Z\", \"created_time\": \"2021-02-04T16:31:42.783703Z\", \"created_time_dt\": \"2021-02-04T16:31:42.783703Z\", \"duration\": \"0:01:03\", \"iteration\": \"13\", \"goal\": \"accuracy_max\", \"run_name\": \"MaxAbsScaler, LightGBM\", \"run_properties\": \"copy=True\", \"primary_metric\": 0.9025641, \"best_metric\": 0.96410256}, {\"run_id\": \"AutoML_fb271a28-e0a5-487d-8b3d-531bda210902_14\", \"run_number\": 20, \"metric\": null, \"status\": \"Completed\", \"run_type\": \"azureml.scriptrun\", \"training_percent\": \"100\", \"start_time\": \"2021-02-04T16:32:12.35879Z\", \"end_time\": \"2021-02-04T16:32:59.950864Z\", \"created_time\": \"2021-02-04T16:31:58.089117Z\", \"created_time_dt\": \"2021-02-04T16:31:58.089117Z\", \"duration\": \"0:01:01\", \"iteration\": \"14\", \"goal\": \"accuracy_max\", \"run_name\": \"MaxAbsScaler, LightGBM\", \"run_properties\": \"copy=True\", \"primary_metric\": 0.8974359, \"best_metric\": 0.96410256}, {\"run_id\": \"AutoML_fb271a28-e0a5-487d-8b3d-531bda210902_15\", \"run_number\": 21, \"metric\": null, \"status\": \"Completed\", \"run_type\": \"azureml.scriptrun\", \"training_percent\": \"100\", \"start_time\": \"2021-02-04T16:32:45.786386Z\", \"end_time\": \"2021-02-04T16:33:32.27728Z\", \"created_time\": \"2021-02-04T16:32:33.156371Z\", \"created_time_dt\": \"2021-02-04T16:32:33.156371Z\", \"duration\": \"0:00:59\", \"iteration\": \"15\", \"goal\": \"accuracy_max\", \"run_name\": \"StandardScalerWrapper, LightGBM\", \"run_properties\": \"<azureml.automl.runtime.shared.model_wrappers.StandardScalerWrapper object at 0x7f877f162f98\", \"primary_metric\": 0.94358974, \"best_metric\": 0.96410256}, {\"run_id\": \"AutoML_fb271a28-e0a5-487d-8b3d-531bda210902_16\", \"run_number\": 22, \"metric\": null, \"status\": \"Completed\", \"run_type\": \"azureml.scriptrun\", \"training_percent\": \"100\", \"start_time\": \"2021-02-04T16:32:51.263698Z\", \"end_time\": \"2021-02-04T16:33:43.521609Z\", \"created_time\": \"2021-02-04T16:32:39.361795Z\", \"created_time_dt\": \"2021-02-04T16:32:39.361795Z\", \"duration\": \"0:01:04\", \"iteration\": \"16\", \"goal\": \"accuracy_max\", \"run_name\": \"MaxAbsScaler, ExtremeRandomTrees\", \"run_properties\": \"copy=True\", \"primary_metric\": 0.89230769, \"best_metric\": 0.96410256}, {\"run_id\": \"AutoML_fb271a28-e0a5-487d-8b3d-531bda210902_17\", \"run_number\": 23, \"metric\": null, \"status\": \"Completed\", \"run_type\": \"azureml.scriptrun\", \"training_percent\": \"100\", \"start_time\": \"2021-02-04T16:32:59.180443Z\", \"end_time\": \"2021-02-04T16:34:02.037199Z\", \"created_time\": \"2021-02-04T16:32:48.364293Z\", \"created_time_dt\": \"2021-02-04T16:32:48.364293Z\", \"duration\": \"0:01:13\", \"iteration\": \"17\", \"goal\": \"accuracy_max\", \"run_name\": \"StandardScalerWrapper, ExtremeRandomTrees\", \"run_properties\": \"<azureml.automl.runtime.shared.model_wrappers.StandardScalerWrapper object at 0x7fa18f080358\", \"primary_metric\": 0.88205128, \"best_metric\": 0.96410256}, {\"run_id\": \"AutoML_fb271a28-e0a5-487d-8b3d-531bda210902_18\", \"run_number\": 24, \"metric\": null, \"status\": \"Completed\", \"run_type\": \"azureml.scriptrun\", \"training_percent\": \"100\", \"start_time\": \"2021-02-04T16:33:11.772836Z\", \"end_time\": \"2021-02-04T16:34:05.575814Z\", \"created_time\": \"2021-02-04T16:33:01.61534Z\", \"created_time_dt\": \"2021-02-04T16:33:01.61534Z\", \"duration\": \"0:01:03\", \"iteration\": \"18\", \"goal\": \"accuracy_max\", \"run_name\": \"StandardScalerWrapper, LogisticRegression\", \"run_properties\": \"<azureml.automl.runtime.shared.model_wrappers.StandardScalerWrapper object at 0x7fe3a32f3128\", \"primary_metric\": 0.84102564, \"best_metric\": 0.96410256}, {\"run_id\": \"AutoML_fb271a28-e0a5-487d-8b3d-531bda210902_19\", \"run_number\": 25, \"metric\": null, \"status\": \"Completed\", \"run_type\": \"azureml.scriptrun\", \"training_percent\": \"100\", \"start_time\": \"2021-02-04T16:33:46.404833Z\", \"end_time\": \"2021-02-04T16:34:38.478279Z\", \"created_time\": \"2021-02-04T16:33:34.111073Z\", \"created_time_dt\": \"2021-02-04T16:33:34.111073Z\", \"duration\": \"0:01:04\", \"iteration\": \"19\", \"goal\": \"accuracy_max\", \"run_name\": \"RobustScaler, LightGBM\", \"run_properties\": \"copy=True, quantile_range=[25, 75], with_centering=True,\\n             with_scaling=False\", \"primary_metric\": 0.94358974, \"best_metric\": 0.96410256}, {\"run_id\": \"AutoML_fb271a28-e0a5-487d-8b3d-531bda210902_20\", \"run_number\": 26, \"metric\": null, \"status\": \"Completed\", \"run_type\": \"azureml.scriptrun\", \"training_percent\": \"100\", \"start_time\": \"2021-02-04T16:33:57.426534Z\", \"end_time\": \"2021-02-04T16:34:46.325082Z\", \"created_time\": \"2021-02-04T16:33:45.226335Z\", \"created_time_dt\": \"2021-02-04T16:33:45.226335Z\", \"duration\": \"0:01:01\", \"iteration\": \"20\", \"goal\": \"accuracy_max\", \"run_name\": \"StandardScalerWrapper, LightGBM\", \"run_properties\": \"<azureml.automl.runtime.shared.model_wrappers.StandardScalerWrapper object at 0x7f9415595978\", \"primary_metric\": 0.92820513, \"best_metric\": 0.96410256}, {\"run_id\": \"AutoML_fb271a28-e0a5-487d-8b3d-531bda210902_21\", \"run_number\": 27, \"metric\": null, \"status\": \"Completed\", \"run_type\": \"azureml.scriptrun\", \"training_percent\": \"100\", \"start_time\": \"2021-02-04T16:34:15.992954Z\", \"end_time\": \"2021-02-04T16:35:05.043447Z\", \"created_time\": \"2021-02-04T16:34:03.675774Z\", \"created_time_dt\": \"2021-02-04T16:34:03.675774Z\", \"duration\": \"0:01:01\", \"iteration\": \"21\", \"goal\": \"accuracy_max\", \"run_name\": \"StandardScalerWrapper, LogisticRegression\", \"run_properties\": \"<azureml.automl.runtime.shared.model_wrappers.StandardScalerWrapper object at 0x7fdb639d5278\", \"primary_metric\": 0.83076923, \"best_metric\": 0.96410256}, {\"run_id\": \"AutoML_fb271a28-e0a5-487d-8b3d-531bda210902_22\", \"run_number\": 28, \"metric\": null, \"status\": \"Completed\", \"run_type\": \"azureml.scriptrun\", \"training_percent\": \"100\", \"start_time\": \"2021-02-04T16:34:17.891026Z\", \"end_time\": \"2021-02-04T16:35:08.411891Z\", \"created_time\": \"2021-02-04T16:34:07.489983Z\", \"created_time_dt\": \"2021-02-04T16:34:07.489983Z\", \"duration\": \"0:01:00\", \"iteration\": \"22\", \"goal\": \"accuracy_max\", \"run_name\": \"SparseNormalizer, XGBoostClassifier\", \"run_properties\": \"<azureml.automl.runtime.shared.model_wrappers.SparseNormalizer object at 0x7fcc5c7d4b38\", \"primary_metric\": 0.8974359, \"best_metric\": 0.96410256}, {\"run_id\": \"AutoML_fb271a28-e0a5-487d-8b3d-531bda210902_23\", \"run_number\": 29, \"metric\": null, \"status\": \"Completed\", \"run_type\": \"azureml.scriptrun\", \"training_percent\": \"100\", \"start_time\": \"2021-02-04T16:34:52.837275Z\", \"end_time\": \"2021-02-04T16:35:41.068098Z\", \"created_time\": \"2021-02-04T16:34:40.197302Z\", \"created_time_dt\": \"2021-02-04T16:34:40.197302Z\", \"duration\": \"0:01:00\", \"iteration\": \"23\", \"goal\": \"accuracy_max\", \"run_name\": \"StandardScalerWrapper, XGBoostClassifier\", \"run_properties\": \"<azureml.automl.runtime.shared.model_wrappers.StandardScalerWrapper object at 0x7fa5ac438d68\", \"primary_metric\": 0.86153846, \"best_metric\": 0.96410256}, {\"run_id\": \"AutoML_fb271a28-e0a5-487d-8b3d-531bda210902_24\", \"run_number\": 30, \"metric\": null, \"status\": \"Completed\", \"run_type\": \"azureml.scriptrun\", \"training_percent\": \"100\", \"start_time\": \"2021-02-04T16:35:00.552541Z\", \"end_time\": \"2021-02-04T16:35:49.897466Z\", \"created_time\": \"2021-02-04T16:34:48.067789Z\", \"created_time_dt\": \"2021-02-04T16:34:48.067789Z\", \"duration\": \"0:01:01\", \"iteration\": \"24\", \"goal\": \"accuracy_max\", \"run_name\": \"SparseNormalizer, XGBoostClassifier\", \"run_properties\": \"<azureml.automl.runtime.shared.model_wrappers.SparseNormalizer object at 0x7f20b0bb46a0\", \"primary_metric\": 0.9025641, \"best_metric\": 0.96410256}, {\"run_id\": \"AutoML_fb271a28-e0a5-487d-8b3d-531bda210902_25\", \"run_number\": 31, \"metric\": null, \"status\": \"Completed\", \"run_type\": \"azureml.scriptrun\", \"training_percent\": \"100\", \"start_time\": \"2021-02-04T16:35:20.008707Z\", \"end_time\": \"2021-02-04T16:36:14.945007Z\", \"created_time\": \"2021-02-04T16:35:07.490627Z\", \"created_time_dt\": \"2021-02-04T16:35:07.490627Z\", \"duration\": \"0:01:07\", \"iteration\": \"25\", \"goal\": \"accuracy_max\", \"run_name\": \"SparseNormalizer, XGBoostClassifier\", \"run_properties\": \"<azureml.automl.runtime.shared.model_wrappers.SparseNormalizer object at 0x7f2a338cd668\", \"primary_metric\": 0.75384615, \"best_metric\": 0.96410256}, {\"run_id\": \"AutoML_fb271a28-e0a5-487d-8b3d-531bda210902_26\", \"run_number\": 32, \"metric\": null, \"status\": \"Completed\", \"run_type\": \"azureml.scriptrun\", \"training_percent\": \"100\", \"start_time\": \"2021-02-04T16:35:23.071745Z\", \"end_time\": \"2021-02-04T16:36:09.217751Z\", \"created_time\": \"2021-02-04T16:35:10.96067Z\", \"created_time_dt\": \"2021-02-04T16:35:10.96067Z\", \"duration\": \"0:00:58\", \"iteration\": \"26\", \"goal\": \"accuracy_max\", \"run_name\": \"StandardScalerWrapper, RandomForest\", \"run_properties\": \"<azureml.automl.runtime.shared.model_wrappers.StandardScalerWrapper object at 0x7efc51a4bbe0\", \"primary_metric\": 0.87179487, \"best_metric\": 0.96410256}, {\"run_id\": \"AutoML_fb271a28-e0a5-487d-8b3d-531bda210902_27\", \"run_number\": 33, \"metric\": null, \"status\": \"Completed\", \"run_type\": \"azureml.scriptrun\", \"training_percent\": \"100\", \"start_time\": \"2021-02-04T16:35:55.021515Z\", \"end_time\": \"2021-02-04T16:36:48.198517Z\", \"created_time\": \"2021-02-04T16:35:43.175672Z\", \"created_time_dt\": \"2021-02-04T16:35:43.175672Z\", \"duration\": \"0:01:05\", \"iteration\": \"27\", \"goal\": \"accuracy_max\", \"run_name\": \"RobustScaler, RandomForest\", \"run_properties\": \"copy=True, quantile_range=[25, 75], with_centering=True,\\n             with_scaling=True\", \"primary_metric\": 0.87692308, \"best_metric\": 0.96410256}, {\"run_id\": \"AutoML_fb271a28-e0a5-487d-8b3d-531bda210902_28\", \"run_number\": 34, \"metric\": null, \"status\": \"Completed\", \"run_type\": \"azureml.scriptrun\", \"training_percent\": \"100\", \"start_time\": \"2021-02-04T16:36:36.972139Z\", \"end_time\": \"2021-02-04T16:37:23.759107Z\", \"created_time\": \"2021-02-04T16:35:51.461619Z\", \"created_time_dt\": \"2021-02-04T16:35:51.461619Z\", \"duration\": \"0:01:32\", \"iteration\": \"28\", \"goal\": \"accuracy_max\", \"run_name\": \"MaxAbsScaler, RandomForest\", \"run_properties\": \"copy=True\", \"primary_metric\": 0.85128205, \"best_metric\": 0.96410256}, {\"run_id\": \"AutoML_fb271a28-e0a5-487d-8b3d-531bda210902_29\", \"run_number\": 35, \"metric\": null, \"status\": \"Completed\", \"run_type\": \"azureml.scriptrun\", \"training_percent\": \"100\", \"start_time\": \"2021-02-04T16:36:25.736383Z\", \"end_time\": \"2021-02-04T16:37:17.711327Z\", \"created_time\": \"2021-02-04T16:36:11.008235Z\", \"created_time_dt\": \"2021-02-04T16:36:11.008235Z\", \"duration\": \"0:01:06\", \"iteration\": \"29\", \"goal\": \"accuracy_max\", \"run_name\": \"StandardScalerWrapper, LightGBM\", \"run_properties\": \"<azureml.automl.runtime.shared.model_wrappers.StandardScalerWrapper object at 0x7fb7c5b79550\", \"primary_metric\": 0.92307692, \"best_metric\": 0.96410256}, {\"run_id\": \"AutoML_fb271a28-e0a5-487d-8b3d-531bda210902_30\", \"run_number\": 36, \"metric\": null, \"status\": \"Completed\", \"run_type\": \"azureml.scriptrun\", \"training_percent\": \"100\", \"start_time\": \"2021-02-04T16:36:31.043364Z\", \"end_time\": \"2021-02-04T16:37:17.219134Z\", \"created_time\": \"2021-02-04T16:36:18.033321Z\", \"created_time_dt\": \"2021-02-04T16:36:18.033321Z\", \"duration\": \"0:00:59\", \"iteration\": \"30\", \"goal\": \"accuracy_max\", \"run_name\": \"SparseNormalizer, XGBoostClassifier\", \"run_properties\": \"<azureml.automl.runtime.shared.model_wrappers.SparseNormalizer object at 0x7fc3a9295e10\", \"primary_metric\": 0.87692308, \"best_metric\": 0.96410256}, {\"run_id\": \"AutoML_fb271a28-e0a5-487d-8b3d-531bda210902_31\", \"run_number\": 37, \"metric\": null, \"status\": \"Completed\", \"run_type\": \"azureml.scriptrun\", \"training_percent\": \"100\", \"start_time\": \"2021-02-04T16:37:01.246158Z\", \"end_time\": \"2021-02-04T16:37:49.156249Z\", \"created_time\": \"2021-02-04T16:36:49.978037Z\", \"created_time_dt\": \"2021-02-04T16:36:49.978037Z\", \"duration\": \"0:00:59\", \"iteration\": \"31\", \"goal\": \"accuracy_max\", \"run_name\": \"StandardScalerWrapper, XGBoostClassifier\", \"run_properties\": \"<azureml.automl.runtime.shared.model_wrappers.StandardScalerWrapper object at 0x7f6694ee06a0\", \"primary_metric\": 0.8974359, \"best_metric\": 0.96410256}, {\"run_id\": \"AutoML_fb271a28-e0a5-487d-8b3d-531bda210902_33\", \"run_number\": 38, \"metric\": null, \"status\": \"Completed\", \"run_type\": \"azureml.scriptrun\", \"training_percent\": \"100\", \"start_time\": \"2021-02-04T16:37:31.644125Z\", \"end_time\": \"2021-02-04T16:38:17.479954Z\", \"created_time\": \"2021-02-04T16:37:19.418202Z\", \"created_time_dt\": \"2021-02-04T16:37:19.418202Z\", \"duration\": \"0:00:58\", \"iteration\": \"33\", \"goal\": \"accuracy_max\", \"run_name\": \"MinMaxScaler, LightGBM\", \"run_properties\": \"copy=True, feature_range=(0, 1\", \"primary_metric\": 0.94871795, \"best_metric\": 0.96410256}, {\"run_id\": \"AutoML_fb271a28-e0a5-487d-8b3d-531bda210902_32\", \"run_number\": 39, \"metric\": null, \"status\": \"Completed\", \"run_type\": \"azureml.scriptrun\", \"training_percent\": \"100\", \"start_time\": \"2021-02-04T16:37:33.324934Z\", \"end_time\": \"2021-02-04T16:38:19.637605Z\", \"created_time\": \"2021-02-04T16:37:19.455334Z\", \"created_time_dt\": \"2021-02-04T16:37:19.455334Z\", \"duration\": \"0:01:00\", \"iteration\": \"32\", \"goal\": \"accuracy_max\", \"run_name\": \"SparseNormalizer, XGBoostClassifier\", \"run_properties\": \"<azureml.automl.runtime.shared.model_wrappers.SparseNormalizer object at 0x7fa55e360748\", \"primary_metric\": 0.91794872, \"best_metric\": 0.96410256}, {\"run_id\": \"AutoML_fb271a28-e0a5-487d-8b3d-531bda210902_34\", \"run_number\": 40, \"metric\": null, \"status\": \"Completed\", \"run_type\": \"azureml.scriptrun\", \"training_percent\": \"100\", \"start_time\": \"2021-02-04T16:37:36.885962Z\", \"end_time\": \"2021-02-04T16:38:27.226401Z\", \"created_time\": \"2021-02-04T16:37:25.622797Z\", \"created_time_dt\": \"2021-02-04T16:37:25.622797Z\", \"duration\": \"0:01:01\", \"iteration\": \"34\", \"goal\": \"accuracy_max\", \"run_name\": \"SparseNormalizer, XGBoostClassifier\", \"run_properties\": \"<azureml.automl.runtime.shared.model_wrappers.SparseNormalizer object at 0x7f078c117f28\", \"primary_metric\": 0.94358974, \"best_metric\": 0.96410256}, {\"run_id\": \"AutoML_fb271a28-e0a5-487d-8b3d-531bda210902_35\", \"run_number\": 41, \"metric\": null, \"status\": \"Completed\", \"run_type\": \"azureml.scriptrun\", \"training_percent\": \"100\", \"start_time\": \"2021-02-04T16:38:02.143699Z\", \"end_time\": \"2021-02-04T16:38:46.874086Z\", \"created_time\": \"2021-02-04T16:37:51.929112Z\", \"created_time_dt\": \"2021-02-04T16:37:51.929112Z\", \"duration\": \"0:00:54\", \"iteration\": \"35\", \"goal\": \"accuracy_max\", \"run_name\": \"SparseNormalizer, XGBoostClassifier\", \"run_properties\": \"<azureml.automl.runtime.shared.model_wrappers.SparseNormalizer object at 0x7f0c8e796588\", \"primary_metric\": 0.91282051, \"best_metric\": 0.96410256}, {\"run_id\": \"AutoML_fb271a28-e0a5-487d-8b3d-531bda210902_36\", \"run_number\": 42, \"metric\": null, \"status\": \"Completed\", \"run_type\": \"azureml.scriptrun\", \"training_percent\": \"100\", \"start_time\": \"2021-02-04T16:38:31.327473Z\", \"end_time\": \"2021-02-04T16:39:14.611258Z\", \"created_time\": \"2021-02-04T16:38:19.333611Z\", \"created_time_dt\": \"2021-02-04T16:38:19.333611Z\", \"duration\": \"0:00:55\", \"iteration\": \"36\", \"goal\": \"accuracy_max\", \"run_name\": \"SparseNormalizer, XGBoostClassifier\", \"run_properties\": \"<azureml.automl.runtime.shared.model_wrappers.SparseNormalizer object at 0x7f83986bf0f0\", \"primary_metric\": 0.88205128, \"best_metric\": 0.96410256}, {\"run_id\": \"AutoML_fb271a28-e0a5-487d-8b3d-531bda210902_37\", \"run_number\": 43, \"metric\": null, \"status\": \"Completed\", \"run_type\": \"azureml.scriptrun\", \"training_percent\": \"100\", \"start_time\": \"2021-02-04T16:38:34.940301Z\", \"end_time\": \"2021-02-04T16:39:23.792553Z\", \"created_time\": \"2021-02-04T16:38:22.541458Z\", \"created_time_dt\": \"2021-02-04T16:38:22.541458Z\", \"duration\": \"0:01:01\", \"iteration\": \"37\", \"goal\": \"accuracy_max\", \"run_name\": \"SparseNormalizer, XGBoostClassifier\", \"run_properties\": \"<azureml.automl.runtime.shared.model_wrappers.SparseNormalizer object at 0x7f90c1a4ecc0\", \"primary_metric\": 0.94871795, \"best_metric\": 0.96410256}, {\"run_id\": \"AutoML_fb271a28-e0a5-487d-8b3d-531bda210902_38\", \"run_number\": 44, \"metric\": null, \"status\": \"Completed\", \"run_type\": \"azureml.scriptrun\", \"training_percent\": \"100\", \"start_time\": \"2021-02-04T16:38:41.134008Z\", \"end_time\": \"2021-02-04T16:39:24.329599Z\", \"created_time\": \"2021-02-04T16:38:28.978005Z\", \"created_time_dt\": \"2021-02-04T16:38:28.978005Z\", \"duration\": \"0:00:55\", \"iteration\": \"38\", \"goal\": \"accuracy_max\", \"run_name\": \"StandardScalerWrapper, LightGBM\", \"run_properties\": \"<azureml.automl.runtime.shared.model_wrappers.StandardScalerWrapper object at 0x7fd393c1d6a0\", \"primary_metric\": 0.90769231, \"best_metric\": 0.96410256}, {\"run_id\": \"AutoML_fb271a28-e0a5-487d-8b3d-531bda210902_39\", \"run_number\": 45, \"metric\": null, \"status\": \"Completed\", \"run_type\": \"azureml.scriptrun\", \"training_percent\": \"100\", \"start_time\": \"2021-02-04T16:38:58.222557Z\", \"end_time\": \"2021-02-04T16:39:46.849959Z\", \"created_time\": \"2021-02-04T16:38:48.542394Z\", \"created_time_dt\": \"2021-02-04T16:38:48.542394Z\", \"duration\": \"0:00:58\", \"iteration\": \"39\", \"goal\": \"accuracy_max\", \"run_name\": \"SparseNormalizer, XGBoostClassifier\", \"run_properties\": \"<azureml.automl.runtime.shared.model_wrappers.SparseNormalizer object at 0x7f2002dbc4a8\", \"primary_metric\": 0.94358974, \"best_metric\": 0.96410256}, {\"run_id\": \"AutoML_fb271a28-e0a5-487d-8b3d-531bda210902_40\", \"run_number\": 46, \"metric\": null, \"status\": \"Completed\", \"run_type\": \"azureml.scriptrun\", \"training_percent\": \"100\", \"start_time\": \"2021-02-04T16:39:30.204084Z\", \"end_time\": \"2021-02-04T16:40:19.32061Z\", \"created_time\": \"2021-02-04T16:39:17.333042Z\", \"created_time_dt\": \"2021-02-04T16:39:17.333042Z\", \"duration\": \"0:01:01\", \"iteration\": \"40\", \"goal\": \"accuracy_max\", \"run_name\": \"SparseNormalizer, XGBoostClassifier\", \"run_properties\": \"<azureml.automl.runtime.shared.model_wrappers.SparseNormalizer object at 0x7f563acd2710\", \"primary_metric\": 0.92307692, \"best_metric\": 0.96410256}, {\"run_id\": \"AutoML_fb271a28-e0a5-487d-8b3d-531bda210902_41\", \"run_number\": 47, \"metric\": null, \"status\": \"Completed\", \"run_type\": \"azureml.scriptrun\", \"training_percent\": \"100\", \"start_time\": \"2021-02-04T16:39:37.556504Z\", \"end_time\": \"2021-02-04T16:40:26.57415Z\", \"created_time\": \"2021-02-04T16:39:25.461291Z\", \"created_time_dt\": \"2021-02-04T16:39:25.461291Z\", \"duration\": \"0:01:01\", \"iteration\": \"41\", \"goal\": \"accuracy_max\", \"run_name\": \"SparseNormalizer, XGBoostClassifier\", \"run_properties\": \"<azureml.automl.runtime.shared.model_wrappers.SparseNormalizer object at 0x7faaec889e10\", \"primary_metric\": 0.92307692, \"best_metric\": 0.96410256}, {\"run_id\": \"AutoML_fb271a28-e0a5-487d-8b3d-531bda210902_42\", \"run_number\": 48, \"metric\": null, \"status\": \"Completed\", \"run_type\": \"azureml.scriptrun\", \"training_percent\": \"100\", \"start_time\": \"2021-02-04T16:39:41.45746Z\", \"end_time\": \"2021-02-04T16:40:31.036005Z\", \"created_time\": \"2021-02-04T16:39:28.552661Z\", \"created_time_dt\": \"2021-02-04T16:39:28.552661Z\", \"duration\": \"0:01:02\", \"iteration\": \"42\", \"goal\": \"accuracy_max\", \"run_name\": \"RobustScaler, LightGBM\", \"run_properties\": \"copy=True, quantile_range=[25, 75], with_centering=True,\\n             with_scaling=False\", \"primary_metric\": 0.91794872, \"best_metric\": 0.96410256}, {\"run_id\": \"AutoML_fb271a28-e0a5-487d-8b3d-531bda210902_43\", \"run_number\": 49, \"metric\": null, \"status\": \"Completed\", \"run_type\": \"azureml.scriptrun\", \"training_percent\": \"100\", \"start_time\": \"2021-02-04T16:39:59.233812Z\", \"end_time\": \"2021-02-04T16:40:59.538365Z\", \"created_time\": \"2021-02-04T16:39:48.876639Z\", \"created_time_dt\": \"2021-02-04T16:39:48.876639Z\", \"duration\": \"0:01:10\", \"iteration\": \"43\", \"goal\": \"accuracy_max\", \"run_name\": \"StandardScalerWrapper, LightGBM\", \"run_properties\": \"<azureml.automl.runtime.shared.model_wrappers.StandardScalerWrapper object at 0x7f62fb0daf28\", \"primary_metric\": 0.92820513, \"best_metric\": 0.96410256}, {\"run_id\": \"AutoML_fb271a28-e0a5-487d-8b3d-531bda210902_44\", \"run_number\": 50, \"metric\": null, \"status\": \"Completed\", \"run_type\": \"azureml.scriptrun\", \"training_percent\": \"100\", \"start_time\": \"2021-02-04T16:40:34.167087Z\", \"end_time\": \"2021-02-04T16:41:28.849967Z\", \"created_time\": \"2021-02-04T16:40:21.294783Z\", \"created_time_dt\": \"2021-02-04T16:40:21.294783Z\", \"duration\": \"0:01:07\", \"iteration\": \"44\", \"goal\": \"accuracy_max\", \"run_name\": \"MaxAbsScaler, LightGBM\", \"run_properties\": \"copy=True\", \"primary_metric\": 0.93846154, \"best_metric\": 0.96410256}, {\"run_id\": \"AutoML_fb271a28-e0a5-487d-8b3d-531bda210902_45\", \"run_number\": 51, \"metric\": null, \"status\": \"Completed\", \"run_type\": \"azureml.scriptrun\", \"training_percent\": \"100\", \"start_time\": \"2021-02-04T16:40:42.184185Z\", \"end_time\": \"2021-02-04T16:41:33.659719Z\", \"created_time\": \"2021-02-04T16:40:29.553286Z\", \"created_time_dt\": \"2021-02-04T16:40:29.553286Z\", \"duration\": \"0:01:04\", \"iteration\": \"45\", \"goal\": \"accuracy_max\", \"run_name\": \"SparseNormalizer, XGBoostClassifier\", \"run_properties\": \"<azureml.automl.runtime.shared.model_wrappers.SparseNormalizer object at 0x7f6e89a29f98\", \"primary_metric\": 0.92820513, \"best_metric\": 0.96410256}, {\"run_id\": \"AutoML_fb271a28-e0a5-487d-8b3d-531bda210902_46\", \"run_number\": 52, \"metric\": null, \"status\": \"Completed\", \"run_type\": \"azureml.scriptrun\", \"training_percent\": \"100\", \"start_time\": \"2021-02-04T16:40:46.469045Z\", \"end_time\": \"2021-02-04T16:41:38.244378Z\", \"created_time\": \"2021-02-04T16:40:34.287734Z\", \"created_time_dt\": \"2021-02-04T16:40:34.287734Z\", \"duration\": \"0:01:03\", \"iteration\": \"46\", \"goal\": \"accuracy_max\", \"run_name\": \"SparseNormalizer, XGBoostClassifier\", \"run_properties\": \"<azureml.automl.runtime.shared.model_wrappers.SparseNormalizer object at 0x7fb688406320\", \"primary_metric\": 0.92307692, \"best_metric\": 0.96410256}, {\"run_id\": \"AutoML_fb271a28-e0a5-487d-8b3d-531bda210902_47\", \"run_number\": 53, \"metric\": null, \"status\": \"Completed\", \"run_type\": \"azureml.scriptrun\", \"training_percent\": \"100\", \"start_time\": \"2021-02-04T16:41:13.009792Z\", \"end_time\": \"2021-02-04T16:42:09.597248Z\", \"created_time\": \"2021-02-04T16:41:02.049927Z\", \"created_time_dt\": \"2021-02-04T16:41:02.049927Z\", \"duration\": \"0:01:07\", \"iteration\": \"47\", \"goal\": \"accuracy_max\", \"run_name\": \"StandardScalerWrapper, ExtremeRandomTrees\", \"run_properties\": \"<azureml.automl.runtime.shared.model_wrappers.StandardScalerWrapper object at 0x7f3a9c648f28\", \"primary_metric\": 0.93846154, \"best_metric\": 0.96410256}, {\"run_id\": \"AutoML_fb271a28-e0a5-487d-8b3d-531bda210902_48\", \"run_number\": 54, \"metric\": null, \"status\": \"Canceled\", \"run_type\": \"azureml.scriptrun\", \"training_percent\": \"100\", \"start_time\": \"2021-02-04T16:41:41.83256Z\", \"end_time\": \"2021-02-04T16:42:18.189623Z\", \"created_time\": \"2021-02-04T16:41:30.826712Z\", \"created_time_dt\": \"2021-02-04T16:41:30.826712Z\", \"duration\": \"0:00:47\", \"iteration\": \"48\", \"goal\": \"accuracy_max\", \"run_name\": \"SparseNormalizer, LightGBM\", \"run_properties\": \"<azureml.automl.runtime.shared.model_wrappers.SparseNormalizer object at 0x7f868a0dce80\", \"primary_metric\": 0.88717949, \"best_metric\": 0.96410256}, {\"run_id\": \"AutoML_fb271a28-e0a5-487d-8b3d-531bda210902_49\", \"run_number\": 55, \"metric\": null, \"status\": \"Canceled\", \"run_type\": \"azureml.scriptrun\", \"training_percent\": \"100\", \"start_time\": \"2021-02-04T16:41:45.671144Z\", \"end_time\": \"2021-02-04T16:42:16.832313Z\", \"created_time\": \"2021-02-04T16:41:35.536686Z\", \"created_time_dt\": \"2021-02-04T16:41:35.536686Z\", \"duration\": \"0:00:41\", \"iteration\": \"49\", \"goal\": \"accuracy_max\", \"run_name\": \"SparseNormalizer, XGBoostClassifier\", \"run_properties\": \"<azureml.automl.runtime.shared.model_wrappers.SparseNormalizer object at 0x7f6dbda66160\", \"primary_metric\": 0.93846154, \"best_metric\": 0.96410256}, {\"run_id\": \"AutoML_fb271a28-e0a5-487d-8b3d-531bda210902_50\", \"run_number\": 56, \"metric\": null, \"status\": \"Canceled\", \"run_type\": \"azureml.scriptrun\", \"training_percent\": \"100\", \"start_time\": \"2021-02-04T16:41:53.29445Z\", \"end_time\": \"2021-02-04T16:42:17.692283Z\", \"created_time\": \"2021-02-04T16:41:41.08041Z\", \"created_time_dt\": \"2021-02-04T16:41:41.08041Z\", \"duration\": \"0:00:36\", \"iteration\": \"50\", \"goal\": null, \"run_name\": \"SparseNormalizer, XGBoostClassifier\", \"run_properties\": null}, {\"run_id\": \"AutoML_fb271a28-e0a5-487d-8b3d-531bda210902_52\", \"run_number\": 57, \"metric\": null, \"status\": \"Completed\", \"run_type\": \"azureml.scriptrun\", \"training_percent\": \"100\", \"start_time\": \"2021-02-04T16:42:31.110494Z\", \"end_time\": \"2021-02-04T16:44:09.417333Z\", \"created_time\": \"2021-02-04T16:42:18.710588Z\", \"created_time_dt\": \"2021-02-04T16:42:18.710588Z\", \"duration\": \"0:01:50\", \"iteration\": \"52\", \"goal\": \"accuracy_max\", \"run_name\": \"StackEnsemble\", \"run_properties\": \"base_learners=[('0',\\n                                        Pipeline(memory=None,\\n                                                 steps=[('maxabsscaler',\\n                                                         MaxAbsScaler(copy=True\", \"primary_metric\": 0.95384615, \"best_metric\": 0.96923077}, {\"run_id\": \"AutoML_fb271a28-e0a5-487d-8b3d-531bda210902_51\", \"run_number\": 58, \"metric\": null, \"status\": \"Completed\", \"run_type\": \"azureml.scriptrun\", \"training_percent\": \"100\", \"start_time\": \"2021-02-04T16:42:30.47604Z\", \"end_time\": \"2021-02-04T16:44:08.199844Z\", \"created_time\": \"2021-02-04T16:42:18.718595Z\", \"created_time_dt\": \"2021-02-04T16:42:18.718595Z\", \"duration\": \"0:01:49\", \"iteration\": \"51\", \"goal\": \"accuracy_max\", \"run_name\": \"VotingEnsemble\", \"run_properties\": \"classification_labels=None,\\n                              estimators=[('0',\\n                                           Pipeline(memory=None,\\n                                                    steps=[('maxabsscaler',\\n                                                            MaxAbsScaler(copy=True\", \"primary_metric\": 0.96923077, \"best_metric\": 0.96923077}], \"children_metrics\": {\"categories\": [0], \"series\": {\"balanced_accuracy\": [{\"categories\": [\"0\", \"1\", \"2\", \"3\", \"4\", \"5\", \"6\", \"7\", \"8\", \"9\", \"10\", \"11\", \"12\", \"13\", \"14\", \"15\", \"16\", \"17\", \"18\", \"19\", \"20\", \"21\", \"22\", \"23\", \"24\", \"25\", \"26\", \"27\", \"28\", \"29\", \"30\", \"31\", \"32\", \"33\", \"34\", \"35\", \"36\", \"37\", \"38\", \"39\", \"40\", \"41\", \"42\", \"43\", \"44\", \"45\", \"46\", \"47\", \"48\", \"49\", \"51\", \"52\"], \"mode\": \"markers\", \"name\": \"balanced_accuracy\", \"stepped\": false, \"type\": \"scatter\", \"data\": [0.9424406130268199, 0.9361666666666666, 0.8901650665642601, 0.7994564860426928, 0.8421215526069531, 0.8986554196020269, 0.9087183908045976, 0.9357777777777777, 0.8786929811783816, 0.8837777777777778, 0.8806751240355245, 0.9131233998975935, 0.8579011776753713, 0.8217301587301588, 0.8054126984126985, 0.8961666666666666, 0.8000043522785459, 0.755079365079365, 0.7631215526069532, 0.9090416666666666, 0.8776130952380953, 0.7567707461553402, 0.8147658730158731, 0.7909967997951869, 0.8126886288998356, 0.5, 0.8518747152921234, 0.8487258792838605, 0.8242478680014831, 0.85534126984127, 0.7768775049879054, 0.8662137273337217, 0.8692683780037787, 0.9121666666666666, 0.8844920634920636, 0.85398067959108, 0.7920064732418737, 0.913638888888889, 0.8336768609742748, 0.8984781746031747, 0.8684251240355245, 0.8673140129244133, 0.8630537082649152, 0.8747559523809525, 0.8930416666666666, 0.8742738095238096, 0.8752505208609213, 0.8912150537634409, 0.783863232074439, 0.8726666666666667, 0.9352777777777778, 0.9243888888888889]}, {\"categories\": [\"0\", \"1\", \"2\", \"3\", \"4\", \"5\", \"6\", \"7\", \"8\", \"9\", \"10\", \"11\", \"12\", \"13\", \"14\", \"15\", \"16\", \"17\", \"18\", \"19\", \"20\", \"21\", \"22\", \"23\", \"24\", \"25\", \"26\", \"27\", \"28\", \"29\", \"30\", \"31\", \"32\", \"33\", \"34\", \"35\", \"36\", \"37\", \"38\", \"39\", \"40\", \"41\", \"42\", \"43\", \"44\", \"45\", \"46\", \"47\", \"48\", \"49\", \"51\", \"52\"], \"mode\": \"lines\", \"name\": \"balanced_accuracy_max\", \"stepped\": true, \"type\": \"scatter\", \"data\": [0.9424406130268199, 0.9424406130268199, 0.9424406130268199, 0.9424406130268199, 0.9424406130268199, 0.9424406130268199, 0.9424406130268199, 0.9424406130268199, 0.9424406130268199, 0.9424406130268199, 0.9424406130268199, 0.9424406130268199, 0.9424406130268199, 0.9424406130268199, 0.9424406130268199, 0.9424406130268199, 0.9424406130268199, 0.9424406130268199, 0.9424406130268199, 0.9424406130268199, 0.9424406130268199, 0.9424406130268199, 0.9424406130268199, 0.9424406130268199, 0.9424406130268199, 0.9424406130268199, 0.9424406130268199, 0.9424406130268199, 0.9424406130268199, 0.9424406130268199, 0.9424406130268199, 0.9424406130268199, 0.9424406130268199, 0.9424406130268199, 0.9424406130268199, 0.9424406130268199, 0.9424406130268199, 0.9424406130268199, 0.9424406130268199, 0.9424406130268199, 0.9424406130268199, 0.9424406130268199, 0.9424406130268199, 0.9424406130268199, 0.9424406130268199, 0.9424406130268199, 0.9424406130268199, 0.9424406130268199, 0.9424406130268199, 0.9424406130268199, 0.9424406130268199, 0.9424406130268199]}], \"matthews_correlation\": [{\"categories\": [\"0\", \"1\", \"2\", \"3\", \"4\", \"5\", \"6\", \"7\", \"8\", \"9\", \"10\", \"11\", \"12\", \"13\", \"14\", \"15\", \"16\", \"17\", \"18\", \"19\", \"20\", \"21\", \"22\", \"23\", \"24\", \"25\", \"26\", \"27\", \"28\", \"29\", \"30\", \"31\", \"32\", \"33\", \"34\", \"35\", \"36\", \"37\", \"38\", \"39\", \"40\", \"41\", \"42\", \"43\", \"44\", \"45\", \"46\", \"47\", \"48\", \"49\", \"51\", \"52\"], \"mode\": \"markers\", \"name\": \"matthews_correlation\", \"stepped\": false, \"type\": \"scatter\", \"data\": [0.9059170029620965, 0.9058274526265475, 0.8120208692117666, 0.6727014082981589, 0.7352298554034574, 0.8259885531162936, 0.8540292968439372, 0.9003371537761502, 0.799680120417419, 0.8384191858473985, 0.8105683509431645, 0.872824324802574, 0.7859754099766711, 0.737406302623058, 0.7188749787579527, 0.8498893028069743, 0.6972207072523297, 0.6540551813477118, 0.5568781355610115, 0.8535274264088674, 0.8079516875953827, 0.5339665460458889, 0.7105173760604399, 0.63581547453421, 0.7098215720238781, 0.0, 0.6881978236546227, 0.6928964140839632, 0.6342310981212979, 0.7910853480754654, 0.6388959644450453, 0.7391095646784226, 0.7664545161970372, 0.8693909281256644, 0.8409178313357083, 0.7428098750323581, 0.6536469789788114, 0.8586941309546308, 0.7343551688271914, 0.8432192210072849, 0.7745266274031853, 0.775459497374107, 0.7757446004911409, 0.8058836075756988, 0.8340258010901772, 0.8026804304876901, 0.7837878789063786, 0.8273382109775197, 0.6599497995245903, 0.8233364619137097, 0.9142143342699363, 0.885118469269166]}, {\"categories\": [\"0\", \"1\", \"2\", \"3\", \"4\", \"5\", \"6\", \"7\", \"8\", \"9\", \"10\", \"11\", \"12\", \"13\", \"14\", \"15\", \"16\", \"17\", \"18\", \"19\", \"20\", \"21\", \"22\", \"23\", \"24\", \"25\", \"26\", \"27\", \"28\", \"29\", \"30\", \"31\", \"32\", \"33\", \"34\", \"35\", \"36\", \"37\", \"38\", \"39\", \"40\", \"41\", \"42\", \"43\", \"44\", \"45\", \"46\", \"47\", \"48\", \"49\", \"51\", \"52\"], \"mode\": \"lines\", \"name\": \"matthews_correlation_max\", \"stepped\": true, \"type\": \"scatter\", \"data\": [0.9059170029620965, 0.9059170029620965, 0.9059170029620965, 0.9059170029620965, 0.9059170029620965, 0.9059170029620965, 0.9059170029620965, 0.9059170029620965, 0.9059170029620965, 0.9059170029620965, 0.9059170029620965, 0.9059170029620965, 0.9059170029620965, 0.9059170029620965, 0.9059170029620965, 0.9059170029620965, 0.9059170029620965, 0.9059170029620965, 0.9059170029620965, 0.9059170029620965, 0.9059170029620965, 0.9059170029620965, 0.9059170029620965, 0.9059170029620965, 0.9059170029620965, 0.9059170029620965, 0.9059170029620965, 0.9059170029620965, 0.9059170029620965, 0.9059170029620965, 0.9059170029620965, 0.9059170029620965, 0.9059170029620965, 0.9059170029620965, 0.9059170029620965, 0.9059170029620965, 0.9059170029620965, 0.9059170029620965, 0.9059170029620965, 0.9059170029620965, 0.9059170029620965, 0.9059170029620965, 0.9059170029620965, 0.9059170029620965, 0.9059170029620965, 0.9059170029620965, 0.9059170029620965, 0.9059170029620965, 0.9059170029620965, 0.9059170029620965, 0.9142143342699363, 0.9142143342699363]}], \"AUC_macro\": [{\"categories\": [\"0\", \"1\", \"2\", \"3\", \"4\", \"5\", \"6\", \"7\", \"8\", \"9\", \"10\", \"11\", \"12\", \"13\", \"14\", \"15\", \"16\", \"17\", \"18\", \"19\", \"20\", \"21\", \"22\", \"23\", \"24\", \"25\", \"26\", \"27\", \"28\", \"29\", \"30\", \"31\", \"32\", \"33\", \"34\", \"35\", \"36\", \"37\", \"38\", \"39\", \"40\", \"41\", \"42\", \"43\", \"44\", \"45\", \"46\", \"47\", \"48\", \"49\", \"51\", \"52\"], \"mode\": \"markers\", \"name\": \"AUC_macro\", \"stepped\": false, \"type\": \"scatter\", \"data\": [0.9929244427965228, 0.9948905956647891, 0.9655961532802466, 0.945828520519566, 0.9666305904267528, 0.9782877859585313, 0.9865314782444926, 0.9843714650611203, 0.9617171489779943, 0.9751130650752453, 0.9490649928491977, 0.9846232439335887, 0.9688389686365214, 0.9607172431449407, 0.9642316698153739, 0.9768588202058724, 0.9582437923383418, 0.9588759115066123, 0.9161417418530877, 0.9810003413551801, 0.9748362422091565, 0.9132819431937896, 0.9570999184867371, 0.9446224641135654, 0.9530447469557591, 0.5, 0.9520750701838022, 0.9670713299904067, 0.9307101953375589, 0.9662269879525163, 0.9293200955205961, 0.9285730080748156, 0.9559806531066265, 0.9859397037272455, 0.9611138993355345, 0.9497229608442066, 0.9269883806816509, 0.9567070584011628, 0.9650118223658268, 0.9796200143016052, 0.9561727316065468, 0.9475494626598632, 0.9749274370111412, 0.9826932026178412, 0.9836546309538523, 0.9524698136083009, 0.9506362227872238, 0.9758801961026655, 0.9280239448887947, 0.9627952516317366, 0.9977120669056152, 0.9969713261648746]}, {\"categories\": [\"0\", \"1\", \"2\", \"3\", \"4\", \"5\", \"6\", \"7\", \"8\", \"9\", \"10\", \"11\", \"12\", \"13\", \"14\", \"15\", \"16\", \"17\", \"18\", \"19\", \"20\", \"21\", \"22\", \"23\", \"24\", \"25\", \"26\", \"27\", \"28\", \"29\", \"30\", \"31\", \"32\", \"33\", \"34\", \"35\", \"36\", \"37\", \"38\", \"39\", \"40\", \"41\", \"42\", \"43\", \"44\", \"45\", \"46\", \"47\", \"48\", \"49\", \"51\", \"52\"], \"mode\": \"lines\", \"name\": \"AUC_macro_max\", \"stepped\": true, \"type\": \"scatter\", \"data\": [0.9929244427965228, 0.9948905956647891, 0.9948905956647891, 0.9948905956647891, 0.9948905956647891, 0.9948905956647891, 0.9948905956647891, 0.9948905956647891, 0.9948905956647891, 0.9948905956647891, 0.9948905956647891, 0.9948905956647891, 0.9948905956647891, 0.9948905956647891, 0.9948905956647891, 0.9948905956647891, 0.9948905956647891, 0.9948905956647891, 0.9948905956647891, 0.9948905956647891, 0.9948905956647891, 0.9948905956647891, 0.9948905956647891, 0.9948905956647891, 0.9948905956647891, 0.9948905956647891, 0.9948905956647891, 0.9948905956647891, 0.9948905956647891, 0.9948905956647891, 0.9948905956647891, 0.9948905956647891, 0.9948905956647891, 0.9948905956647891, 0.9948905956647891, 0.9948905956647891, 0.9948905956647891, 0.9948905956647891, 0.9948905956647891, 0.9948905956647891, 0.9948905956647891, 0.9948905956647891, 0.9948905956647891, 0.9948905956647891, 0.9948905956647891, 0.9948905956647891, 0.9948905956647891, 0.9948905956647891, 0.9948905956647891, 0.9948905956647891, 0.9977120669056152, 0.9977120669056152]}], \"average_precision_score_micro\": [{\"categories\": [\"0\", \"1\", \"2\", \"3\", \"4\", \"5\", \"6\", \"7\", \"8\", \"9\", \"10\", \"11\", \"12\", \"13\", \"14\", \"15\", \"16\", \"17\", \"18\", \"19\", \"20\", \"21\", \"22\", \"23\", \"24\", \"25\", \"26\", \"27\", \"28\", \"29\", \"30\", \"31\", \"32\", \"33\", \"34\", \"35\", \"36\", \"37\", \"38\", \"39\", \"40\", \"41\", \"42\", \"43\", \"44\", \"45\", \"46\", \"47\", \"48\", \"49\", \"51\", \"52\"], \"mode\": \"markers\", \"name\": \"average_precision_score_micro\", \"stepped\": false, \"type\": \"scatter\", \"data\": [0.993843075058092, 0.9918968830352352, 0.9768078513001237, 0.9624181796849965, 0.9764980271220542, 0.9855413900830786, 0.9849940364511778, 0.9878690630815072, 0.9781276121522892, 0.9822594259925612, 0.9693754305923518, 0.9885254040451033, 0.9779374114293502, 0.9661399061080518, 0.9688631036079464, 0.98413222793519, 0.9689675409774464, 0.9658304709729675, 0.9410040524885609, 0.9834893574187538, 0.9803221161452935, 0.9424416811523472, 0.9686600274347679, 0.954288283974984, 0.969760563278709, 0.6952005259697568, 0.9645268231697873, 0.9712225048532679, 0.9489786809921759, 0.9736123710065812, 0.9501829110619594, 0.9493238304661988, 0.9736522888042005, 0.988492749934166, 0.9765941066955758, 0.9695841439216238, 0.9511014422456514, 0.9745004991285515, 0.9756019907418378, 0.985549419743079, 0.9756019580711917, 0.9659171920766159, 0.9804762139151311, 0.9844359050778483, 0.9852103464249089, 0.970781064883479, 0.969566614631525, 0.9819767573850713, 0.9558014494703126, 0.9748895798006665, 0.9950139576766137, 0.9860464131793524]}, {\"categories\": [\"0\", \"1\", \"2\", \"3\", \"4\", \"5\", \"6\", \"7\", \"8\", \"9\", \"10\", \"11\", \"12\", \"13\", \"14\", \"15\", \"16\", \"17\", \"18\", \"19\", \"20\", \"21\", \"22\", \"23\", \"24\", \"25\", \"26\", \"27\", \"28\", \"29\", \"30\", \"31\", \"32\", \"33\", \"34\", \"35\", \"36\", \"37\", \"38\", \"39\", \"40\", \"41\", \"42\", \"43\", \"44\", \"45\", \"46\", \"47\", \"48\", \"49\", \"51\", \"52\"], \"mode\": \"lines\", \"name\": \"average_precision_score_micro_max\", \"stepped\": true, \"type\": \"scatter\", \"data\": [0.993843075058092, 0.993843075058092, 0.993843075058092, 0.993843075058092, 0.993843075058092, 0.993843075058092, 0.993843075058092, 0.993843075058092, 0.993843075058092, 0.993843075058092, 0.993843075058092, 0.993843075058092, 0.993843075058092, 0.993843075058092, 0.993843075058092, 0.993843075058092, 0.993843075058092, 0.993843075058092, 0.993843075058092, 0.993843075058092, 0.993843075058092, 0.993843075058092, 0.993843075058092, 0.993843075058092, 0.993843075058092, 0.993843075058092, 0.993843075058092, 0.993843075058092, 0.993843075058092, 0.993843075058092, 0.993843075058092, 0.993843075058092, 0.993843075058092, 0.993843075058092, 0.993843075058092, 0.993843075058092, 0.993843075058092, 0.993843075058092, 0.993843075058092, 0.993843075058092, 0.993843075058092, 0.993843075058092, 0.993843075058092, 0.993843075058092, 0.993843075058092, 0.993843075058092, 0.993843075058092, 0.993843075058092, 0.993843075058092, 0.993843075058092, 0.9950139576766137, 0.9950139576766137]}], \"norm_macro_recall\": [{\"categories\": [\"0\", \"1\", \"2\", \"3\", \"4\", \"5\", \"6\", \"7\", \"8\", \"9\", \"10\", \"11\", \"12\", \"13\", \"14\", \"15\", \"16\", \"17\", \"18\", \"19\", \"20\", \"21\", \"22\", \"23\", \"24\", \"25\", \"26\", \"27\", \"28\", \"29\", \"30\", \"31\", \"32\", \"33\", \"34\", \"35\", \"36\", \"37\", \"38\", \"39\", \"40\", \"41\", \"42\", \"43\", \"44\", \"45\", \"46\", \"47\", \"48\", \"49\", \"51\", \"52\"], \"mode\": \"markers\", \"name\": \"norm_macro_recall\", \"stepped\": false, \"type\": \"scatter\", \"data\": [0.8848812260536398, 0.8723333333333333, 0.7803301331285202, 0.5989129720853859, 0.6842431052139062, 0.7973108392040539, 0.8174367816091953, 0.8715555555555555, 0.7573859623567633, 0.7675555555555555, 0.761350248071049, 0.826246799795187, 0.7158023553507425, 0.6434603174603175, 0.6108253968253969, 0.7923333333333333, 0.6000087045570917, 0.5101587301587303, 0.5262431052139062, 0.8180833333333333, 0.7552261904761906, 0.5135414923106804, 0.629531746031746, 0.5819935995903738, 0.6253772577996715, 0.0, 0.703749430584247, 0.6974517585677208, 0.6484957360029663, 0.7106825396825398, 0.5537550099758108, 0.7324274546674436, 0.738536756007557, 0.8243333333333333, 0.768984126984127, 0.7079613591821602, 0.5840129464837475, 0.8272777777777778, 0.6673537219485496, 0.7969563492063492, 0.736850248071049, 0.7346280258488267, 0.7261074165298302, 0.7495119047619048, 0.7860833333333332, 0.748547619047619, 0.7505010417218425, 0.7824301075268817, 0.567726464148878, 0.7453333333333333, 0.8705555555555555, 0.8487777777777777]}, {\"categories\": [\"0\", \"1\", \"2\", \"3\", \"4\", \"5\", \"6\", \"7\", \"8\", \"9\", \"10\", \"11\", \"12\", \"13\", \"14\", \"15\", \"16\", \"17\", \"18\", \"19\", \"20\", \"21\", \"22\", \"23\", \"24\", \"25\", \"26\", \"27\", \"28\", \"29\", \"30\", \"31\", \"32\", \"33\", \"34\", \"35\", \"36\", \"37\", \"38\", \"39\", \"40\", \"41\", \"42\", \"43\", \"44\", \"45\", \"46\", \"47\", \"48\", \"49\", \"51\", \"52\"], \"mode\": \"lines\", \"name\": \"norm_macro_recall_max\", \"stepped\": true, \"type\": \"scatter\", \"data\": [0.8848812260536398, 0.8848812260536398, 0.8848812260536398, 0.8848812260536398, 0.8848812260536398, 0.8848812260536398, 0.8848812260536398, 0.8848812260536398, 0.8848812260536398, 0.8848812260536398, 0.8848812260536398, 0.8848812260536398, 0.8848812260536398, 0.8848812260536398, 0.8848812260536398, 0.8848812260536398, 0.8848812260536398, 0.8848812260536398, 0.8848812260536398, 0.8848812260536398, 0.8848812260536398, 0.8848812260536398, 0.8848812260536398, 0.8848812260536398, 0.8848812260536398, 0.8848812260536398, 0.8848812260536398, 0.8848812260536398, 0.8848812260536398, 0.8848812260536398, 0.8848812260536398, 0.8848812260536398, 0.8848812260536398, 0.8848812260536398, 0.8848812260536398, 0.8848812260536398, 0.8848812260536398, 0.8848812260536398, 0.8848812260536398, 0.8848812260536398, 0.8848812260536398, 0.8848812260536398, 0.8848812260536398, 0.8848812260536398, 0.8848812260536398, 0.8848812260536398, 0.8848812260536398, 0.8848812260536398, 0.8848812260536398, 0.8848812260536398, 0.8848812260536398, 0.8848812260536398]}], \"f1_score_macro\": [{\"categories\": [\"0\", \"1\", \"2\", \"3\", \"4\", \"5\", \"6\", \"7\", \"8\", \"9\", \"10\", \"11\", \"12\", \"13\", \"14\", \"15\", \"16\", \"17\", \"18\", \"19\", \"20\", \"21\", \"22\", \"23\", \"24\", \"25\", \"26\", \"27\", \"28\", \"29\", \"30\", \"31\", \"32\", \"33\", \"34\", \"35\", \"36\", \"37\", \"38\", \"39\", \"40\", \"41\", \"42\", \"43\", \"44\", \"45\", \"46\", \"47\", \"48\", \"49\", \"51\", \"52\"], \"mode\": \"markers\", \"name\": \"f1_score_macro\", \"stepped\": false, \"type\": \"scatter\", \"data\": [0.9507859793154119, 0.9491927205018195, 0.9017039176061752, 0.8276121809140097, 0.8623568474536217, 0.9106898632645493, 0.922034840016995, 0.9456487038597295, 0.8949241551459293, 0.9079395490626222, 0.9015301763954982, 0.9304056261934912, 0.8832670079668729, 0.8525062576312576, 0.8412233599733601, 0.9148809523809524, 0.8292393730996672, 0.7905187491474803, 0.7666382664176782, 0.920104669041501, 0.8964551331285202, 0.7548166750097799, 0.836572030120417, 0.8025662442396314, 0.8370826561737845, 0.4290879130280404, 0.8384697202439139, 0.8399407029083473, 0.8052202712540619, 0.8841093539077409, 0.8023514448514447, 0.861451870279974, 0.8775489042380977, 0.9283586372954694, 0.9108737765734627, 0.8661826702006967, 0.8136491464510334, 0.9224010769673757, 0.8597487520649285, 0.9153719279885408, 0.8819084766523098, 0.8824413116794988, 0.8802387362048645, 0.8922431733503284, 0.9066269841269842, 0.8896888760880696, 0.8876856298968707, 0.906845777243044, 0.8162057565076433, 0.8989034507523304, 0.9534551336840043, 0.9367123235610914]}, {\"categories\": [\"0\", \"1\", \"2\", \"3\", \"4\", \"5\", \"6\", \"7\", \"8\", \"9\", \"10\", \"11\", \"12\", \"13\", \"14\", \"15\", \"16\", \"17\", \"18\", \"19\", \"20\", \"21\", \"22\", \"23\", \"24\", \"25\", \"26\", \"27\", \"28\", \"29\", \"30\", \"31\", \"32\", \"33\", \"34\", \"35\", \"36\", \"37\", \"38\", \"39\", \"40\", \"41\", \"42\", \"43\", \"44\", \"45\", \"46\", \"47\", \"48\", \"49\", \"51\", \"52\"], \"mode\": \"lines\", \"name\": \"f1_score_macro_max\", \"stepped\": true, \"type\": \"scatter\", \"data\": [0.9507859793154119, 0.9507859793154119, 0.9507859793154119, 0.9507859793154119, 0.9507859793154119, 0.9507859793154119, 0.9507859793154119, 0.9507859793154119, 0.9507859793154119, 0.9507859793154119, 0.9507859793154119, 0.9507859793154119, 0.9507859793154119, 0.9507859793154119, 0.9507859793154119, 0.9507859793154119, 0.9507859793154119, 0.9507859793154119, 0.9507859793154119, 0.9507859793154119, 0.9507859793154119, 0.9507859793154119, 0.9507859793154119, 0.9507859793154119, 0.9507859793154119, 0.9507859793154119, 0.9507859793154119, 0.9507859793154119, 0.9507859793154119, 0.9507859793154119, 0.9507859793154119, 0.9507859793154119, 0.9507859793154119, 0.9507859793154119, 0.9507859793154119, 0.9507859793154119, 0.9507859793154119, 0.9507859793154119, 0.9507859793154119, 0.9507859793154119, 0.9507859793154119, 0.9507859793154119, 0.9507859793154119, 0.9507859793154119, 0.9507859793154119, 0.9507859793154119, 0.9507859793154119, 0.9507859793154119, 0.9507859793154119, 0.9507859793154119, 0.9534551336840043, 0.9534551336840043]}], \"recall_score_macro\": [{\"categories\": [\"0\", \"1\", \"2\", \"3\", \"4\", \"5\", \"6\", \"7\", \"8\", \"9\", \"10\", \"11\", \"12\", \"13\", \"14\", \"15\", \"16\", \"17\", \"18\", \"19\", \"20\", \"21\", \"22\", \"23\", \"24\", \"25\", \"26\", \"27\", \"28\", \"29\", \"30\", \"31\", \"32\", \"33\", \"34\", \"35\", \"36\", \"37\", \"38\", \"39\", \"40\", \"41\", \"42\", \"43\", \"44\", \"45\", \"46\", \"47\", \"48\", \"49\", \"51\", \"52\"], \"mode\": \"markers\", \"name\": \"recall_score_macro\", \"stepped\": false, \"type\": \"scatter\", \"data\": [0.9424406130268199, 0.9361666666666666, 0.8901650665642601, 0.7994564860426928, 0.8421215526069531, 0.8986554196020269, 0.9087183908045976, 0.9357777777777777, 0.8786929811783816, 0.8837777777777778, 0.8806751240355245, 0.9131233998975935, 0.8579011776753713, 0.8217301587301588, 0.8054126984126985, 0.8961666666666666, 0.8000043522785459, 0.755079365079365, 0.7631215526069532, 0.9090416666666666, 0.8776130952380953, 0.7567707461553402, 0.8147658730158731, 0.7909967997951869, 0.8126886288998356, 0.5, 0.8518747152921234, 0.8487258792838605, 0.8242478680014831, 0.85534126984127, 0.7768775049879054, 0.8662137273337217, 0.8692683780037787, 0.9121666666666666, 0.8844920634920636, 0.85398067959108, 0.7920064732418737, 0.913638888888889, 0.8336768609742748, 0.8984781746031747, 0.8684251240355245, 0.8673140129244133, 0.8630537082649152, 0.8747559523809525, 0.8930416666666666, 0.8742738095238096, 0.8752505208609213, 0.8912150537634409, 0.783863232074439, 0.8726666666666667, 0.9352777777777778, 0.9243888888888889]}, {\"categories\": [\"0\", \"1\", \"2\", \"3\", \"4\", \"5\", \"6\", \"7\", \"8\", \"9\", \"10\", \"11\", \"12\", \"13\", \"14\", \"15\", \"16\", \"17\", \"18\", \"19\", \"20\", \"21\", \"22\", \"23\", \"24\", \"25\", \"26\", \"27\", \"28\", \"29\", \"30\", \"31\", \"32\", \"33\", \"34\", \"35\", \"36\", \"37\", \"38\", \"39\", \"40\", \"41\", \"42\", \"43\", \"44\", \"45\", \"46\", \"47\", \"48\", \"49\", \"51\", \"52\"], \"mode\": \"lines\", \"name\": \"recall_score_macro_max\", \"stepped\": true, \"type\": \"scatter\", \"data\": [0.9424406130268199, 0.9424406130268199, 0.9424406130268199, 0.9424406130268199, 0.9424406130268199, 0.9424406130268199, 0.9424406130268199, 0.9424406130268199, 0.9424406130268199, 0.9424406130268199, 0.9424406130268199, 0.9424406130268199, 0.9424406130268199, 0.9424406130268199, 0.9424406130268199, 0.9424406130268199, 0.9424406130268199, 0.9424406130268199, 0.9424406130268199, 0.9424406130268199, 0.9424406130268199, 0.9424406130268199, 0.9424406130268199, 0.9424406130268199, 0.9424406130268199, 0.9424406130268199, 0.9424406130268199, 0.9424406130268199, 0.9424406130268199, 0.9424406130268199, 0.9424406130268199, 0.9424406130268199, 0.9424406130268199, 0.9424406130268199, 0.9424406130268199, 0.9424406130268199, 0.9424406130268199, 0.9424406130268199, 0.9424406130268199, 0.9424406130268199, 0.9424406130268199, 0.9424406130268199, 0.9424406130268199, 0.9424406130268199, 0.9424406130268199, 0.9424406130268199, 0.9424406130268199, 0.9424406130268199, 0.9424406130268199, 0.9424406130268199, 0.9424406130268199, 0.9424406130268199]}], \"precision_score_weighted\": [{\"categories\": [\"0\", \"1\", \"2\", \"3\", \"4\", \"5\", \"6\", \"7\", \"8\", \"9\", \"10\", \"11\", \"12\", \"13\", \"14\", \"15\", \"16\", \"17\", \"18\", \"19\", \"20\", \"21\", \"22\", \"23\", \"24\", \"25\", \"26\", \"27\", \"28\", \"29\", \"30\", \"31\", \"32\", \"33\", \"34\", \"35\", \"36\", \"37\", \"38\", \"39\", \"40\", \"41\", \"42\", \"43\", \"44\", \"45\", \"46\", \"47\", \"48\", \"49\", \"51\", \"52\"], \"mode\": \"markers\", \"name\": \"precision_score_weighted\", \"stepped\": false, \"type\": \"scatter\", \"data\": [0.9661716419780937, 0.9671144133644134, 0.9355095621224653, 0.8801474009082705, 0.9070665445665445, 0.9377916617432746, 0.9475740380745125, 0.9637726244343892, 0.9332514707514707, 0.9494033744033743, 0.933442945942946, 0.9578960213575598, 0.9281899962782315, 0.9107748460689636, 0.9061588810608419, 0.9502013917455094, 0.9004265819650434, 0.899894409265606, 0.8450450504749147, 0.9499468668586315, 0.9337275345427519, 0.837860645373843, 0.9085233972821631, 0.8724055154481686, 0.9095131992190815, 0.5721236028928336, 0.8829174288794478, 0.8895475983711277, 0.8734731934731934, 0.9302173192678307, 0.8820351161121952, 0.907307873930592, 0.9212279128676979, 0.954434046345811, 0.9491203894145072, 0.9129078255629125, 0.8863248126530857, 0.9546124604189121, 0.9089425859824342, 0.9481452239516756, 0.9243089244640113, 0.9251025752576622, 0.9217246681281208, 0.9362496572055395, 0.94571421225833, 0.9362752715693892, 0.9253205128205128, 0.9426884226884227, 0.8877363812657929, 0.9450327450327449, 0.971474358974359, 0.9593731708413872]}, {\"categories\": [\"0\", \"1\", \"2\", \"3\", \"4\", \"5\", \"6\", \"7\", \"8\", \"9\", \"10\", \"11\", \"12\", \"13\", \"14\", \"15\", \"16\", \"17\", \"18\", \"19\", \"20\", \"21\", \"22\", \"23\", \"24\", \"25\", \"26\", \"27\", \"28\", \"29\", \"30\", \"31\", \"32\", \"33\", \"34\", \"35\", \"36\", \"37\", \"38\", \"39\", \"40\", \"41\", \"42\", \"43\", \"44\", \"45\", \"46\", \"47\", \"48\", \"49\", \"51\", \"52\"], \"mode\": \"lines\", \"name\": \"precision_score_weighted_max\", \"stepped\": true, \"type\": \"scatter\", \"data\": [0.9661716419780937, 0.9671144133644134, 0.9671144133644134, 0.9671144133644134, 0.9671144133644134, 0.9671144133644134, 0.9671144133644134, 0.9671144133644134, 0.9671144133644134, 0.9671144133644134, 0.9671144133644134, 0.9671144133644134, 0.9671144133644134, 0.9671144133644134, 0.9671144133644134, 0.9671144133644134, 0.9671144133644134, 0.9671144133644134, 0.9671144133644134, 0.9671144133644134, 0.9671144133644134, 0.9671144133644134, 0.9671144133644134, 0.9671144133644134, 0.9671144133644134, 0.9671144133644134, 0.9671144133644134, 0.9671144133644134, 0.9671144133644134, 0.9671144133644134, 0.9671144133644134, 0.9671144133644134, 0.9671144133644134, 0.9671144133644134, 0.9671144133644134, 0.9671144133644134, 0.9671144133644134, 0.9671144133644134, 0.9671144133644134, 0.9671144133644134, 0.9671144133644134, 0.9671144133644134, 0.9671144133644134, 0.9671144133644134, 0.9671144133644134, 0.9671144133644134, 0.9671144133644134, 0.9671144133644134, 0.9671144133644134, 0.9671144133644134, 0.971474358974359, 0.971474358974359]}], \"recall_score_micro\": [{\"categories\": [\"0\", \"1\", \"2\", \"3\", \"4\", \"5\", \"6\", \"7\", \"8\", \"9\", \"10\", \"11\", \"12\", \"13\", \"14\", \"15\", \"16\", \"17\", \"18\", \"19\", \"20\", \"21\", \"22\", \"23\", \"24\", \"25\", \"26\", \"27\", \"28\", \"29\", \"30\", \"31\", \"32\", \"33\", \"34\", \"35\", \"36\", \"37\", \"38\", \"39\", \"40\", \"41\", \"42\", \"43\", \"44\", \"45\", \"46\", \"47\", \"48\", \"49\", \"51\", \"52\"], \"mode\": \"markers\", \"name\": \"recall_score_micro\", \"stepped\": false, \"type\": \"scatter\", \"data\": [0.964102564102564, 0.964102564102564, 0.9333333333333333, 0.8769230769230768, 0.9076923076923078, 0.9384615384615385, 0.9435897435897436, 0.9589743589743589, 0.9333333333333333, 0.9435897435897436, 0.9333333333333333, 0.9538461538461538, 0.923076923076923, 0.9025641025641026, 0.8974358974358975, 0.9435897435897436, 0.8923076923076924, 0.8820512820512821, 0.8410256410256409, 0.9435897435897436, 0.9282051282051282, 0.8307692307692307, 0.8974358974358975, 0.8615384615384615, 0.9025641025641026, 0.7538461538461538, 0.8717948717948719, 0.876923076923077, 0.8512820512820515, 0.923076923076923, 0.876923076923077, 0.8974358974358975, 0.917948717948718, 0.9487179487179487, 0.9435897435897436, 0.9128205128205128, 0.8820512820512821, 0.9487179487179487, 0.9076923076923077, 0.9435897435897436, 0.9230769230769231, 0.9230769230769231, 0.9179487179487179, 0.9282051282051282, 0.9384615384615385, 0.9282051282051282, 0.9230769230769231, 0.9384615384615385, 0.8871794871794872, 0.9384615384615385, 0.9692307692307693, 0.9538461538461538]}, {\"categories\": [\"0\", \"1\", \"2\", \"3\", \"4\", \"5\", \"6\", \"7\", \"8\", \"9\", \"10\", \"11\", \"12\", \"13\", \"14\", \"15\", \"16\", \"17\", \"18\", \"19\", \"20\", \"21\", \"22\", \"23\", \"24\", \"25\", \"26\", \"27\", \"28\", \"29\", \"30\", \"31\", \"32\", \"33\", \"34\", \"35\", \"36\", \"37\", \"38\", \"39\", \"40\", \"41\", \"42\", \"43\", \"44\", \"45\", \"46\", \"47\", \"48\", \"49\", \"51\", \"52\"], \"mode\": \"lines\", \"name\": \"recall_score_micro_max\", \"stepped\": true, \"type\": \"scatter\", \"data\": [0.964102564102564, 0.964102564102564, 0.964102564102564, 0.964102564102564, 0.964102564102564, 0.964102564102564, 0.964102564102564, 0.964102564102564, 0.964102564102564, 0.964102564102564, 0.964102564102564, 0.964102564102564, 0.964102564102564, 0.964102564102564, 0.964102564102564, 0.964102564102564, 0.964102564102564, 0.964102564102564, 0.964102564102564, 0.964102564102564, 0.964102564102564, 0.964102564102564, 0.964102564102564, 0.964102564102564, 0.964102564102564, 0.964102564102564, 0.964102564102564, 0.964102564102564, 0.964102564102564, 0.964102564102564, 0.964102564102564, 0.964102564102564, 0.964102564102564, 0.964102564102564, 0.964102564102564, 0.964102564102564, 0.964102564102564, 0.964102564102564, 0.964102564102564, 0.964102564102564, 0.964102564102564, 0.964102564102564, 0.964102564102564, 0.964102564102564, 0.964102564102564, 0.964102564102564, 0.964102564102564, 0.964102564102564, 0.964102564102564, 0.964102564102564, 0.9692307692307693, 0.9692307692307693]}], \"recall_score_weighted\": [{\"categories\": [\"0\", \"1\", \"2\", \"3\", \"4\", \"5\", \"6\", \"7\", \"8\", \"9\", \"10\", \"11\", \"12\", \"13\", \"14\", \"15\", \"16\", \"17\", \"18\", \"19\", \"20\", \"21\", \"22\", \"23\", \"24\", \"25\", \"26\", \"27\", \"28\", \"29\", \"30\", \"31\", \"32\", \"33\", \"34\", \"35\", \"36\", \"37\", \"38\", \"39\", \"40\", \"41\", \"42\", \"43\", \"44\", \"45\", \"46\", \"47\", \"48\", \"49\", \"51\", \"52\"], \"mode\": \"markers\", \"name\": \"recall_score_weighted\", \"stepped\": false, \"type\": \"scatter\", \"data\": [0.964102564102564, 0.964102564102564, 0.9333333333333333, 0.8769230769230768, 0.9076923076923078, 0.9384615384615385, 0.9435897435897436, 0.9589743589743589, 0.9333333333333333, 0.9435897435897436, 0.9333333333333333, 0.9538461538461538, 0.923076923076923, 0.9025641025641026, 0.8974358974358975, 0.9435897435897436, 0.8923076923076924, 0.8820512820512821, 0.8410256410256409, 0.9435897435897436, 0.9282051282051282, 0.8307692307692307, 0.8974358974358975, 0.8615384615384615, 0.9025641025641026, 0.7538461538461538, 0.8717948717948719, 0.876923076923077, 0.8512820512820515, 0.923076923076923, 0.876923076923077, 0.8974358974358975, 0.917948717948718, 0.9487179487179487, 0.9435897435897436, 0.9128205128205128, 0.8820512820512821, 0.9487179487179487, 0.9076923076923077, 0.9435897435897436, 0.9230769230769231, 0.9230769230769231, 0.9179487179487179, 0.9282051282051282, 0.9384615384615385, 0.9282051282051282, 0.9230769230769231, 0.9384615384615385, 0.8871794871794872, 0.9384615384615385, 0.9692307692307693, 0.9538461538461538]}, {\"categories\": [\"0\", \"1\", \"2\", \"3\", \"4\", \"5\", \"6\", \"7\", \"8\", \"9\", \"10\", \"11\", \"12\", \"13\", \"14\", \"15\", \"16\", \"17\", \"18\", \"19\", \"20\", \"21\", \"22\", \"23\", \"24\", \"25\", \"26\", \"27\", \"28\", \"29\", \"30\", \"31\", \"32\", \"33\", \"34\", \"35\", \"36\", \"37\", \"38\", \"39\", \"40\", \"41\", \"42\", \"43\", \"44\", \"45\", \"46\", \"47\", \"48\", \"49\", \"51\", \"52\"], \"mode\": \"lines\", \"name\": \"recall_score_weighted_max\", \"stepped\": true, \"type\": \"scatter\", \"data\": [0.964102564102564, 0.964102564102564, 0.964102564102564, 0.964102564102564, 0.964102564102564, 0.964102564102564, 0.964102564102564, 0.964102564102564, 0.964102564102564, 0.964102564102564, 0.964102564102564, 0.964102564102564, 0.964102564102564, 0.964102564102564, 0.964102564102564, 0.964102564102564, 0.964102564102564, 0.964102564102564, 0.964102564102564, 0.964102564102564, 0.964102564102564, 0.964102564102564, 0.964102564102564, 0.964102564102564, 0.964102564102564, 0.964102564102564, 0.964102564102564, 0.964102564102564, 0.964102564102564, 0.964102564102564, 0.964102564102564, 0.964102564102564, 0.964102564102564, 0.964102564102564, 0.964102564102564, 0.964102564102564, 0.964102564102564, 0.964102564102564, 0.964102564102564, 0.964102564102564, 0.964102564102564, 0.964102564102564, 0.964102564102564, 0.964102564102564, 0.964102564102564, 0.964102564102564, 0.964102564102564, 0.964102564102564, 0.964102564102564, 0.964102564102564, 0.9692307692307693, 0.9692307692307693]}], \"weighted_accuracy\": [{\"categories\": [\"0\", \"1\", \"2\", \"3\", \"4\", \"5\", \"6\", \"7\", \"8\", \"9\", \"10\", \"11\", \"12\", \"13\", \"14\", \"15\", \"16\", \"17\", \"18\", \"19\", \"20\", \"21\", \"22\", \"23\", \"24\", \"25\", \"26\", \"27\", \"28\", \"29\", \"30\", \"31\", \"32\", \"33\", \"34\", \"35\", \"36\", \"37\", \"38\", \"39\", \"40\", \"41\", \"42\", \"43\", \"44\", \"45\", \"46\", \"47\", \"48\", \"49\", \"51\", \"52\"], \"mode\": \"markers\", \"name\": \"weighted_accuracy\", \"stepped\": false, \"type\": \"scatter\", \"data\": [0.9745738642316095, 0.9786287707561643, 0.957332769814623, 0.9164950408329677, 0.9427935859159862, 0.9602405041193268, 0.9621241840633337, 0.971683677743852, 0.9630995569716735, 0.9754946447585017, 0.9616889317454265, 0.9770646726333272, 0.9580927286772776, 0.9472701642236914, 0.9483545340203973, 0.9701271767072802, 0.9436251435968568, 0.9519082636108172, 0.8859055366212264, 0.9623232544738446, 0.9554826279022818, 0.8738921708584915, 0.9411653910274411, 0.9012720195920277, 0.9488882898258728, 0.892864526903305, 0.8837708014353112, 0.8923541247304589, 0.8652925701924458, 0.9583075977629999, 0.9329973572681093, 0.9144239962578808, 0.9461842987462331, 0.9682878397487746, 0.975186444436902, 0.9457734263299014, 0.9322781094089511, 0.9685222878134747, 0.9472245184428763, 0.9670919860765663, 0.9537244966662927, 0.9540150327931926, 0.9474841098315198, 0.9567677044205116, 0.9641625914323502, 0.9593166895001609, 0.9508638075029335, 0.9646841726170831, 0.9428350994666548, 0.9736597823731806, 0.9883931040829385, 0.9698321660071958]}, {\"categories\": [\"0\", \"1\", \"2\", \"3\", \"4\", \"5\", \"6\", \"7\", \"8\", \"9\", \"10\", \"11\", \"12\", \"13\", \"14\", \"15\", \"16\", \"17\", \"18\", \"19\", \"20\", \"21\", \"22\", \"23\", \"24\", \"25\", \"26\", \"27\", \"28\", \"29\", \"30\", \"31\", \"32\", \"33\", \"34\", \"35\", \"36\", \"37\", \"38\", \"39\", \"40\", \"41\", \"42\", \"43\", \"44\", \"45\", \"46\", \"47\", \"48\", \"49\", \"51\", \"52\"], \"mode\": \"lines\", \"name\": \"weighted_accuracy_max\", \"stepped\": true, \"type\": \"scatter\", \"data\": [0.9745738642316095, 0.9786287707561643, 0.9786287707561643, 0.9786287707561643, 0.9786287707561643, 0.9786287707561643, 0.9786287707561643, 0.9786287707561643, 0.9786287707561643, 0.9786287707561643, 0.9786287707561643, 0.9786287707561643, 0.9786287707561643, 0.9786287707561643, 0.9786287707561643, 0.9786287707561643, 0.9786287707561643, 0.9786287707561643, 0.9786287707561643, 0.9786287707561643, 0.9786287707561643, 0.9786287707561643, 0.9786287707561643, 0.9786287707561643, 0.9786287707561643, 0.9786287707561643, 0.9786287707561643, 0.9786287707561643, 0.9786287707561643, 0.9786287707561643, 0.9786287707561643, 0.9786287707561643, 0.9786287707561643, 0.9786287707561643, 0.9786287707561643, 0.9786287707561643, 0.9786287707561643, 0.9786287707561643, 0.9786287707561643, 0.9786287707561643, 0.9786287707561643, 0.9786287707561643, 0.9786287707561643, 0.9786287707561643, 0.9786287707561643, 0.9786287707561643, 0.9786287707561643, 0.9786287707561643, 0.9786287707561643, 0.9786287707561643, 0.9883931040829385, 0.9883931040829385]}], \"precision_score_micro\": [{\"categories\": [\"0\", \"1\", \"2\", \"3\", \"4\", \"5\", \"6\", \"7\", \"8\", \"9\", \"10\", \"11\", \"12\", \"13\", \"14\", \"15\", \"16\", \"17\", \"18\", \"19\", \"20\", \"21\", \"22\", \"23\", \"24\", \"25\", \"26\", \"27\", \"28\", \"29\", \"30\", \"31\", \"32\", \"33\", \"34\", \"35\", \"36\", \"37\", \"38\", \"39\", \"40\", \"41\", \"42\", \"43\", \"44\", \"45\", \"46\", \"47\", \"48\", \"49\", \"51\", \"52\"], \"mode\": \"markers\", \"name\": \"precision_score_micro\", \"stepped\": false, \"type\": \"scatter\", \"data\": [0.964102564102564, 0.964102564102564, 0.9333333333333333, 0.8769230769230768, 0.9076923076923078, 0.9384615384615385, 0.9435897435897436, 0.9589743589743589, 0.9333333333333333, 0.9435897435897436, 0.9333333333333333, 0.9538461538461538, 0.923076923076923, 0.9025641025641026, 0.8974358974358975, 0.9435897435897436, 0.8923076923076924, 0.8820512820512821, 0.8410256410256409, 0.9435897435897436, 0.9282051282051282, 0.8307692307692307, 0.8974358974358975, 0.8615384615384615, 0.9025641025641026, 0.7538461538461538, 0.8717948717948719, 0.876923076923077, 0.8512820512820515, 0.923076923076923, 0.876923076923077, 0.8974358974358975, 0.917948717948718, 0.9487179487179487, 0.9435897435897436, 0.9128205128205128, 0.8820512820512821, 0.9487179487179487, 0.9076923076923077, 0.9435897435897436, 0.9230769230769231, 0.9230769230769231, 0.9179487179487179, 0.9282051282051282, 0.9384615384615385, 0.9282051282051282, 0.9230769230769231, 0.9384615384615385, 0.8871794871794872, 0.9384615384615385, 0.9692307692307693, 0.9538461538461538]}, {\"categories\": [\"0\", \"1\", \"2\", \"3\", \"4\", \"5\", \"6\", \"7\", \"8\", \"9\", \"10\", \"11\", \"12\", \"13\", \"14\", \"15\", \"16\", \"17\", \"18\", \"19\", \"20\", \"21\", \"22\", \"23\", \"24\", \"25\", \"26\", \"27\", \"28\", \"29\", \"30\", \"31\", \"32\", \"33\", \"34\", \"35\", \"36\", \"37\", \"38\", \"39\", \"40\", \"41\", \"42\", \"43\", \"44\", \"45\", \"46\", \"47\", \"48\", \"49\", \"51\", \"52\"], \"mode\": \"lines\", \"name\": \"precision_score_micro_max\", \"stepped\": true, \"type\": \"scatter\", \"data\": [0.964102564102564, 0.964102564102564, 0.964102564102564, 0.964102564102564, 0.964102564102564, 0.964102564102564, 0.964102564102564, 0.964102564102564, 0.964102564102564, 0.964102564102564, 0.964102564102564, 0.964102564102564, 0.964102564102564, 0.964102564102564, 0.964102564102564, 0.964102564102564, 0.964102564102564, 0.964102564102564, 0.964102564102564, 0.964102564102564, 0.964102564102564, 0.964102564102564, 0.964102564102564, 0.964102564102564, 0.964102564102564, 0.964102564102564, 0.964102564102564, 0.964102564102564, 0.964102564102564, 0.964102564102564, 0.964102564102564, 0.964102564102564, 0.964102564102564, 0.964102564102564, 0.964102564102564, 0.964102564102564, 0.964102564102564, 0.964102564102564, 0.964102564102564, 0.964102564102564, 0.964102564102564, 0.964102564102564, 0.964102564102564, 0.964102564102564, 0.964102564102564, 0.964102564102564, 0.964102564102564, 0.964102564102564, 0.964102564102564, 0.964102564102564, 0.9692307692307693, 0.9692307692307693]}], \"precision_score_macro\": [{\"categories\": [\"0\", \"1\", \"2\", \"3\", \"4\", \"5\", \"6\", \"7\", \"8\", \"9\", \"10\", \"11\", \"12\", \"13\", \"14\", \"15\", \"16\", \"17\", \"18\", \"19\", \"20\", \"21\", \"22\", \"23\", \"24\", \"25\", \"26\", \"27\", \"28\", \"29\", \"30\", \"31\", \"32\", \"33\", \"34\", \"35\", \"36\", \"37\", \"38\", \"39\", \"40\", \"41\", \"42\", \"43\", \"44\", \"45\", \"46\", \"47\", \"48\", \"49\", \"51\", \"52\"], \"mode\": \"markers\", \"name\": \"precision_score_macro\", \"stepped\": false, \"type\": \"scatter\", \"data\": [0.9647653116257121, 0.9719507575757576, 0.9246477970953778, 0.8800302324487108, 0.8963831168831169, 0.9286443932411675, 0.9479596127307228, 0.9667279411764707, 0.9239853896103897, 0.9635335497835499, 0.9322554112554112, 0.9636412198912201, 0.9350480646804176, 0.9284889228418642, 0.927667996491526, 0.9605782085561497, 0.9128604728604728, 0.9328341961202001, 0.800623004446534, 0.9482620320855615, 0.935154338415208, 0.7837564219549514, 0.9108408696259328, 0.8565237132721251, 0.9124968169085816, 0.3769230769230769, 0.8396065477362329, 0.847599100246159, 0.8139707419017764, 0.9440089029683019, 0.8736951191134761, 0.8775251134936732, 0.9003462233704169, 0.9607620320855614, 0.963286541889483, 0.8919134293126231, 0.8701647609190305, 0.9497034864776801, 0.9061595741387014, 0.9486816610808546, 0.9093241435983372, 0.9115157020398957, 0.917816039459262, 0.9380204354469059, 0.9480782085561497, 0.9367775231304643, 0.91051267281106, 0.9406695992179863, 0.8852037178507766, 0.9606926406926407, 0.98125, 0.9638809226036456]}, {\"categories\": [\"0\", \"1\", \"2\", \"3\", \"4\", \"5\", \"6\", \"7\", \"8\", \"9\", \"10\", \"11\", \"12\", \"13\", \"14\", \"15\", \"16\", \"17\", \"18\", \"19\", \"20\", \"21\", \"22\", \"23\", \"24\", \"25\", \"26\", \"27\", \"28\", \"29\", \"30\", \"31\", \"32\", \"33\", \"34\", \"35\", \"36\", \"37\", \"38\", \"39\", \"40\", \"41\", \"42\", \"43\", \"44\", \"45\", \"46\", \"47\", \"48\", \"49\", \"51\", \"52\"], \"mode\": \"lines\", \"name\": \"precision_score_macro_max\", \"stepped\": true, \"type\": \"scatter\", \"data\": [0.9647653116257121, 0.9719507575757576, 0.9719507575757576, 0.9719507575757576, 0.9719507575757576, 0.9719507575757576, 0.9719507575757576, 0.9719507575757576, 0.9719507575757576, 0.9719507575757576, 0.9719507575757576, 0.9719507575757576, 0.9719507575757576, 0.9719507575757576, 0.9719507575757576, 0.9719507575757576, 0.9719507575757576, 0.9719507575757576, 0.9719507575757576, 0.9719507575757576, 0.9719507575757576, 0.9719507575757576, 0.9719507575757576, 0.9719507575757576, 0.9719507575757576, 0.9719507575757576, 0.9719507575757576, 0.9719507575757576, 0.9719507575757576, 0.9719507575757576, 0.9719507575757576, 0.9719507575757576, 0.9719507575757576, 0.9719507575757576, 0.9719507575757576, 0.9719507575757576, 0.9719507575757576, 0.9719507575757576, 0.9719507575757576, 0.9719507575757576, 0.9719507575757576, 0.9719507575757576, 0.9719507575757576, 0.9719507575757576, 0.9719507575757576, 0.9719507575757576, 0.9719507575757576, 0.9719507575757576, 0.9719507575757576, 0.9719507575757576, 0.98125, 0.98125]}], \"accuracy\": [{\"categories\": [\"0\", \"1\", \"2\", \"3\", \"4\", \"5\", \"6\", \"7\", \"8\", \"9\", \"10\", \"11\", \"12\", \"13\", \"14\", \"15\", \"16\", \"17\", \"18\", \"19\", \"20\", \"21\", \"22\", \"23\", \"24\", \"25\", \"26\", \"27\", \"28\", \"29\", \"30\", \"31\", \"32\", \"33\", \"34\", \"35\", \"36\", \"37\", \"38\", \"39\", \"40\", \"41\", \"42\", \"43\", \"44\", \"45\", \"46\", \"47\", \"48\", \"49\", \"51\", \"52\"], \"mode\": \"markers\", \"name\": \"accuracy\", \"stepped\": false, \"type\": \"scatter\", \"data\": [0.964102564102564, 0.964102564102564, 0.9333333333333333, 0.8769230769230768, 0.9076923076923078, 0.9384615384615385, 0.9435897435897436, 0.9589743589743589, 0.9333333333333333, 0.9435897435897436, 0.9333333333333333, 0.9538461538461538, 0.923076923076923, 0.9025641025641026, 0.8974358974358975, 0.9435897435897436, 0.8923076923076924, 0.8820512820512821, 0.8410256410256409, 0.9435897435897436, 0.9282051282051282, 0.8307692307692307, 0.8974358974358975, 0.8615384615384615, 0.9025641025641026, 0.7538461538461538, 0.8717948717948719, 0.876923076923077, 0.8512820512820515, 0.923076923076923, 0.876923076923077, 0.8974358974358975, 0.917948717948718, 0.9487179487179487, 0.9435897435897436, 0.9128205128205128, 0.8820512820512821, 0.9487179487179487, 0.9076923076923077, 0.9435897435897436, 0.9230769230769231, 0.9230769230769231, 0.9179487179487179, 0.9282051282051282, 0.9384615384615385, 0.9282051282051282, 0.9230769230769231, 0.9384615384615385, 0.8871794871794872, 0.9384615384615385, 0.9692307692307693, 0.9538461538461538]}, {\"categories\": [\"0\", \"1\", \"2\", \"3\", \"4\", \"5\", \"6\", \"7\", \"8\", \"9\", \"10\", \"11\", \"12\", \"13\", \"14\", \"15\", \"16\", \"17\", \"18\", \"19\", \"20\", \"21\", \"22\", \"23\", \"24\", \"25\", \"26\", \"27\", \"28\", \"29\", \"30\", \"31\", \"32\", \"33\", \"34\", \"35\", \"36\", \"37\", \"38\", \"39\", \"40\", \"41\", \"42\", \"43\", \"44\", \"45\", \"46\", \"47\", \"48\", \"49\", \"51\", \"52\"], \"mode\": \"lines\", \"name\": \"accuracy_max\", \"stepped\": true, \"type\": \"scatter\", \"data\": [0.964102564102564, 0.964102564102564, 0.964102564102564, 0.964102564102564, 0.964102564102564, 0.964102564102564, 0.964102564102564, 0.964102564102564, 0.964102564102564, 0.964102564102564, 0.964102564102564, 0.964102564102564, 0.964102564102564, 0.964102564102564, 0.964102564102564, 0.964102564102564, 0.964102564102564, 0.964102564102564, 0.964102564102564, 0.964102564102564, 0.964102564102564, 0.964102564102564, 0.964102564102564, 0.964102564102564, 0.964102564102564, 0.964102564102564, 0.964102564102564, 0.964102564102564, 0.964102564102564, 0.964102564102564, 0.964102564102564, 0.964102564102564, 0.964102564102564, 0.964102564102564, 0.964102564102564, 0.964102564102564, 0.964102564102564, 0.964102564102564, 0.964102564102564, 0.964102564102564, 0.964102564102564, 0.964102564102564, 0.964102564102564, 0.964102564102564, 0.964102564102564, 0.964102564102564, 0.964102564102564, 0.964102564102564, 0.964102564102564, 0.964102564102564, 0.9692307692307693, 0.9692307692307693]}], \"f1_score_micro\": [{\"categories\": [\"0\", \"1\", \"2\", \"3\", \"4\", \"5\", \"6\", \"7\", \"8\", \"9\", \"10\", \"11\", \"12\", \"13\", \"14\", \"15\", \"16\", \"17\", \"18\", \"19\", \"20\", \"21\", \"22\", \"23\", \"24\", \"25\", \"26\", \"27\", \"28\", \"29\", \"30\", \"31\", \"32\", \"33\", \"34\", \"35\", \"36\", \"37\", \"38\", \"39\", \"40\", \"41\", \"42\", \"43\", \"44\", \"45\", \"46\", \"47\", \"48\", \"49\", \"51\", \"52\"], \"mode\": \"markers\", \"name\": \"f1_score_micro\", \"stepped\": false, \"type\": \"scatter\", \"data\": [0.964102564102564, 0.964102564102564, 0.9333333333333333, 0.876923076923077, 0.9076923076923078, 0.9384615384615385, 0.9435897435897436, 0.9589743589743589, 0.9333333333333333, 0.9435897435897436, 0.9333333333333333, 0.9538461538461538, 0.923076923076923, 0.9025641025641026, 0.8974358974358975, 0.9435897435897436, 0.8923076923076924, 0.8820512820512821, 0.8410256410256409, 0.9435897435897436, 0.9282051282051282, 0.8307692307692307, 0.8974358974358975, 0.8615384615384615, 0.9025641025641026, 0.7538461538461538, 0.8717948717948719, 0.876923076923077, 0.8512820512820515, 0.923076923076923, 0.876923076923077, 0.8974358974358975, 0.917948717948718, 0.9487179487179487, 0.9435897435897436, 0.9128205128205128, 0.8820512820512821, 0.9487179487179487, 0.9076923076923077, 0.9435897435897436, 0.9230769230769231, 0.9230769230769231, 0.9179487179487179, 0.9282051282051282, 0.9384615384615385, 0.9282051282051282, 0.9230769230769231, 0.9384615384615385, 0.8871794871794872, 0.9384615384615385, 0.9692307692307693, 0.9538461538461538]}, {\"categories\": [\"0\", \"1\", \"2\", \"3\", \"4\", \"5\", \"6\", \"7\", \"8\", \"9\", \"10\", \"11\", \"12\", \"13\", \"14\", \"15\", \"16\", \"17\", \"18\", \"19\", \"20\", \"21\", \"22\", \"23\", \"24\", \"25\", \"26\", \"27\", \"28\", \"29\", \"30\", \"31\", \"32\", \"33\", \"34\", \"35\", \"36\", \"37\", \"38\", \"39\", \"40\", \"41\", \"42\", \"43\", \"44\", \"45\", \"46\", \"47\", \"48\", \"49\", \"51\", \"52\"], \"mode\": \"lines\", \"name\": \"f1_score_micro_max\", \"stepped\": true, \"type\": \"scatter\", \"data\": [0.964102564102564, 0.964102564102564, 0.964102564102564, 0.964102564102564, 0.964102564102564, 0.964102564102564, 0.964102564102564, 0.964102564102564, 0.964102564102564, 0.964102564102564, 0.964102564102564, 0.964102564102564, 0.964102564102564, 0.964102564102564, 0.964102564102564, 0.964102564102564, 0.964102564102564, 0.964102564102564, 0.964102564102564, 0.964102564102564, 0.964102564102564, 0.964102564102564, 0.964102564102564, 0.964102564102564, 0.964102564102564, 0.964102564102564, 0.964102564102564, 0.964102564102564, 0.964102564102564, 0.964102564102564, 0.964102564102564, 0.964102564102564, 0.964102564102564, 0.964102564102564, 0.964102564102564, 0.964102564102564, 0.964102564102564, 0.964102564102564, 0.964102564102564, 0.964102564102564, 0.964102564102564, 0.964102564102564, 0.964102564102564, 0.964102564102564, 0.964102564102564, 0.964102564102564, 0.964102564102564, 0.964102564102564, 0.964102564102564, 0.964102564102564, 0.9692307692307693, 0.9692307692307693]}], \"average_precision_score_macro\": [{\"categories\": [\"0\", \"1\", \"2\", \"3\", \"4\", \"5\", \"6\", \"7\", \"8\", \"9\", \"10\", \"11\", \"12\", \"13\", \"14\", \"15\", \"16\", \"17\", \"18\", \"19\", \"20\", \"21\", \"22\", \"23\", \"24\", \"25\", \"26\", \"27\", \"28\", \"29\", \"30\", \"31\", \"32\", \"33\", \"34\", \"35\", \"36\", \"37\", \"38\", \"39\", \"40\", \"41\", \"42\", \"43\", \"44\", \"45\", \"46\", \"47\", \"48\", \"49\", \"51\", \"52\"], \"mode\": \"markers\", \"name\": \"average_precision_score_macro\", \"stepped\": false, \"type\": \"scatter\", \"data\": [0.9911416177596116, 0.9929083781751883, 0.9612726651636978, 0.9352706440796054, 0.9564719256902006, 0.9707177109054813, 0.9812636522337902, 0.9845373971656045, 0.9586747378360126, 0.9714146798905586, 0.9460351032171956, 0.9846484237291013, 0.9616265618350075, 0.9513657563274499, 0.9541697288220095, 0.9703796742835635, 0.947294630999095, 0.9524175945106512, 0.8949213394363934, 0.9757411712778762, 0.9655786880132687, 0.893697605950622, 0.9514104206194796, 0.9189935040779229, 0.9466034573037765, 0.5, 0.9353488630112723, 0.9549578651828456, 0.9203273301465511, 0.9567492499689347, 0.9143961242683869, 0.9165888631830612, 0.9474245542701212, 0.9831088456695614, 0.9600637466369066, 0.9408118854569245, 0.9225179394322955, 0.9542177900563746, 0.9469071018013567, 0.9730556705527814, 0.9524390900585085, 0.943977975006917, 0.9652805696124345, 0.9765902634393535, 0.9767374536082102, 0.9519114588011884, 0.9484355713981983, 0.9721887685097566, 0.9223315541560508, 0.9566243269460291, 0.9962714646464645, 0.9953989463601532]}, {\"categories\": [\"0\", \"1\", \"2\", \"3\", \"4\", \"5\", \"6\", \"7\", \"8\", \"9\", \"10\", \"11\", \"12\", \"13\", \"14\", \"15\", \"16\", \"17\", \"18\", \"19\", \"20\", \"21\", \"22\", \"23\", \"24\", \"25\", \"26\", \"27\", \"28\", \"29\", \"30\", \"31\", \"32\", \"33\", \"34\", \"35\", \"36\", \"37\", \"38\", \"39\", \"40\", \"41\", \"42\", \"43\", \"44\", \"45\", \"46\", \"47\", \"48\", \"49\", \"51\", \"52\"], \"mode\": \"lines\", \"name\": \"average_precision_score_macro_max\", \"stepped\": true, \"type\": \"scatter\", \"data\": [0.9911416177596116, 0.9929083781751883, 0.9929083781751883, 0.9929083781751883, 0.9929083781751883, 0.9929083781751883, 0.9929083781751883, 0.9929083781751883, 0.9929083781751883, 0.9929083781751883, 0.9929083781751883, 0.9929083781751883, 0.9929083781751883, 0.9929083781751883, 0.9929083781751883, 0.9929083781751883, 0.9929083781751883, 0.9929083781751883, 0.9929083781751883, 0.9929083781751883, 0.9929083781751883, 0.9929083781751883, 0.9929083781751883, 0.9929083781751883, 0.9929083781751883, 0.9929083781751883, 0.9929083781751883, 0.9929083781751883, 0.9929083781751883, 0.9929083781751883, 0.9929083781751883, 0.9929083781751883, 0.9929083781751883, 0.9929083781751883, 0.9929083781751883, 0.9929083781751883, 0.9929083781751883, 0.9929083781751883, 0.9929083781751883, 0.9929083781751883, 0.9929083781751883, 0.9929083781751883, 0.9929083781751883, 0.9929083781751883, 0.9929083781751883, 0.9929083781751883, 0.9929083781751883, 0.9929083781751883, 0.9929083781751883, 0.9929083781751883, 0.9962714646464645, 0.9962714646464645]}], \"log_loss\": [{\"categories\": [\"0\", \"1\", \"2\", \"3\", \"4\", \"5\", \"6\", \"7\", \"8\", \"9\", \"10\", \"11\", \"12\", \"13\", \"14\", \"15\", \"16\", \"17\", \"18\", \"19\", \"20\", \"21\", \"22\", \"23\", \"24\", \"25\", \"26\", \"27\", \"28\", \"29\", \"30\", \"31\", \"32\", \"33\", \"34\", \"35\", \"36\", \"37\", \"38\", \"39\", \"40\", \"41\", \"42\", \"43\", \"44\", \"45\", \"46\", \"47\", \"48\", \"49\", \"51\", \"52\"], \"mode\": \"markers\", \"name\": \"log_loss\", \"stepped\": false, \"type\": \"scatter\", \"data\": [0.09697701271279814, 0.1254761327246973, 0.2316217679918336, 0.2585261992197849, 0.2306135135907205, 0.23098384170625247, 0.17534441945288823, 0.13449557470880982, 0.18944367561705783, 0.17069630858165902, 0.23064248015025118, 0.14443658715883564, 0.22202964139204145, 0.2979152450927026, 0.2900093626109266, 0.22274830607683507, 0.26662183918290283, 0.2997733025827808, 0.315865104094093, 0.17940200487422517, 0.19921180053422632, 0.31605587881242825, 0.3694263933535289, 0.3970721853409317, 0.2496695855356157, 0.5644257684690378, 0.2384368203023493, 0.25022009799595246, 0.2997867223341585, 0.2507116870990357, 0.4338683004163596, 0.3712864068790528, 0.22971832624633487, 0.1382166774845765, 0.20291952536409683, 0.23717186898884984, 0.30381479938087674, 0.18073114015812752, 0.26131116517472125, 0.3202055996853156, 0.19677748676782247, 0.23972712701989854, 0.19647608469099181, 0.17944516067670183, 0.16118914078319588, 0.222219488878958, 0.23474177500720464, 0.21073192411775427, 0.27339849585856013, 0.21159980476569223, 0.1128700975034, 0.1644819155439144]}, {\"categories\": [\"0\", \"1\", \"2\", \"3\", \"4\", \"5\", \"6\", \"7\", \"8\", \"9\", \"10\", \"11\", \"12\", \"13\", \"14\", \"15\", \"16\", \"17\", \"18\", \"19\", \"20\", \"21\", \"22\", \"23\", \"24\", \"25\", \"26\", \"27\", \"28\", \"29\", \"30\", \"31\", \"32\", \"33\", \"34\", \"35\", \"36\", \"37\", \"38\", \"39\", \"40\", \"41\", \"42\", \"43\", \"44\", \"45\", \"46\", \"47\", \"48\", \"49\", \"51\", \"52\"], \"mode\": \"lines\", \"name\": \"log_loss_min\", \"stepped\": true, \"type\": \"scatter\", \"data\": [0.09697701271279814, 0.09697701271279814, 0.09697701271279814, 0.09697701271279814, 0.09697701271279814, 0.09697701271279814, 0.09697701271279814, 0.09697701271279814, 0.09697701271279814, 0.09697701271279814, 0.09697701271279814, 0.09697701271279814, 0.09697701271279814, 0.09697701271279814, 0.09697701271279814, 0.09697701271279814, 0.09697701271279814, 0.09697701271279814, 0.09697701271279814, 0.09697701271279814, 0.09697701271279814, 0.09697701271279814, 0.09697701271279814, 0.09697701271279814, 0.09697701271279814, 0.09697701271279814, 0.09697701271279814, 0.09697701271279814, 0.09697701271279814, 0.09697701271279814, 0.09697701271279814, 0.09697701271279814, 0.09697701271279814, 0.09697701271279814, 0.09697701271279814, 0.09697701271279814, 0.09697701271279814, 0.09697701271279814, 0.09697701271279814, 0.09697701271279814, 0.09697701271279814, 0.09697701271279814, 0.09697701271279814, 0.09697701271279814, 0.09697701271279814, 0.09697701271279814, 0.09697701271279814, 0.09697701271279814, 0.09697701271279814, 0.09697701271279814, 0.09697701271279814, 0.09697701271279814]}], \"AUC_micro\": [{\"categories\": [\"0\", \"1\", \"2\", \"3\", \"4\", \"5\", \"6\", \"7\", \"8\", \"9\", \"10\", \"11\", \"12\", \"13\", \"14\", \"15\", \"16\", \"17\", \"18\", \"19\", \"20\", \"21\", \"22\", \"23\", \"24\", \"25\", \"26\", \"27\", \"28\", \"29\", \"30\", \"31\", \"32\", \"33\", \"34\", \"35\", \"36\", \"37\", \"38\", \"39\", \"40\", \"41\", \"42\", \"43\", \"44\", \"45\", \"46\", \"47\", \"48\", \"49\", \"51\", \"52\"], \"mode\": \"markers\", \"name\": \"AUC_micro\", \"stepped\": false, \"type\": \"scatter\", \"data\": [0.9935568704799473, 0.9914529914529915, 0.9759368836291914, 0.9587113740959895, 0.9747534516765286, 0.9842209072978303, 0.9840894148586458, 0.9873767258382642, 0.9769888231426693, 0.9817225509533202, 0.9692307692307691, 0.9882971729125576, 0.9764628533859303, 0.9635765943458251, 0.9663379355687048, 0.9830374753451677, 0.9664694280078896, 0.9635765943458251, 0.937015121630506, 0.9825115055884286, 0.9789612097304404, 0.9380670611439843, 0.9671268902038133, 0.9522682445759368, 0.9688362919132152, 0.7538461538461538, 0.961078238001315, 0.9687047994740302, 0.9438527284681131, 0.9719921104536489, 0.948060486522025, 0.9533201840894149, 0.9718606180144642, 0.9879026955950032, 0.9754109138724523, 0.9677843523997371, 0.9488494411571334, 0.9744904667981592, 0.9737015121630506, 0.9846153846153847, 0.9743589743589745, 0.965154503616042, 0.9792241946088099, 0.9834319526627219, 0.9842209072978303, 0.9697567389875081, 0.968310322156476, 0.9810650887573965, 0.9534516765285996, 0.9737015121630506, 0.99474030243261, 0.985930309007232]}, {\"categories\": [\"0\", \"1\", \"2\", \"3\", \"4\", \"5\", \"6\", \"7\", \"8\", \"9\", \"10\", \"11\", \"12\", \"13\", \"14\", \"15\", \"16\", \"17\", \"18\", \"19\", \"20\", \"21\", \"22\", \"23\", \"24\", \"25\", \"26\", \"27\", \"28\", \"29\", \"30\", \"31\", \"32\", \"33\", \"34\", \"35\", \"36\", \"37\", \"38\", \"39\", \"40\", \"41\", \"42\", \"43\", \"44\", \"45\", \"46\", \"47\", \"48\", \"49\", \"51\", \"52\"], \"mode\": \"lines\", \"name\": \"AUC_micro_max\", \"stepped\": true, \"type\": \"scatter\", \"data\": [0.9935568704799473, 0.9935568704799473, 0.9935568704799473, 0.9935568704799473, 0.9935568704799473, 0.9935568704799473, 0.9935568704799473, 0.9935568704799473, 0.9935568704799473, 0.9935568704799473, 0.9935568704799473, 0.9935568704799473, 0.9935568704799473, 0.9935568704799473, 0.9935568704799473, 0.9935568704799473, 0.9935568704799473, 0.9935568704799473, 0.9935568704799473, 0.9935568704799473, 0.9935568704799473, 0.9935568704799473, 0.9935568704799473, 0.9935568704799473, 0.9935568704799473, 0.9935568704799473, 0.9935568704799473, 0.9935568704799473, 0.9935568704799473, 0.9935568704799473, 0.9935568704799473, 0.9935568704799473, 0.9935568704799473, 0.9935568704799473, 0.9935568704799473, 0.9935568704799473, 0.9935568704799473, 0.9935568704799473, 0.9935568704799473, 0.9935568704799473, 0.9935568704799473, 0.9935568704799473, 0.9935568704799473, 0.9935568704799473, 0.9935568704799473, 0.9935568704799473, 0.9935568704799473, 0.9935568704799473, 0.9935568704799473, 0.9935568704799473, 0.99474030243261, 0.99474030243261]}], \"average_precision_score_weighted\": [{\"categories\": [\"0\", \"1\", \"2\", \"3\", \"4\", \"5\", \"6\", \"7\", \"8\", \"9\", \"10\", \"11\", \"12\", \"13\", \"14\", \"15\", \"16\", \"17\", \"18\", \"19\", \"20\", \"21\", \"22\", \"23\", \"24\", \"25\", \"26\", \"27\", \"28\", \"29\", \"30\", \"31\", \"32\", \"33\", \"34\", \"35\", \"36\", \"37\", \"38\", \"39\", \"40\", \"41\", \"42\", \"43\", \"44\", \"45\", \"46\", \"47\", \"48\", \"49\", \"51\", \"52\"], \"mode\": \"markers\", \"name\": \"average_precision_score_weighted\", \"stepped\": false, \"type\": \"scatter\", \"data\": [0.9950476709071372, 0.9958508468385183, 0.9755837287859805, 0.9577456139868646, 0.9724873885278129, 0.982021542910924, 0.9885683035399244, 0.9889112217717863, 0.9732545863272797, 0.9815555433300706, 0.9638922344695267, 0.9893344923166291, 0.9760047267063705, 0.9683395703468884, 0.9696363180721723, 0.9814337508508663, 0.9668628625746496, 0.9699160848491823, 0.9334207885110086, 0.9841020472085173, 0.978762838231898, 0.9338417584478581, 0.9692766602142552, 0.946719504557921, 0.9669382696729478, 0.6365548980933596, 0.9582837183671892, 0.9723055684824102, 0.9486010531834973, 0.972498749699595, 0.948328032543656, 0.9393449269750775, 0.9680350783772216, 0.989221832250399, 0.9737490041188892, 0.9637041099717406, 0.950731913760394, 0.9704371865492245, 0.9701412382220689, 0.983950288852823, 0.9702178915788849, 0.9633914387979399, 0.9777649874317259, 0.98602320768171, 0.9859539838475504, 0.9682037952759945, 0.9664317509994202, 0.9823552126500003, 0.9504930684460225, 0.9730805744641483, 0.9980011759447244, 0.9974746909354806]}, {\"categories\": [\"0\", \"1\", \"2\", \"3\", \"4\", \"5\", \"6\", \"7\", \"8\", \"9\", \"10\", \"11\", \"12\", \"13\", \"14\", \"15\", \"16\", \"17\", \"18\", \"19\", \"20\", \"21\", \"22\", \"23\", \"24\", \"25\", \"26\", \"27\", \"28\", \"29\", \"30\", \"31\", \"32\", \"33\", \"34\", \"35\", \"36\", \"37\", \"38\", \"39\", \"40\", \"41\", \"42\", \"43\", \"44\", \"45\", \"46\", \"47\", \"48\", \"49\", \"51\", \"52\"], \"mode\": \"lines\", \"name\": \"average_precision_score_weighted_max\", \"stepped\": true, \"type\": \"scatter\", \"data\": [0.9950476709071372, 0.9958508468385183, 0.9958508468385183, 0.9958508468385183, 0.9958508468385183, 0.9958508468385183, 0.9958508468385183, 0.9958508468385183, 0.9958508468385183, 0.9958508468385183, 0.9958508468385183, 0.9958508468385183, 0.9958508468385183, 0.9958508468385183, 0.9958508468385183, 0.9958508468385183, 0.9958508468385183, 0.9958508468385183, 0.9958508468385183, 0.9958508468385183, 0.9958508468385183, 0.9958508468385183, 0.9958508468385183, 0.9958508468385183, 0.9958508468385183, 0.9958508468385183, 0.9958508468385183, 0.9958508468385183, 0.9958508468385183, 0.9958508468385183, 0.9958508468385183, 0.9958508468385183, 0.9958508468385183, 0.9958508468385183, 0.9958508468385183, 0.9958508468385183, 0.9958508468385183, 0.9958508468385183, 0.9958508468385183, 0.9958508468385183, 0.9958508468385183, 0.9958508468385183, 0.9958508468385183, 0.9958508468385183, 0.9958508468385183, 0.9958508468385183, 0.9958508468385183, 0.9958508468385183, 0.9958508468385183, 0.9958508468385183, 0.9980011759447244, 0.9980011759447244]}], \"AUC_weighted\": [{\"categories\": [\"0\", \"1\", \"2\", \"3\", \"4\", \"5\", \"6\", \"7\", \"8\", \"9\", \"10\", \"11\", \"12\", \"13\", \"14\", \"15\", \"16\", \"17\", \"18\", \"19\", \"20\", \"21\", \"22\", \"23\", \"24\", \"25\", \"26\", \"27\", \"28\", \"29\", \"30\", \"31\", \"32\", \"33\", \"34\", \"35\", \"36\", \"37\", \"38\", \"39\", \"40\", \"41\", \"42\", \"43\", \"44\", \"45\", \"46\", \"47\", \"48\", \"49\", \"51\", \"52\"], \"mode\": \"markers\", \"name\": \"AUC_weighted\", \"stepped\": false, \"type\": \"scatter\", \"data\": [0.9929244427965228, 0.9948905956647891, 0.9655961532802466, 0.9458285205195661, 0.9666305904267528, 0.9782877859585313, 0.9865314782444926, 0.9843714650611203, 0.9617171489779943, 0.9751130650752453, 0.9490649928491977, 0.9846232439335887, 0.9688389686365214, 0.9607172431449407, 0.9642316698153739, 0.9768588202058724, 0.9582437923383418, 0.9588759115066123, 0.9161417418530877, 0.9810003413551801, 0.9748362422091565, 0.9132819431937896, 0.9570999184867371, 0.9446224641135654, 0.9530447469557591, 0.5, 0.9520750701838022, 0.9670713299904067, 0.9307101953375589, 0.9662269879525163, 0.9293200955205961, 0.9285730080748156, 0.9559806531066263, 0.9859397037272455, 0.9611138993355345, 0.9497229608442066, 0.9269883806816509, 0.9567070584011631, 0.9650118223658268, 0.9796200143016052, 0.9561727316065468, 0.9475494626598631, 0.9749274370111412, 0.982693202617841, 0.9836546309538523, 0.9524698136083009, 0.9506362227872238, 0.9758801961026655, 0.9280239448887947, 0.9627952516317366, 0.9977120669056152, 0.9969713261648746]}, {\"categories\": [\"0\", \"1\", \"2\", \"3\", \"4\", \"5\", \"6\", \"7\", \"8\", \"9\", \"10\", \"11\", \"12\", \"13\", \"14\", \"15\", \"16\", \"17\", \"18\", \"19\", \"20\", \"21\", \"22\", \"23\", \"24\", \"25\", \"26\", \"27\", \"28\", \"29\", \"30\", \"31\", \"32\", \"33\", \"34\", \"35\", \"36\", \"37\", \"38\", \"39\", \"40\", \"41\", \"42\", \"43\", \"44\", \"45\", \"46\", \"47\", \"48\", \"49\", \"51\", \"52\"], \"mode\": \"lines\", \"name\": \"AUC_weighted_max\", \"stepped\": true, \"type\": \"scatter\", \"data\": [0.9929244427965228, 0.9948905956647891, 0.9948905956647891, 0.9948905956647891, 0.9948905956647891, 0.9948905956647891, 0.9948905956647891, 0.9948905956647891, 0.9948905956647891, 0.9948905956647891, 0.9948905956647891, 0.9948905956647891, 0.9948905956647891, 0.9948905956647891, 0.9948905956647891, 0.9948905956647891, 0.9948905956647891, 0.9948905956647891, 0.9948905956647891, 0.9948905956647891, 0.9948905956647891, 0.9948905956647891, 0.9948905956647891, 0.9948905956647891, 0.9948905956647891, 0.9948905956647891, 0.9948905956647891, 0.9948905956647891, 0.9948905956647891, 0.9948905956647891, 0.9948905956647891, 0.9948905956647891, 0.9948905956647891, 0.9948905956647891, 0.9948905956647891, 0.9948905956647891, 0.9948905956647891, 0.9948905956647891, 0.9948905956647891, 0.9948905956647891, 0.9948905956647891, 0.9948905956647891, 0.9948905956647891, 0.9948905956647891, 0.9948905956647891, 0.9948905956647891, 0.9948905956647891, 0.9948905956647891, 0.9948905956647891, 0.9948905956647891, 0.9977120669056152, 0.9977120669056152]}], \"f1_score_weighted\": [{\"categories\": [\"0\", \"1\", \"2\", \"3\", \"4\", \"5\", \"6\", \"7\", \"8\", \"9\", \"10\", \"11\", \"12\", \"13\", \"14\", \"15\", \"16\", \"17\", \"18\", \"19\", \"20\", \"21\", \"22\", \"23\", \"24\", \"25\", \"26\", \"27\", \"28\", \"29\", \"30\", \"31\", \"32\", \"33\", \"34\", \"35\", \"36\", \"37\", \"38\", \"39\", \"40\", \"41\", \"42\", \"43\", \"44\", \"45\", \"46\", \"47\", \"48\", \"49\", \"51\", \"52\"], \"mode\": \"markers\", \"name\": \"f1_score_weighted\", \"stepped\": false, \"type\": \"scatter\", \"data\": [0.9635496298140946, 0.9628368745273296, 0.9311045493737502, 0.8726551620783211, 0.9034990168364858, 0.9364347259111284, 0.9417430399997319, 0.9577730219663486, 0.9296134152585764, 0.93845063115284, 0.9306772959314887, 0.9513744694269535, 0.9184449019113299, 0.8946331908831908, 0.8881320602474447, 0.9391595441595442, 0.8816858894554972, 0.8629073398041059, 0.8346678357952866, 0.9416918450787202, 0.9252567384825449, 0.825714020175548, 0.8894386534336907, 0.8551297313797314, 0.8928731838593867, 0.6495164816362269, 0.873386207579756, 0.8785602914320043, 0.8529171664494936, 0.9183120165378229, 0.866325542928107, 0.8962022983502254, 0.9153495651282979, 0.9466898100766852, 0.9391640941212657, 0.9089710252265597, 0.8742223489298961, 0.9466460989998694, 0.9030265613806338, 0.941134410624682, 0.919703035152118, 0.920228145249039, 0.9141535843705564, 0.9239001421568341, 0.9341615791615793, 0.9236802191237675, 0.9208485382875224, 0.9354230673188246, 0.877361097645568, 0.9326258645216218, 0.9676457735824083, 0.9519581384551016]}, {\"categories\": [\"0\", \"1\", \"2\", \"3\", \"4\", \"5\", \"6\", \"7\", \"8\", \"9\", \"10\", \"11\", \"12\", \"13\", \"14\", \"15\", \"16\", \"17\", \"18\", \"19\", \"20\", \"21\", \"22\", \"23\", \"24\", \"25\", \"26\", \"27\", \"28\", \"29\", \"30\", \"31\", \"32\", \"33\", \"34\", \"35\", \"36\", \"37\", \"38\", \"39\", \"40\", \"41\", \"42\", \"43\", \"44\", \"45\", \"46\", \"47\", \"48\", \"49\", \"51\", \"52\"], \"mode\": \"lines\", \"name\": \"f1_score_weighted_max\", \"stepped\": true, \"type\": \"scatter\", \"data\": [0.9635496298140946, 0.9635496298140946, 0.9635496298140946, 0.9635496298140946, 0.9635496298140946, 0.9635496298140946, 0.9635496298140946, 0.9635496298140946, 0.9635496298140946, 0.9635496298140946, 0.9635496298140946, 0.9635496298140946, 0.9635496298140946, 0.9635496298140946, 0.9635496298140946, 0.9635496298140946, 0.9635496298140946, 0.9635496298140946, 0.9635496298140946, 0.9635496298140946, 0.9635496298140946, 0.9635496298140946, 0.9635496298140946, 0.9635496298140946, 0.9635496298140946, 0.9635496298140946, 0.9635496298140946, 0.9635496298140946, 0.9635496298140946, 0.9635496298140946, 0.9635496298140946, 0.9635496298140946, 0.9635496298140946, 0.9635496298140946, 0.9635496298140946, 0.9635496298140946, 0.9635496298140946, 0.9635496298140946, 0.9635496298140946, 0.9635496298140946, 0.9635496298140946, 0.9635496298140946, 0.9635496298140946, 0.9635496298140946, 0.9635496298140946, 0.9635496298140946, 0.9635496298140946, 0.9635496298140946, 0.9635496298140946, 0.9635496298140946, 0.9676457735824083, 0.9676457735824083]}]}, \"metricName\": null, \"primaryMetricName\": \"accuracy\", \"showLegend\": false}, \"run_metrics\": [{\"name\": \"experiment_status\", \"run_id\": \"AutoML_fb271a28-e0a5-487d-8b3d-531bda210902\", \"categories\": [0, 1, 2, 3, 4, 5], \"series\": [{\"data\": [\"DatasetEvaluation\", \"FeaturesGeneration\", \"DatasetFeaturization\", \"DatasetFeaturizationCompleted\", \"DatasetCrossValidationSplit\", \"ModelSelection\"]}]}, {\"name\": \"experiment_status_description\", \"run_id\": \"AutoML_fb271a28-e0a5-487d-8b3d-531bda210902\", \"categories\": [0, 1, 2, 3, 4, 5], \"series\": [{\"data\": [\"Gathering dataset statistics.\", \"Generating features for the dataset.\", \"Beginning to fit featurizers and featurize the dataset.\", \"Completed fit featurizers and featurizing the dataset.\", \"Generating individually featurized CV splits.\", \"Beginning model selection.\"]}]}, {\"name\": \"average_precision_score_weighted\", \"run_id\": \"AutoML_fb271a28-e0a5-487d-8b3d-531bda210902\", \"categories\": [0], \"series\": [{\"data\": [0.9980011759447244]}]}, {\"name\": \"precision_score_micro\", \"run_id\": \"AutoML_fb271a28-e0a5-487d-8b3d-531bda210902\", \"categories\": [0], \"series\": [{\"data\": [0.9692307692307693]}]}, {\"name\": \"weighted_accuracy\", \"run_id\": \"AutoML_fb271a28-e0a5-487d-8b3d-531bda210902\", \"categories\": [0], \"series\": [{\"data\": [0.9883931040829385]}]}, {\"name\": \"recall_score_macro\", \"run_id\": \"AutoML_fb271a28-e0a5-487d-8b3d-531bda210902\", \"categories\": [0], \"series\": [{\"data\": [0.9352777777777778]}]}, {\"name\": \"recall_score_micro\", \"run_id\": \"AutoML_fb271a28-e0a5-487d-8b3d-531bda210902\", \"categories\": [0], \"series\": [{\"data\": [0.9692307692307693]}]}, {\"name\": \"average_precision_score_micro\", \"run_id\": \"AutoML_fb271a28-e0a5-487d-8b3d-531bda210902\", \"categories\": [0], \"series\": [{\"data\": [0.9950139576766137]}]}, {\"name\": \"balanced_accuracy\", \"run_id\": \"AutoML_fb271a28-e0a5-487d-8b3d-531bda210902\", \"categories\": [0], \"series\": [{\"data\": [0.9352777777777778]}]}, {\"name\": \"precision_score_macro\", \"run_id\": \"AutoML_fb271a28-e0a5-487d-8b3d-531bda210902\", \"categories\": [0], \"series\": [{\"data\": [0.98125]}]}, {\"name\": \"AUC_micro\", \"run_id\": \"AutoML_fb271a28-e0a5-487d-8b3d-531bda210902\", \"categories\": [0], \"series\": [{\"data\": [0.99474030243261]}]}, {\"name\": \"f1_score_micro\", \"run_id\": \"AutoML_fb271a28-e0a5-487d-8b3d-531bda210902\", \"categories\": [0], \"series\": [{\"data\": [0.9692307692307693]}]}, {\"name\": \"matthews_correlation\", \"run_id\": \"AutoML_fb271a28-e0a5-487d-8b3d-531bda210902\", \"categories\": [0], \"series\": [{\"data\": [0.9142143342699363]}]}, {\"name\": \"log_loss\", \"run_id\": \"AutoML_fb271a28-e0a5-487d-8b3d-531bda210902\", \"categories\": [0], \"series\": [{\"data\": [0.1128700975034]}]}, {\"name\": \"f1_score_weighted\", \"run_id\": \"AutoML_fb271a28-e0a5-487d-8b3d-531bda210902\", \"categories\": [0], \"series\": [{\"data\": [0.9676457735824083]}]}, {\"name\": \"f1_score_macro\", \"run_id\": \"AutoML_fb271a28-e0a5-487d-8b3d-531bda210902\", \"categories\": [0], \"series\": [{\"data\": [0.9534551336840043]}]}, {\"name\": \"AUC_weighted\", \"run_id\": \"AutoML_fb271a28-e0a5-487d-8b3d-531bda210902\", \"categories\": [0], \"series\": [{\"data\": [0.9977120669056152]}]}, {\"name\": \"AUC_macro\", \"run_id\": \"AutoML_fb271a28-e0a5-487d-8b3d-531bda210902\", \"categories\": [0], \"series\": [{\"data\": [0.9977120669056152]}]}, {\"name\": \"precision_score_weighted\", \"run_id\": \"AutoML_fb271a28-e0a5-487d-8b3d-531bda210902\", \"categories\": [0], \"series\": [{\"data\": [0.971474358974359]}]}, {\"name\": \"recall_score_weighted\", \"run_id\": \"AutoML_fb271a28-e0a5-487d-8b3d-531bda210902\", \"categories\": [0], \"series\": [{\"data\": [0.9692307692307693]}]}, {\"name\": \"average_precision_score_macro\", \"run_id\": \"AutoML_fb271a28-e0a5-487d-8b3d-531bda210902\", \"categories\": [0], \"series\": [{\"data\": [0.9962714646464645]}]}, {\"name\": \"norm_macro_recall\", \"run_id\": \"AutoML_fb271a28-e0a5-487d-8b3d-531bda210902\", \"categories\": [0], \"series\": [{\"data\": [0.8705555555555555]}]}, {\"name\": \"accuracy\", \"run_id\": \"AutoML_fb271a28-e0a5-487d-8b3d-531bda210902\", \"categories\": [0], \"series\": [{\"data\": [0.9692307692307693]}]}], \"run_logs\": \"\\nRun is completed.\", \"graph\": {}, \"widget_settings\": {\"childWidgetDisplay\": \"popup\", \"send_telemetry\": false, \"log_level\": \"INFO\", \"sdk_version\": \"1.20.0\"}, \"loading\": false}"
          },
          "metadata": {}
        },
        {
          "output_type": "stream",
          "name": "stdout",
          "text": [
            "\n",
            "\n",
            "****************************************************************************************************\n",
            "DATA GUARDRAILS: \n",
            "\n",
            "TYPE:         Class balancing detection\n",
            "STATUS:       PASSED\n",
            "DESCRIPTION:  Your inputs were analyzed, and all classes are balanced in your training data.\n",
            "              Learn more about imbalanced data: https://aka.ms/AutomatedMLImbalancedData\n",
            "\n",
            "****************************************************************************************************\n",
            "\n",
            "TYPE:         Missing feature values imputation\n",
            "STATUS:       PASSED\n",
            "DESCRIPTION:  No feature missing values were detected in the training data.\n",
            "              Learn more about missing value imputation: https://aka.ms/AutomatedMLFeaturization\n",
            "\n",
            "****************************************************************************************************\n",
            "\n",
            "TYPE:         High cardinality feature detection\n",
            "STATUS:       PASSED\n",
            "DESCRIPTION:  Your inputs were analyzed, and no high cardinality features were detected.\n",
            "              Learn more about high cardinality feature handling: https://aka.ms/AutomatedMLFeaturization\n",
            "\n",
            "****************************************************************************************************\n",
            "\n",
            "****************************************************************************************************\n",
            "ITERATION: The iteration being evaluated.\n",
            "PIPELINE: A summary description of the pipeline being evaluated.\n",
            "DURATION: Time taken for the current iteration.\n",
            "METRIC: The result of computing score on the fitted pipeline.\n",
            "BEST: The best observed score thus far.\n",
            "****************************************************************************************************\n",
            "\n",
            " ITERATION   PIPELINE                                       DURATION      METRIC      BEST\n",
            "         0   MaxAbsScaler LightGBM                          0:00:58       0.9641    0.9641\n",
            "         1   MaxAbsScaler XGBoostClassifier                 0:00:43       0.9641    0.9641\n",
            "         2   MinMaxScaler RandomForest                      0:02:03       0.9333    0.9641\n",
            "         3   MinMaxScaler RandomForest                      0:02:02       0.8769    0.9641\n",
            "         4   MinMaxScaler RandomForest                      0:02:11       0.9077    0.9641\n",
            "         5   StandardScalerWrapper LightGBM                 0:00:51       0.9385    0.9641\n",
            "         6   StandardScalerWrapper XGBoostClassifier        0:00:52       0.9436    0.9641\n",
            "         7   MinMaxScaler SVM                               0:00:59       0.9590    0.9641\n",
            "        10   SparseNormalizer XGBoostClassifier             0:00:45       0.9333    0.9641\n",
            "        11   RobustScaler SVM                               0:00:53       0.9538    0.9641\n",
            "         8   SparseNormalizer XGBoostClassifier             0:00:44       0.9333    0.9641\n",
            "         9   SparseNormalizer XGBoostClassifier             0:00:46       0.9436    0.9641\n",
            "        12   StandardScalerWrapper RandomForest             0:00:48       0.9231    0.9641\n",
            "        13   MaxAbsScaler LightGBM                          0:00:51       0.9026    0.9641\n",
            "        14   MaxAbsScaler LightGBM                          0:00:48       0.8974    0.9641\n",
            "        15   StandardScalerWrapper LightGBM                 0:00:46       0.9436    0.9641\n",
            "        16   MaxAbsScaler ExtremeRandomTrees                0:00:52       0.8923    0.9641\n",
            "        17   StandardScalerWrapper ExtremeRandomTrees       0:01:03       0.8821    0.9641\n",
            "        18   StandardScalerWrapper LogisticRegression       0:00:54       0.8410    0.9641\n",
            "        19   RobustScaler LightGBM                          0:00:52       0.9436    0.9641\n",
            "        20   StandardScalerWrapper LightGBM                 0:00:49       0.9282    0.9641\n",
            "        21   StandardScalerWrapper LogisticRegression       0:00:49       0.8308    0.9641\n",
            "        22   SparseNormalizer XGBoostClassifier             0:00:51       0.8974    0.9641\n",
            "        23   StandardScalerWrapper XGBoostClassifier        0:00:48       0.8615    0.9641\n",
            "        24   SparseNormalizer XGBoostClassifier             0:00:49       0.9026    0.9641\n",
            "        25   SparseNormalizer XGBoostClassifier             0:00:55       0.7538    0.9641\n",
            "        26   StandardScalerWrapper RandomForest             0:00:46       0.8718    0.9641\n",
            "        27   RobustScaler RandomForest                      0:00:53       0.8769    0.9641\n",
            "        28   MaxAbsScaler RandomForest                      0:00:47       0.8513    0.9641\n",
            "        29   StandardScalerWrapper LightGBM                 0:00:52       0.9231    0.9641\n",
            "        30   SparseNormalizer XGBoostClassifier             0:00:46       0.8769    0.9641\n",
            "        31   StandardScalerWrapper XGBoostClassifier        0:00:48       0.8974    0.9641\n",
            "        32   SparseNormalizer XGBoostClassifier             0:00:46       0.9179    0.9641\n",
            "        33   MinMaxScaler LightGBM                          0:00:46       0.9487    0.9641\n",
            "        34   SparseNormalizer XGBoostClassifier             0:00:50       0.9436    0.9641\n",
            "        35   SparseNormalizer XGBoostClassifier             0:00:45       0.9128    0.9641\n",
            "        36   SparseNormalizer XGBoostClassifier             0:00:43       0.8821    0.9641\n",
            "        37   SparseNormalizer XGBoostClassifier             0:00:49       0.9487    0.9641\n",
            "        38   StandardScalerWrapper LightGBM                 0:00:43       0.9077    0.9641\n",
            "        39   SparseNormalizer XGBoostClassifier             0:00:49       0.9436    0.9641\n",
            "        40   SparseNormalizer XGBoostClassifier             0:00:49       0.9231    0.9641\n",
            "        41   SparseNormalizer XGBoostClassifier             0:00:49       0.9231    0.9641\n",
            "        42   RobustScaler LightGBM                          0:00:50       0.9179    0.9641\n",
            "        43   StandardScalerWrapper LightGBM                 0:01:00       0.9282    0.9641\n",
            "        44   MaxAbsScaler LightGBM                          0:00:55       0.9385    0.9641\n",
            "        45   SparseNormalizer XGBoostClassifier             0:00:51       0.9282    0.9641\n",
            "        46   SparseNormalizer XGBoostClassifier             0:00:52       0.9231    0.9641\n",
            "        47   StandardScalerWrapper ExtremeRandomTrees       0:00:57       0.9385    0.9641\n",
            "        48   SparseNormalizer LightGBM                      0:00:36       0.8872    0.9641\n",
            "ERROR: {\n",
            "    \"additional_properties\": {},\n",
            "    \"error\": {\n",
            "        \"additional_properties\": {\n",
            "            \"debugInfo\": null\n",
            "        },\n",
            "        \"code\": \"UserError\",\n",
            "        \"severity\": null,\n",
            "        \"message\": \"Experiment timeout reached, please consider increasing your experiment timeout.\",\n",
            "        \"message_format\": \"Experiment timeout reached, please consider increasing your experiment timeout.\",\n",
            "        \"message_parameters\": {},\n",
            "        \"reference_code\": null,\n",
            "        \"details_uri\": null,\n",
            "        \"target\": null,\n",
            "        \"details\": [],\n",
            "        \"inner_error\": {\n",
            "            \"additional_properties\": {},\n",
            "            \"code\": \"ResourceExhausted\",\n",
            "            \"inner_error\": {\n",
            "                \"additional_properties\": {},\n",
            "                \"code\": \"Timeout\",\n",
            "                \"inner_error\": {\n",
            "                    \"additional_properties\": {},\n",
            "                    \"code\": \"ExperimentTimeoutForIterations\",\n",
            "                    \"inner_error\": null\n",
            "                }\n",
            "            }\n",
            "        }\n",
            "    },\n",
            "    \"correlation\": null,\n",
            "    \"environment\": null,\n",
            "    \"location\": null,\n",
            "    \"time\": {},\n",
            "    \"component_name\": null\n",
            "}\n",
            "        49   SparseNormalizer XGBoostClassifier             0:00:31       0.9385    0.9641\n",
            "ERROR: {\n",
            "    \"additional_properties\": {},\n",
            "    \"error\": {\n",
            "        \"additional_properties\": {\n",
            "            \"debugInfo\": null\n",
            "        },\n",
            "        \"code\": \"UserError\",\n",
            "        \"severity\": null,\n",
            "        \"message\": \"Experiment timeout reached, please consider increasing your experiment timeout.\",\n",
            "        \"message_format\": \"Experiment timeout reached, please consider increasing your experiment timeout.\",\n",
            "        \"message_parameters\": {},\n",
            "        \"reference_code\": null,\n",
            "        \"details_uri\": null,\n",
            "        \"target\": null,\n",
            "        \"details\": [],\n",
            "        \"inner_error\": {\n",
            "            \"additional_properties\": {},\n",
            "            \"code\": \"ResourceExhausted\",\n",
            "            \"inner_error\": {\n",
            "                \"additional_properties\": {},\n",
            "                \"code\": \"Timeout\",\n",
            "                \"inner_error\": {\n",
            "                    \"additional_properties\": {},\n",
            "                    \"code\": \"ExperimentTimeoutForIterations\",\n",
            "                    \"inner_error\": null\n",
            "                }\n",
            "            }\n",
            "        }\n",
            "    },\n",
            "    \"correlation\": null,\n",
            "    \"environment\": null,\n",
            "    \"location\": null,\n",
            "    \"time\": {},\n",
            "    \"component_name\": null\n",
            "}\n"
          ]
        },
        {
          "output_type": "stream",
          "name": "stdout",
          "text": [
            "        50   SparseNormalizer XGBoostClassifier             0:00:24          nan    0.9641\n",
            "ERROR: {\n",
            "    \"additional_properties\": {},\n",
            "    \"error\": {\n",
            "        \"additional_properties\": {\n",
            "            \"debugInfo\": null\n",
            "        },\n",
            "        \"code\": \"UserError\",\n",
            "        \"severity\": null,\n",
            "        \"message\": \"Experiment timeout reached, please consider increasing your experiment timeout.\",\n",
            "        \"message_format\": \"Experiment timeout reached, please consider increasing your experiment timeout.\",\n",
            "        \"message_parameters\": {},\n",
            "        \"reference_code\": null,\n",
            "        \"details_uri\": null,\n",
            "        \"target\": null,\n",
            "        \"details\": [],\n",
            "        \"inner_error\": {\n",
            "            \"additional_properties\": {},\n",
            "            \"code\": \"ResourceExhausted\",\n",
            "            \"inner_error\": {\n",
            "                \"additional_properties\": {},\n",
            "                \"code\": \"Timeout\",\n",
            "                \"inner_error\": {\n",
            "                    \"additional_properties\": {},\n",
            "                    \"code\": \"ExperimentTimeoutForIterations\",\n",
            "                    \"inner_error\": null\n",
            "                }\n",
            "            }\n",
            "        }\n",
            "    },\n",
            "    \"correlation\": null,\n",
            "    \"environment\": null,\n",
            "    \"location\": null,\n",
            "    \"time\": {},\n",
            "    \"component_name\": null\n",
            "}\n",
            "        51    VotingEnsemble                                0:01:38       0.9692    0.9692\n",
            "        52    StackEnsemble                                 0:01:38       0.9538    0.9692\n"
          ]
        },
        {
          "output_type": "execute_result",
          "execution_count": 10,
          "data": {
            "text/plain": "{'runId': 'AutoML_fb271a28-e0a5-487d-8b3d-531bda210902',\n 'target': 'cpu-cluster',\n 'status': 'Completed',\n 'startTimeUtc': '2021-02-04T16:19:33.219459Z',\n 'endTimeUtc': '2021-02-04T16:44:18.044724Z',\n 'properties': {'num_iterations': '1000',\n  'training_type': 'TrainFull',\n  'acquisition_function': 'EI',\n  'primary_metric': 'accuracy',\n  'train_split': '0',\n  'acquisition_parameter': '0',\n  'num_cross_validation': '5',\n  'target': 'cpu-cluster',\n  'AMLSettingsJsonString': '{\"path\":null,\"name\":\"Parkinson-classification-AutoML\",\"subscription_id\":\"f5091c60-1c3c-430f-8d81-d802f6bf2414\",\"resource_group\":\"aml-quickstarts-137242\",\"workspace_name\":\"quick-starts-ws-137242\",\"region\":\"southcentralus\",\"compute_target\":\"cpu-cluster\",\"spark_service\":null,\"azure_service\":\"remote\",\"many_models\":false,\"pipeline_fetch_max_batch_size\":1,\"iterations\":1000,\"primary_metric\":\"accuracy\",\"task_type\":\"classification\",\"data_script\":null,\"validation_size\":0.0,\"n_cross_validations\":5,\"y_min\":null,\"y_max\":null,\"num_classes\":null,\"featurization\":\"auto\",\"_ignore_package_version_incompatibilities\":false,\"is_timeseries\":false,\"max_cores_per_iteration\":1,\"max_concurrent_iterations\":4,\"iteration_timeout_minutes\":null,\"mem_in_mb\":null,\"enforce_time_on_windows\":false,\"experiment_timeout_minutes\":15,\"experiment_exit_score\":null,\"whitelist_models\":null,\"blacklist_algos\":[\"TensorFlowLinearClassifier\",\"TensorFlowDNN\"],\"supported_models\":[\"TensorFlowLinearClassifier\",\"SGD\",\"TensorFlowDNN\",\"DecisionTree\",\"SVM\",\"BernoulliNaiveBayes\",\"AveragedPerceptronClassifier\",\"MultinomialNaiveBayes\",\"LightGBM\",\"RandomForest\",\"LogisticRegression\",\"LinearSVM\",\"KNN\",\"XGBoostClassifier\",\"GradientBoosting\",\"ExtremeRandomTrees\"],\"auto_blacklist\":true,\"blacklist_samples_reached\":false,\"exclude_nan_labels\":true,\"verbosity\":20,\"_debug_log\":\"azureml_automl.log\",\"show_warnings\":false,\"model_explainability\":true,\"service_url\":null,\"sdk_url\":null,\"sdk_packages\":null,\"enable_onnx_compatible_models\":false,\"enable_split_onnx_featurizer_estimator_models\":false,\"vm_type\":\"STANDARD_DS3_V2\",\"telemetry_verbosity\":20,\"send_telemetry\":true,\"enable_dnn\":false,\"scenario\":\"SDK-1.13.0\",\"environment_label\":null,\"force_text_dnn\":false,\"enable_feature_sweeping\":true,\"enable_early_stopping\":false,\"early_stopping_n_iters\":10,\"metrics\":null,\"enable_ensembling\":true,\"enable_stack_ensembling\":true,\"ensemble_iterations\":15,\"enable_tf\":false,\"enable_subsampling\":null,\"subsample_seed\":null,\"enable_nimbusml\":false,\"enable_streaming\":false,\"force_streaming\":false,\"track_child_runs\":true,\"allowed_private_models\":[],\"label_column_name\":\"status\",\"weight_column_name\":null,\"cv_split_column_names\":null,\"enable_local_managed\":false,\"_local_managed_run_id\":null,\"cost_mode\":1,\"lag_length\":0,\"metric_operation\":\"maximize\",\"preprocess\":true}',\n  'DataPrepJsonString': '{\\\\\"training_data\\\\\": \\\\\"{\\\\\\\\\\\\\"blocks\\\\\\\\\\\\\": [{\\\\\\\\\\\\\"id\\\\\\\\\\\\\": \\\\\\\\\\\\\"075d3872-cd24-4611-9474-e056e9b58f28\\\\\\\\\\\\\", \\\\\\\\\\\\\"type\\\\\\\\\\\\\": \\\\\\\\\\\\\"Microsoft.DPrep.GetDatastoreFilesBlock\\\\\\\\\\\\\", \\\\\\\\\\\\\"arguments\\\\\\\\\\\\\": {\\\\\\\\\\\\\"datastores\\\\\\\\\\\\\": [{\\\\\\\\\\\\\"datastoreName\\\\\\\\\\\\\": \\\\\\\\\\\\\"workspaceblobstore\\\\\\\\\\\\\", \\\\\\\\\\\\\"path\\\\\\\\\\\\\": \\\\\\\\\\\\\"data/training_data.csv\\\\\\\\\\\\\", \\\\\\\\\\\\\"resourceGroup\\\\\\\\\\\\\": \\\\\\\\\\\\\"aml-quickstarts-137242\\\\\\\\\\\\\", \\\\\\\\\\\\\"subscription\\\\\\\\\\\\\": \\\\\\\\\\\\\"f5091c60-1c3c-430f-8d81-d802f6bf2414\\\\\\\\\\\\\", \\\\\\\\\\\\\"workspaceName\\\\\\\\\\\\\": \\\\\\\\\\\\\"quick-starts-ws-137242\\\\\\\\\\\\\"}]}, \\\\\\\\\\\\\"localData\\\\\\\\\\\\\": {}, \\\\\\\\\\\\\"isEnabled\\\\\\\\\\\\\": true, \\\\\\\\\\\\\"name\\\\\\\\\\\\\": null, \\\\\\\\\\\\\"annotation\\\\\\\\\\\\\": null}, {\\\\\\\\\\\\\"id\\\\\\\\\\\\\": \\\\\\\\\\\\\"7adbf41d-2825-40ac-971f-df2d7698a21e\\\\\\\\\\\\\", \\\\\\\\\\\\\"type\\\\\\\\\\\\\": \\\\\\\\\\\\\"Microsoft.DPrep.ParseDelimitedBlock\\\\\\\\\\\\\", \\\\\\\\\\\\\"arguments\\\\\\\\\\\\\": {\\\\\\\\\\\\\"columnHeadersMode\\\\\\\\\\\\\": 3, \\\\\\\\\\\\\"fileEncoding\\\\\\\\\\\\\": 0, \\\\\\\\\\\\\"handleQuotedLineBreaks\\\\\\\\\\\\\": false, \\\\\\\\\\\\\"preview\\\\\\\\\\\\\": false, \\\\\\\\\\\\\"separator\\\\\\\\\\\\\": \\\\\\\\\\\\\",\\\\\\\\\\\\\", \\\\\\\\\\\\\"skipRows\\\\\\\\\\\\\": 0, \\\\\\\\\\\\\"skipRowsMode\\\\\\\\\\\\\": 0}, \\\\\\\\\\\\\"localData\\\\\\\\\\\\\": {}, \\\\\\\\\\\\\"isEnabled\\\\\\\\\\\\\": true, \\\\\\\\\\\\\"name\\\\\\\\\\\\\": null, \\\\\\\\\\\\\"annotation\\\\\\\\\\\\\": null}, {\\\\\\\\\\\\\"id\\\\\\\\\\\\\": \\\\\\\\\\\\\"54484d9e-f228-4768-8dd3-1df161318fe0\\\\\\\\\\\\\", \\\\\\\\\\\\\"type\\\\\\\\\\\\\": \\\\\\\\\\\\\"Microsoft.DPrep.DropColumnsBlock\\\\\\\\\\\\\", \\\\\\\\\\\\\"arguments\\\\\\\\\\\\\": {\\\\\\\\\\\\\"columns\\\\\\\\\\\\\": {\\\\\\\\\\\\\"type\\\\\\\\\\\\\": 0, \\\\\\\\\\\\\"details\\\\\\\\\\\\\": {\\\\\\\\\\\\\"selectedColumns\\\\\\\\\\\\\": [\\\\\\\\\\\\\"Path\\\\\\\\\\\\\"]}}}, \\\\\\\\\\\\\"localData\\\\\\\\\\\\\": {}, \\\\\\\\\\\\\"isEnabled\\\\\\\\\\\\\": true, \\\\\\\\\\\\\"name\\\\\\\\\\\\\": null, \\\\\\\\\\\\\"annotation\\\\\\\\\\\\\": null}, {\\\\\\\\\\\\\"id\\\\\\\\\\\\\": \\\\\\\\\\\\\"6ad6c03b-92cd-4bcb-b41c-07273d62992b\\\\\\\\\\\\\", \\\\\\\\\\\\\"type\\\\\\\\\\\\\": \\\\\\\\\\\\\"Microsoft.DPrep.SetColumnTypesBlock\\\\\\\\\\\\\", \\\\\\\\\\\\\"arguments\\\\\\\\\\\\\": {\\\\\\\\\\\\\"columnConversion\\\\\\\\\\\\\": [{\\\\\\\\\\\\\"column\\\\\\\\\\\\\": {\\\\\\\\\\\\\"type\\\\\\\\\\\\\": 2, \\\\\\\\\\\\\"details\\\\\\\\\\\\\": {\\\\\\\\\\\\\"selectedColumn\\\\\\\\\\\\\": \\\\\\\\\\\\\"Column1\\\\\\\\\\\\\"}}, \\\\\\\\\\\\\"typeProperty\\\\\\\\\\\\\": 2}, {\\\\\\\\\\\\\"column\\\\\\\\\\\\\": {\\\\\\\\\\\\\"type\\\\\\\\\\\\\": 2, \\\\\\\\\\\\\"details\\\\\\\\\\\\\": {\\\\\\\\\\\\\"selectedColumn\\\\\\\\\\\\\": \\\\\\\\\\\\\"MDVP:Fo(Hz)\\\\\\\\\\\\\"}}, \\\\\\\\\\\\\"typeProperty\\\\\\\\\\\\\": 3}, {\\\\\\\\\\\\\"column\\\\\\\\\\\\\": {\\\\\\\\\\\\\"type\\\\\\\\\\\\\": 2, \\\\\\\\\\\\\"details\\\\\\\\\\\\\": {\\\\\\\\\\\\\"selectedColumn\\\\\\\\\\\\\": \\\\\\\\\\\\\"MDVP:Fhi(Hz)\\\\\\\\\\\\\"}}, \\\\\\\\\\\\\"typeProperty\\\\\\\\\\\\\": 3}, {\\\\\\\\\\\\\"column\\\\\\\\\\\\\": {\\\\\\\\\\\\\"type\\\\\\\\\\\\\": 2, \\\\\\\\\\\\\"details\\\\\\\\\\\\\": {\\\\\\\\\\\\\"selectedColumn\\\\\\\\\\\\\": \\\\\\\\\\\\\"MDVP:Flo(Hz)\\\\\\\\\\\\\"}}, \\\\\\\\\\\\\"typeProperty\\\\\\\\\\\\\": 3}, {\\\\\\\\\\\\\"column\\\\\\\\\\\\\": {\\\\\\\\\\\\\"type\\\\\\\\\\\\\": 2, \\\\\\\\\\\\\"details\\\\\\\\\\\\\": {\\\\\\\\\\\\\"selectedColumn\\\\\\\\\\\\\": \\\\\\\\\\\\\"MDVP:Jitter(%)\\\\\\\\\\\\\"}}, \\\\\\\\\\\\\"typeProperty\\\\\\\\\\\\\": 3}, {\\\\\\\\\\\\\"column\\\\\\\\\\\\\": {\\\\\\\\\\\\\"type\\\\\\\\\\\\\": 2, \\\\\\\\\\\\\"details\\\\\\\\\\\\\": {\\\\\\\\\\\\\"selectedColumn\\\\\\\\\\\\\": \\\\\\\\\\\\\"MDVP:Jitter(Abs)\\\\\\\\\\\\\"}}, \\\\\\\\\\\\\"typeProperty\\\\\\\\\\\\\": 3}, {\\\\\\\\\\\\\"column\\\\\\\\\\\\\": {\\\\\\\\\\\\\"type\\\\\\\\\\\\\": 2, \\\\\\\\\\\\\"details\\\\\\\\\\\\\": {\\\\\\\\\\\\\"selectedColumn\\\\\\\\\\\\\": \\\\\\\\\\\\\"MDVP:RAP\\\\\\\\\\\\\"}}, \\\\\\\\\\\\\"typeProperty\\\\\\\\\\\\\": 3}, {\\\\\\\\\\\\\"column\\\\\\\\\\\\\": {\\\\\\\\\\\\\"type\\\\\\\\\\\\\": 2, \\\\\\\\\\\\\"details\\\\\\\\\\\\\": {\\\\\\\\\\\\\"selectedColumn\\\\\\\\\\\\\": \\\\\\\\\\\\\"MDVP:PPQ\\\\\\\\\\\\\"}}, \\\\\\\\\\\\\"typeProperty\\\\\\\\\\\\\": 3}, {\\\\\\\\\\\\\"column\\\\\\\\\\\\\": {\\\\\\\\\\\\\"type\\\\\\\\\\\\\": 2, \\\\\\\\\\\\\"details\\\\\\\\\\\\\": {\\\\\\\\\\\\\"selectedColumn\\\\\\\\\\\\\": \\\\\\\\\\\\\"Jitter:DDP\\\\\\\\\\\\\"}}, \\\\\\\\\\\\\"typeProperty\\\\\\\\\\\\\": 3}, {\\\\\\\\\\\\\"column\\\\\\\\\\\\\": {\\\\\\\\\\\\\"type\\\\\\\\\\\\\": 2, \\\\\\\\\\\\\"details\\\\\\\\\\\\\": {\\\\\\\\\\\\\"selectedColumn\\\\\\\\\\\\\": \\\\\\\\\\\\\"MDVP:Shimmer\\\\\\\\\\\\\"}}, \\\\\\\\\\\\\"typeProperty\\\\\\\\\\\\\": 3}, {\\\\\\\\\\\\\"column\\\\\\\\\\\\\": {\\\\\\\\\\\\\"type\\\\\\\\\\\\\": 2, \\\\\\\\\\\\\"details\\\\\\\\\\\\\": {\\\\\\\\\\\\\"selectedColumn\\\\\\\\\\\\\": \\\\\\\\\\\\\"MDVP:Shimmer(dB)\\\\\\\\\\\\\"}}, \\\\\\\\\\\\\"typeProperty\\\\\\\\\\\\\": 3}, {\\\\\\\\\\\\\"column\\\\\\\\\\\\\": {\\\\\\\\\\\\\"type\\\\\\\\\\\\\": 2, \\\\\\\\\\\\\"details\\\\\\\\\\\\\": {\\\\\\\\\\\\\"selectedColumn\\\\\\\\\\\\\": \\\\\\\\\\\\\"Shimmer:APQ3\\\\\\\\\\\\\"}}, \\\\\\\\\\\\\"typeProperty\\\\\\\\\\\\\": 3}, {\\\\\\\\\\\\\"column\\\\\\\\\\\\\": {\\\\\\\\\\\\\"type\\\\\\\\\\\\\": 2, \\\\\\\\\\\\\"details\\\\\\\\\\\\\": {\\\\\\\\\\\\\"selectedColumn\\\\\\\\\\\\\": \\\\\\\\\\\\\"Shimmer:APQ5\\\\\\\\\\\\\"}}, \\\\\\\\\\\\\"typeProperty\\\\\\\\\\\\\": 3}, {\\\\\\\\\\\\\"column\\\\\\\\\\\\\": {\\\\\\\\\\\\\"type\\\\\\\\\\\\\": 2, \\\\\\\\\\\\\"details\\\\\\\\\\\\\": {\\\\\\\\\\\\\"selectedColumn\\\\\\\\\\\\\": \\\\\\\\\\\\\"MDVP:APQ\\\\\\\\\\\\\"}}, \\\\\\\\\\\\\"typeProperty\\\\\\\\\\\\\": 3}, {\\\\\\\\\\\\\"column\\\\\\\\\\\\\": {\\\\\\\\\\\\\"type\\\\\\\\\\\\\": 2, \\\\\\\\\\\\\"details\\\\\\\\\\\\\": {\\\\\\\\\\\\\"selectedColumn\\\\\\\\\\\\\": \\\\\\\\\\\\\"Shimmer:DDA\\\\\\\\\\\\\"}}, \\\\\\\\\\\\\"typeProperty\\\\\\\\\\\\\": 3}, {\\\\\\\\\\\\\"column\\\\\\\\\\\\\": {\\\\\\\\\\\\\"type\\\\\\\\\\\\\": 2, \\\\\\\\\\\\\"details\\\\\\\\\\\\\": {\\\\\\\\\\\\\"selectedColumn\\\\\\\\\\\\\": \\\\\\\\\\\\\"NHR\\\\\\\\\\\\\"}}, \\\\\\\\\\\\\"typeProperty\\\\\\\\\\\\\": 3}, {\\\\\\\\\\\\\"column\\\\\\\\\\\\\": {\\\\\\\\\\\\\"type\\\\\\\\\\\\\": 2, \\\\\\\\\\\\\"details\\\\\\\\\\\\\": {\\\\\\\\\\\\\"selectedColumn\\\\\\\\\\\\\": \\\\\\\\\\\\\"HNR\\\\\\\\\\\\\"}}, \\\\\\\\\\\\\"typeProperty\\\\\\\\\\\\\": 3}, {\\\\\\\\\\\\\"column\\\\\\\\\\\\\": {\\\\\\\\\\\\\"type\\\\\\\\\\\\\": 2, \\\\\\\\\\\\\"details\\\\\\\\\\\\\": {\\\\\\\\\\\\\"selectedColumn\\\\\\\\\\\\\": \\\\\\\\\\\\\"status\\\\\\\\\\\\\"}}, \\\\\\\\\\\\\"typeProperty\\\\\\\\\\\\\": 2}, {\\\\\\\\\\\\\"column\\\\\\\\\\\\\": {\\\\\\\\\\\\\"type\\\\\\\\\\\\\": 2, \\\\\\\\\\\\\"details\\\\\\\\\\\\\": {\\\\\\\\\\\\\"selectedColumn\\\\\\\\\\\\\": \\\\\\\\\\\\\"RPDE\\\\\\\\\\\\\"}}, \\\\\\\\\\\\\"typeProperty\\\\\\\\\\\\\": 3}, {\\\\\\\\\\\\\"column\\\\\\\\\\\\\": {\\\\\\\\\\\\\"type\\\\\\\\\\\\\": 2, \\\\\\\\\\\\\"details\\\\\\\\\\\\\": {\\\\\\\\\\\\\"selectedColumn\\\\\\\\\\\\\": \\\\\\\\\\\\\"DFA\\\\\\\\\\\\\"}}, \\\\\\\\\\\\\"typeProperty\\\\\\\\\\\\\": 3}, {\\\\\\\\\\\\\"column\\\\\\\\\\\\\": {\\\\\\\\\\\\\"type\\\\\\\\\\\\\": 2, \\\\\\\\\\\\\"details\\\\\\\\\\\\\": {\\\\\\\\\\\\\"selectedColumn\\\\\\\\\\\\\": \\\\\\\\\\\\\"spread1\\\\\\\\\\\\\"}}, \\\\\\\\\\\\\"typeProperty\\\\\\\\\\\\\": 3}, {\\\\\\\\\\\\\"column\\\\\\\\\\\\\": {\\\\\\\\\\\\\"type\\\\\\\\\\\\\": 2, \\\\\\\\\\\\\"details\\\\\\\\\\\\\": {\\\\\\\\\\\\\"selectedColumn\\\\\\\\\\\\\": \\\\\\\\\\\\\"spread2\\\\\\\\\\\\\"}}, \\\\\\\\\\\\\"typeProperty\\\\\\\\\\\\\": 3}, {\\\\\\\\\\\\\"column\\\\\\\\\\\\\": {\\\\\\\\\\\\\"type\\\\\\\\\\\\\": 2, \\\\\\\\\\\\\"details\\\\\\\\\\\\\": {\\\\\\\\\\\\\"selectedColumn\\\\\\\\\\\\\": \\\\\\\\\\\\\"D2\\\\\\\\\\\\\"}}, \\\\\\\\\\\\\"typeProperty\\\\\\\\\\\\\": 3}, {\\\\\\\\\\\\\"column\\\\\\\\\\\\\": {\\\\\\\\\\\\\"type\\\\\\\\\\\\\": 2, \\\\\\\\\\\\\"details\\\\\\\\\\\\\": {\\\\\\\\\\\\\"selectedColumn\\\\\\\\\\\\\": \\\\\\\\\\\\\"PPE\\\\\\\\\\\\\"}}, \\\\\\\\\\\\\"typeProperty\\\\\\\\\\\\\": 3}]}, \\\\\\\\\\\\\"localData\\\\\\\\\\\\\": {}, \\\\\\\\\\\\\"isEnabled\\\\\\\\\\\\\": true, \\\\\\\\\\\\\"name\\\\\\\\\\\\\": null, \\\\\\\\\\\\\"annotation\\\\\\\\\\\\\": null}], \\\\\\\\\\\\\"inspectors\\\\\\\\\\\\\": [], \\\\\\\\\\\\\"meta\\\\\\\\\\\\\": {\\\\\\\\\\\\\"savedDatasetId\\\\\\\\\\\\\": \\\\\\\\\\\\\"b76c49e1-d75d-41b8-9439-71c07f2d6f06\\\\\\\\\\\\\", \\\\\\\\\\\\\"datasetType\\\\\\\\\\\\\": \\\\\\\\\\\\\"tabular\\\\\\\\\\\\\", \\\\\\\\\\\\\"subscriptionId\\\\\\\\\\\\\": \\\\\\\\\\\\\"f5091c60-1c3c-430f-8d81-d802f6bf2414\\\\\\\\\\\\\", \\\\\\\\\\\\\"workspaceId\\\\\\\\\\\\\": \\\\\\\\\\\\\"1e362fd1-bd34-486e-9267-256139be0b2f\\\\\\\\\\\\\", \\\\\\\\\\\\\"workspaceLocation\\\\\\\\\\\\\": \\\\\\\\\\\\\"southcentralus\\\\\\\\\\\\\"}}\\\\\", \\\\\"activities\\\\\": 0}',\n  'EnableSubsampling': None,\n  'runTemplate': 'AutoML',\n  'azureml.runsource': 'automl',\n  'display_task_type': 'classification',\n  'dependencies_versions': '{\"azureml-widgets\": \"1.20.0\", \"azureml-train\": \"1.20.0\", \"azureml-train-restclients-hyperdrive\": \"1.20.0\", \"azureml-train-core\": \"1.20.0\", \"azureml-train-automl\": \"1.20.0\", \"azureml-train-automl-runtime\": \"1.20.0\", \"azureml-train-automl-client\": \"1.20.0\", \"azureml-tensorboard\": \"1.20.0\", \"azureml-telemetry\": \"1.20.0\", \"azureml-sdk\": \"1.20.0\", \"azureml-samples\": \"0+unknown\", \"azureml-pipeline\": \"1.20.0\", \"azureml-pipeline-steps\": \"1.20.0\", \"azureml-pipeline-core\": \"1.20.0\", \"azureml-opendatasets\": \"1.20.0\", \"azureml-model-management-sdk\": \"1.0.1b6.post1\", \"azureml-mlflow\": \"1.20.0.post1\", \"azureml-interpret\": \"1.20.0\", \"azureml-explain-model\": \"1.20.0\", \"azureml-defaults\": \"1.20.0\", \"azureml-dataset-runtime\": \"1.20.0\", \"azureml-dataprep\": \"2.7.3\", \"azureml-dataprep-rslex\": \"1.5.0\", \"azureml-dataprep-native\": \"27.0.0\", \"azureml-datadrift\": \"1.20.0\", \"azureml-core\": \"1.20.0\", \"azureml-contrib-services\": \"1.20.0\", \"azureml-contrib-server\": \"1.20.0\", \"azureml-contrib-reinforcementlearning\": \"1.20.0\", \"azureml-contrib-pipeline-steps\": \"1.20.0\", \"azureml-contrib-notebook\": \"1.20.0\", \"azureml-contrib-interpret\": \"1.20.0\", \"azureml-contrib-gbdt\": \"1.20.0\", \"azureml-contrib-fairness\": \"1.20.0\", \"azureml-contrib-dataset\": \"1.20.0\", \"azureml-cli-common\": \"1.20.0\", \"azureml-automl-runtime\": \"1.20.0\", \"azureml-automl-core\": \"1.20.0\", \"azureml-accel-models\": \"1.20.0\"}',\n  '_aml_system_scenario_identification': 'Remote.Parent',\n  'ClientType': 'SDK',\n  'environment_cpu_name': 'AzureML-AutoML',\n  'environment_cpu_label': 'prod',\n  'environment_gpu_name': 'AzureML-AutoML-GPU',\n  'environment_gpu_label': 'prod',\n  'root_attribution': 'automl',\n  'attribution': 'AutoML',\n  'Orchestrator': 'AutoML',\n  'CancelUri': 'https://southcentralus.experiments.azureml.net/jasmine/v1.0/subscriptions/f5091c60-1c3c-430f-8d81-d802f6bf2414/resourceGroups/aml-quickstarts-137242/providers/Microsoft.MachineLearningServices/workspaces/quick-starts-ws-137242/experimentids/3920192e-8f87-4c84-b3a1-58cb827a6dcb/cancel/AutoML_fb271a28-e0a5-487d-8b3d-531bda210902',\n  'ClientSdkVersion': '1.21.0',\n  'snapshotId': '00000000-0000-0000-0000-000000000000',\n  'SetupRunId': 'AutoML_fb271a28-e0a5-487d-8b3d-531bda210902_setup',\n  'SetupRunContainerId': 'dcid.AutoML_fb271a28-e0a5-487d-8b3d-531bda210902_setup',\n  'FeaturizationRunJsonPath': 'featurizer_container.json',\n  'FeaturizationRunId': 'AutoML_fb271a28-e0a5-487d-8b3d-531bda210902_featurize',\n  'ProblemInfoJsonString': '{\"dataset_num_categorical\": 0, \"is_sparse\": false, \"subsampling\": false, \"dataset_classes\": 2, \"dataset_features\": 23, \"dataset_samples\": 195, \"single_frequency_class_detected\": false}',\n  'ModelExplainRunId': 'AutoML_fb271a28-e0a5-487d-8b3d-531bda210902_ModelExplain'},\n 'inputDatasets': [{'dataset': {'id': 'b76c49e1-d75d-41b8-9439-71c07f2d6f06'}, 'consumptionDetails': {'type': 'RunInput', 'inputName': 'training_data', 'mechanism': 'Direct'}}],\n 'outputDatasets': [],\n 'logFiles': {},\n 'submittedBy': 'ODL_User 137242'}"
          },
          "metadata": {}
        }
      ],
      "execution_count": 10,
      "metadata": {
        "gather": {
          "logged": 1598431121770
        },
        "jupyter": {
          "outputs_hidden": false,
          "source_hidden": false
        },
        "nteract": {
          "transient": {
            "deleting": false
          }
        }
      }
    },
    {
      "cell_type": "markdown",
      "source": [
        "## Best Model\n",
        "\n",
        "The best model from the automl experiments is retrieved and  all the properties of the model are displayed\n",
        "\n"
      ],
      "metadata": {}
    },
    {
      "cell_type": "code",
      "source": [
        "# Retrieve the best automl model.\n",
        "best_run, fitted_model = auto_ml_run.get_output()\n",
        "print(best_run)\n",
        "print(fitted_model)\n",
        "\n",
        "#Register the model\n",
        "description ='Parkinson detection classification '\n",
        "model_name='Parkinson-detection-automl'\n",
        "model_path='./'\n",
        "tags = None\n",
        "model = auto_ml_run.register_model(model_name = model_name, description = description , tags = tags)\n",
        "print(auto_ml_run.model_id)"
      ],
      "outputs": [
        {
          "output_type": "stream",
          "name": "stderr",
          "text": [
            "WARNING:root:The version of the SDK does not match the version the model was trained on.\n",
            "WARNING:root:The consistency in the result may not be guaranteed.\n",
            "WARNING:root:Package:azureml-automl-core, training version:1.21.0, current version:1.20.0\n",
            "Package:azureml-automl-runtime, training version:1.21.0, current version:1.20.0\n",
            "Package:azureml-core, training version:1.21.0.post1, current version:1.20.0\n",
            "Package:azureml-dataprep, training version:2.8.2, current version:2.7.3\n",
            "Package:azureml-dataprep-native, training version:28.0.0, current version:27.0.0\n",
            "Package:azureml-dataprep-rslex, training version:1.6.0, current version:1.5.0\n",
            "Package:azureml-dataset-runtime, training version:1.21.0, current version:1.20.0\n",
            "Package:azureml-defaults, training version:1.21.0, current version:1.20.0\n",
            "Package:azureml-interpret, training version:1.21.0, current version:1.20.0\n",
            "Package:azureml-pipeline-core, training version:1.21.0, current version:1.20.0\n",
            "Package:azureml-telemetry, training version:1.21.0, current version:1.20.0\n",
            "Package:azureml-train-automl-client, training version:1.21.0, current version:1.20.0\n",
            "Package:azureml-train-automl-runtime, training version:1.21.0, current version:1.20.0\n",
            "WARNING:root:Please ensure the version of your local conda dependencies match the version on which your model was trained in order to properly retrieve your model.\n"
          ]
        },
        {
          "output_type": "stream",
          "name": "stdout",
          "text": [
            "Run(Experiment: Parkinson-classification-AutoML,\n",
            "Id: AutoML_fb271a28-e0a5-487d-8b3d-531bda210902_51,\n",
            "Type: azureml.scriptrun,\n",
            "Status: Completed)\n",
            "Pipeline(memory=None,\n",
            "         steps=[('datatransformer',\n",
            "                 DataTransformer(enable_dnn=None, enable_feature_sweeping=None,\n",
            "                                 feature_sweeping_config=None,\n",
            "                                 feature_sweeping_timeout=None,\n",
            "                                 featurization_config=None, force_text_dnn=None,\n",
            "                                 is_cross_validation=None,\n",
            "                                 is_onnx_compatible=None, logger=None,\n",
            "                                 observer=None, task=None, working_dir=None)),\n",
            "                ('prefittedsoftvotingclassifier',...\n",
            "                                                                                                    min_samples_leaf=0.01,\n",
            "                                                                                                    min_samples_split=0.10368421052631578,\n",
            "                                                                                                    min_weight_fraction_leaf=0.0,\n",
            "                                                                                                    n_estimators=25,\n",
            "                                                                                                    n_jobs=1,\n",
            "                                                                                                    oob_score=False,\n",
            "                                                                                                    random_state=None,\n",
            "                                                                                                    verbose=0,\n",
            "                                                                                                    warm_start=False))],\n",
            "                                                                     verbose=False))],\n",
            "                                               flatten_transform=None,\n",
            "                                               weights=[0.2222222222222222,\n",
            "                                                        0.2222222222222222,\n",
            "                                                        0.1111111111111111,\n",
            "                                                        0.2222222222222222,\n",
            "                                                        0.1111111111111111,\n",
            "                                                        0.1111111111111111]))],\n",
            "         verbose=False)\n",
            "Parkinson-detection-automl\n"
          ]
        }
      ],
      "execution_count": 11,
      "metadata": {
        "gather": {
          "logged": 1598431425670
        },
        "jupyter": {
          "outputs_hidden": false,
          "source_hidden": false
        },
        "nteract": {
          "transient": {
            "deleting": false
          }
        }
      }
    },
    {
      "cell_type": "markdown",
      "source": [
        "## Model Deployment\n",
        "\n",
        "\n",
        "In the cell below we first  register the model, then define the environement to finally  create the inference config and deploy the model as a web service.## Model Deployment\n",
        "\n",
        "\n",
        "In the cell below we first  register the model, then define the environement to finally  create the inference config and deploy the model as a web service."
      ],
      "metadata": {}
    },
    {
      "cell_type": "code",
      "source": [
        "#Save the best model for the deployement\n",
        "import os\n",
        "os.makedirs('./amlmodel', exist_ok=True)\n",
        "\n",
        "best_run.download_file('/outputs/model.pkl',os.path.join('./amlmodel','automl_best_model_park.pkl'))\n",
        "\n",
        "for f in best_run.get_file_names():\n",
        "    if f.startswith('outputs'):\n",
        "        output_file_path = os.path.join('./amlmodel', f.split('/')[-1])\n",
        "        print(f'Downloading from {f} to {output_file_path} ...')\n",
        "        best_run.download_file(name=f, output_file_path=output_file_path)#Save the best model for the deployement\n",
        "import os\n",
        "os.makedirs('./amlmodel', exist_ok=True)\n",
        "\n",
        "best_run.download_file('/outputs/model.pkl',os.path.join('./amlmodel','automl_best_model_park.pkl'))\n",
        "\n",
        "for f in best_run.get_file_names():\n",
        "    if f.startswith('outputs'):\n",
        "        output_file_path = os.path.join('./amlmodel', f.split('/')[-1])\n",
        "        print(f'Downloading from {f} to {output_file_path} ...')\n",
        "        best_run.download_file(name=f, output_file_path=output_file_path)"
      ],
      "outputs": [
        {
          "output_type": "stream",
          "name": "stdout",
          "text": [
            "Downloading from outputs/conda_env_v_1_0_0.yml to ./amlmodel/conda_env_v_1_0_0.yml ...\n",
            "Downloading from outputs/env_dependencies.json to ./amlmodel/env_dependencies.json ...\n",
            "Downloading from outputs/internal_cross_validated_models.pkl to ./amlmodel/internal_cross_validated_models.pkl ...\n",
            "Downloading from outputs/model.pkl to ./amlmodel/model.pkl ...\n",
            "Downloading from outputs/pipeline_graph.json to ./amlmodel/pipeline_graph.json ...\n",
            "Downloading from outputs/scoring_file_v_1_0_0.py to ./amlmodel/scoring_file_v_1_0_0.py ...\n",
            "Downloading from outputs/conda_env_v_1_0_0.yml to ./amlmodel/conda_env_v_1_0_0.yml ...\n",
            "Downloading from outputs/env_dependencies.json to ./amlmodel/env_dependencies.json ...\n",
            "Downloading from outputs/internal_cross_validated_models.pkl to ./amlmodel/internal_cross_validated_models.pkl ...\n",
            "Downloading from outputs/model.pkl to ./amlmodel/model.pkl ...\n",
            "Downloading from outputs/pipeline_graph.json to ./amlmodel/pipeline_graph.json ...\n",
            "Downloading from outputs/scoring_file_v_1_0_0.py to ./amlmodel/scoring_file_v_1_0_0.py ...\n"
          ]
        }
      ],
      "execution_count": 12,
      "metadata": {
        "gather": {
          "logged": 1598431426111
        },
        "jupyter": {
          "outputs_hidden": false,
          "source_hidden": false
        },
        "nteract": {
          "transient": {
            "deleting": false
          }
        }
      }
    },
    {
      "cell_type": "code",
      "source": [
        "#Register the best model for the deployement\n",
        "\n",
        "model=best_run.register_model(\n",
        "            model_name = 'automl-bestmodel-parkinson', \n",
        "            model_path = './outputs/model.pkl',\n",
        "            model_framework=Model.Framework.SCIKITLEARN,\n",
        "            description='Parkinson detection'\n",
        ")#Register the best model for the deployement\n",
        "\n",
        "model=best_run.register_model(\n",
        "            model_name = 'automl-bestmodel-parkinson', \n",
        "            model_path = './outputs/model.pkl',\n",
        "            model_framework=Model.Framework.SCIKITLEARN,\n",
        "            description='Parkinson detection'\n",
        ")"
      ],
      "outputs": [],
      "execution_count": 13,
      "metadata": {}
    },
    {
      "cell_type": "code",
      "source": [
        "# Download the conda environment file and define the environement\n",
        "best_run.download_file('outputs/conda_env_v_1_0_0.yml', 'conda_env.yml')\n",
        "myenv = Environment.from_conda_specification(name = 'myenv',\n",
        "                                             file_path = 'conda_env.yml')"
      ],
      "outputs": [],
      "execution_count": 14,
      "metadata": {}
    },
    {
      "cell_type": "code",
      "source": [
        "# download the scoring file produced by AutoML\n",
        "best_run.download_file('outputs/scoring_file_v_1_0_0.py', 'score_auto_park.py')\n",
        "\n",
        "# set inference config\n",
        "inference_config = InferenceConfig(entry_script= 'score_auto_park.py',\n",
        "                                    environment=myenv)"
      ],
      "outputs": [],
      "execution_count": 15,
      "metadata": {}
    },
    {
      "cell_type": "code",
      "source": [
        "# set Aci Webservice config\n",
        "aci_config = AciWebservice.deploy_configuration(cpu_cores=1, memory_gb=1, auth_enabled=True)"
      ],
      "outputs": [],
      "execution_count": 16,
      "metadata": {}
    },
    {
      "cell_type": "code",
      "source": [
        "# deploye the model as a web service \n",
        "service = Model.deploy(workspace=ws, \n",
        "                       name='automl-bestmodel-parkinso', \n",
        "                       models=[model], \n",
        "                       inference_config=inference_config,\n",
        "                       deployment_config=aci_config,\n",
        "                       overwrite=True)"
      ],
      "outputs": [
        {
          "output_type": "error",
          "ename": "WebserviceException",
          "evalue": "WebserviceException:\n\tMessage: Conflict of operation, another operation on same entity is already running in workspace quick-starts-ws-137242.\n\tInnerException None\n\tErrorResponse \n{\n    \"error\": {\n        \"message\": \"Conflict of operation, another operation on same entity is already running in workspace quick-starts-ws-137242.\"\n    }\n}",
          "traceback": [
            "\u001b[0;31m---------------------------------------------------------------------------\u001b[0m",
            "\u001b[0;31mWebserviceException\u001b[0m                       Traceback (most recent call last)",
            "\u001b[0;32m<ipython-input-18-cefe0cfe068b>\u001b[0m in \u001b[0;36m<module>\u001b[0;34m\u001b[0m\n\u001b[1;32m      5\u001b[0m                        \u001b[0minference_config\u001b[0m\u001b[0;34m=\u001b[0m\u001b[0minference_config\u001b[0m\u001b[0;34m,\u001b[0m\u001b[0;34m\u001b[0m\u001b[0;34m\u001b[0m\u001b[0m\n\u001b[1;32m      6\u001b[0m                        \u001b[0mdeployment_config\u001b[0m\u001b[0;34m=\u001b[0m\u001b[0maci_config\u001b[0m\u001b[0;34m,\u001b[0m\u001b[0;34m\u001b[0m\u001b[0;34m\u001b[0m\u001b[0m\n\u001b[0;32m----> 7\u001b[0;31m                        overwrite=True)\n\u001b[0m",
            "\u001b[0;32m/anaconda/envs/azureml_py36/lib/python3.6/site-packages/azureml/core/model.py\u001b[0m in \u001b[0;36mdeploy\u001b[0;34m(workspace, name, models, inference_config, deployment_config, deployment_target, overwrite)\u001b[0m\n\u001b[1;32m   1614\u001b[0m         \u001b[0;32mif\u001b[0m \u001b[0muse_env_path\u001b[0m\u001b[0;34m:\u001b[0m\u001b[0;34m\u001b[0m\u001b[0;34m\u001b[0m\u001b[0m\n\u001b[1;32m   1615\u001b[0m             return Model._deploy_with_environment(workspace, name, models, inference_config, deployment_config,\n\u001b[0;32m-> 1616\u001b[0;31m                                                   deployment_target, overwrite)\n\u001b[0m\u001b[1;32m   1617\u001b[0m \u001b[0;34m\u001b[0m\u001b[0m\n\u001b[1;32m   1618\u001b[0m         \u001b[0;31m# ContainerImage-based webservice.\u001b[0m\u001b[0;34m\u001b[0m\u001b[0;34m\u001b[0m\u001b[0;34m\u001b[0m\u001b[0m\n",
            "\u001b[0;32m/anaconda/envs/azureml_py36/lib/python3.6/site-packages/azureml/core/model.py\u001b[0m in \u001b[0;36m_deploy_with_environment\u001b[0;34m(workspace, name, models, inference_config, deployment_config, deployment_target, overwrite)\u001b[0m\n\u001b[1;32m   1814\u001b[0m \u001b[0;34m\u001b[0m\u001b[0m\n\u001b[1;32m   1815\u001b[0m         return Model._deploy_with_environment_image_request(workspace, name, environment_image_request,\n\u001b[0;32m-> 1816\u001b[0;31m                                                             deployment_config, deployment_target, overwrite)\n\u001b[0m\u001b[1;32m   1817\u001b[0m \u001b[0;34m\u001b[0m\u001b[0m\n\u001b[1;32m   1818\u001b[0m     \u001b[0;34m@\u001b[0m\u001b[0mstaticmethod\u001b[0m\u001b[0;34m\u001b[0m\u001b[0;34m\u001b[0m\u001b[0m\n",
            "\u001b[0;32m/anaconda/envs/azureml_py36/lib/python3.6/site-packages/azureml/core/model.py\u001b[0m in \u001b[0;36m_deploy_with_environment_image_request\u001b[0;34m(workspace, name, environment_image_request, deployment_config, deployment_target, overwrite)\u001b[0m\n\u001b[1;32m   1858\u001b[0m             \u001b[0mwebservice_payload\u001b[0m\u001b[0;34m[\u001b[0m\u001b[0;34m'computeName'\u001b[0m\u001b[0;34m]\u001b[0m \u001b[0;34m=\u001b[0m \u001b[0mdeployment_target\u001b[0m\u001b[0;34m.\u001b[0m\u001b[0mname\u001b[0m\u001b[0;34m\u001b[0m\u001b[0;34m\u001b[0m\u001b[0m\n\u001b[1;32m   1859\u001b[0m \u001b[0;34m\u001b[0m\u001b[0m\n\u001b[0;32m-> 1860\u001b[0;31m         \u001b[0;32mreturn\u001b[0m \u001b[0mWebservice\u001b[0m\u001b[0;34m.\u001b[0m\u001b[0m_deploy_webservice\u001b[0m\u001b[0;34m(\u001b[0m\u001b[0mworkspace\u001b[0m\u001b[0;34m,\u001b[0m \u001b[0mname\u001b[0m\u001b[0;34m,\u001b[0m \u001b[0mwebservice_payload\u001b[0m\u001b[0;34m,\u001b[0m \u001b[0moverwrite\u001b[0m\u001b[0;34m,\u001b[0m \u001b[0mwebservice_class\u001b[0m\u001b[0;34m)\u001b[0m\u001b[0;34m\u001b[0m\u001b[0;34m\u001b[0m\u001b[0m\n\u001b[0m\u001b[1;32m   1861\u001b[0m \u001b[0;34m\u001b[0m\u001b[0m\n\u001b[1;32m   1862\u001b[0m     \u001b[0;32mdef\u001b[0m \u001b[0mget_sas_urls\u001b[0m\u001b[0;34m(\u001b[0m\u001b[0mself\u001b[0m\u001b[0;34m)\u001b[0m\u001b[0;34m:\u001b[0m\u001b[0;34m\u001b[0m\u001b[0;34m\u001b[0m\u001b[0m\n",
            "\u001b[0;32m/anaconda/envs/azureml_py36/lib/python3.6/site-packages/azureml/core/webservice/webservice.py\u001b[0m in \u001b[0;36m_deploy_webservice\u001b[0;34m(workspace, name, webservice_payload, overwrite, webservice_class)\u001b[0m\n\u001b[1;32m    824\u001b[0m         \u001b[0mWebservice\u001b[0m\u001b[0;34m.\u001b[0m\u001b[0mcheck_for_existing_webservice\u001b[0m\u001b[0;34m(\u001b[0m\u001b[0mworkspace\u001b[0m\u001b[0;34m,\u001b[0m \u001b[0mname\u001b[0m\u001b[0;34m,\u001b[0m \u001b[0moverwrite\u001b[0m\u001b[0;34m)\u001b[0m\u001b[0;34m\u001b[0m\u001b[0;34m\u001b[0m\u001b[0m\n\u001b[1;32m    825\u001b[0m         Webservice._check_for_webservice(workspace, name, Webservice._get_deploy_compute_type(webservice_payload),\n\u001b[0;32m--> 826\u001b[0;31m                                          webservice_payload, SERVICE_REQUEST_OPERATION_CREATE)\n\u001b[0m\u001b[1;32m    827\u001b[0m         \u001b[0mWebservice\u001b[0m\u001b[0;34m.\u001b[0m\u001b[0m_check_for_compute_resource\u001b[0m\u001b[0;34m(\u001b[0m\u001b[0mworkspace\u001b[0m\u001b[0;34m,\u001b[0m \u001b[0mwebservice_payload\u001b[0m\u001b[0;34m)\u001b[0m\u001b[0;34m\u001b[0m\u001b[0;34m\u001b[0m\u001b[0m\n\u001b[1;32m    828\u001b[0m \u001b[0;34m\u001b[0m\u001b[0m\n",
            "\u001b[0;32m/anaconda/envs/azureml_py36/lib/python3.6/site-packages/azureml/core/webservice/webservice.py\u001b[0m in \u001b[0;36m_check_for_webservice\u001b[0;34m(workspace, name, compute_type, payload, action, request_func, check_func)\u001b[0m\n\u001b[1;32m    742\u001b[0m                 \u001b[0;32mreturn\u001b[0m \u001b[0mWebservice\u001b[0m\u001b[0;34m.\u001b[0m\u001b[0m_check_validate_error\u001b[0m\u001b[0;34m(\u001b[0m\u001b[0mcontent\u001b[0m\u001b[0;34m)\u001b[0m\u001b[0;34m\u001b[0m\u001b[0;34m\u001b[0m\u001b[0m\n\u001b[1;32m    743\u001b[0m \u001b[0;34m\u001b[0m\u001b[0m\n\u001b[0;32m--> 744\u001b[0;31m         \u001b[0mWebservice\u001b[0m\u001b[0;34m.\u001b[0m\u001b[0m_run_validate_framework\u001b[0m\u001b[0;34m(\u001b[0m\u001b[0mrequest_func\u001b[0m\u001b[0;34m,\u001b[0m \u001b[0mcheck_func\u001b[0m\u001b[0;34m)\u001b[0m\u001b[0;34m\u001b[0m\u001b[0;34m\u001b[0m\u001b[0m\n\u001b[0m\u001b[1;32m    745\u001b[0m \u001b[0;34m\u001b[0m\u001b[0m\n\u001b[1;32m    746\u001b[0m     \u001b[0;34m@\u001b[0m\u001b[0mstaticmethod\u001b[0m\u001b[0;34m\u001b[0m\u001b[0;34m\u001b[0m\u001b[0m\n",
            "\u001b[0;32m/anaconda/envs/azureml_py36/lib/python3.6/site-packages/azureml/core/webservice/webservice.py\u001b[0m in \u001b[0;36m_run_validate_framework\u001b[0;34m(request_func, check_func)\u001b[0m\n\u001b[1;32m    636\u001b[0m             \u001b[0;32mreturn\u001b[0m\u001b[0;34m\u001b[0m\u001b[0;34m\u001b[0m\u001b[0m\n\u001b[1;32m    637\u001b[0m \u001b[0;34m\u001b[0m\u001b[0m\n\u001b[0;32m--> 638\u001b[0;31m         \u001b[0;32mraise\u001b[0m \u001b[0mWebserviceException\u001b[0m\u001b[0;34m(\u001b[0m\u001b[0merror\u001b[0m\u001b[0;34m)\u001b[0m\u001b[0;34m\u001b[0m\u001b[0;34m\u001b[0m\u001b[0m\n\u001b[0m\u001b[1;32m    639\u001b[0m \u001b[0;34m\u001b[0m\u001b[0m\n\u001b[1;32m    640\u001b[0m     \u001b[0;34m@\u001b[0m\u001b[0mstaticmethod\u001b[0m\u001b[0;34m\u001b[0m\u001b[0;34m\u001b[0m\u001b[0m\n",
            "\u001b[0;31mWebserviceException\u001b[0m: WebserviceException:\n\tMessage: Conflict of operation, another operation on same entity is already running in workspace quick-starts-ws-137242.\n\tInnerException None\n\tErrorResponse \n{\n    \"error\": {\n        \"message\": \"Conflict of operation, another operation on same entity is already running in workspace quick-starts-ws-137242.\"\n    }\n}"
          ]
        }
      ],
      "execution_count": 18,
      "metadata": {}
    },
    {
      "cell_type": "code",
      "source": [
        "service"
      ],
      "outputs": [
        {
          "output_type": "execute_result",
          "execution_count": 19,
          "data": {
            "text/plain": "AciWebservice(workspace=Workspace.create(name='quick-starts-ws-137242', subscription_id='f5091c60-1c3c-430f-8d81-d802f6bf2414', resource_group='aml-quickstarts-137242'), name=automl-bestmodel-parkinso, image_id=None, compute_type=None, state=ACI, scoring_uri=Transitioning, tags=None, properties={}, created_by={})"
          },
          "metadata": {}
        }
      ],
      "execution_count": 19,
      "metadata": {}
    },
    {
      "cell_type": "code",
      "source": [
        "# wait for deployment to finish and display the scoring uri and swagger uri\n",
        "service.wait_for_deployment(show_output=True)\n",
        "\n",
        "print('Service state:')\n",
        "print(service.state)\n",
        "\n",
        "print('Scoring URI:')\n",
        "print(service.scoring_uri)\n",
        "\n",
        "print('Swagger URI:')\n",
        "print(service.swagger_uri)# wait for deployment to finish and display the scoring uri and swagger uri\n"
      ],
      "outputs": [
        {
          "output_type": "stream",
          "name": "stdout",
          "text": [
            "Tips: You can try get_logs(): https://aka.ms/debugimage#dockerlog or local deployment: https://aka.ms/debugimage#debug-locally to debug if deployment takes longer than 10 minutes.\n",
            "SucceededACI service creation operation finished, operation \"Succeeded\"\n",
            "Service state:\n",
            "Healthy\n",
            "Scoring URI:\n",
            "http://90a06195-528d-49af-95b3-86d2d69cb6fa.southcentralus.azurecontainer.io/score\n",
            "Swagger URI:\n",
            "http://90a06195-528d-49af-95b3-86d2d69cb6fa.southcentralus.azurecontainer.io/swagger.json\n"
          ]
        }
      ],
      "execution_count": 21,
      "metadata": {
        "gather": {
          "logged": 1612460488218
        }
      }
    },
    {
      "cell_type": "code",
      "source": [
        "# select 3  samples from the dataframe\n",
        "x_df=df.sample(3)\n",
        "y_df = x_df.pop('status')\n",
        "\n",
        "x_df['Column1'] = 0.0\n",
        "\n",
        "# convert the records to a json data file\n",
        "recored=x_df.to_dict(orient='records')\n",
        "\n",
        "scoring_json = json.dumps({'data': recored})\n",
        "print(scoring_json)    "
      ],
      "outputs": [
        {
          "output_type": "stream",
          "name": "stdout",
          "text": [
            "{\"data\": [{\"MDVP:Fo(Hz)\": 88.333, \"MDVP:Fhi(Hz)\": 112.24, \"MDVP:Flo(Hz)\": 84.072, \"MDVP:Jitter(%)\": 0.00505, \"MDVP:Jitter(Abs)\": 6e-05, \"MDVP:RAP\": 0.00254, \"MDVP:PPQ\": 0.0033, \"Jitter:DDP\": 0.00763, \"MDVP:Shimmer\": 0.02143, \"MDVP:Shimmer(dB)\": 0.197, \"Shimmer:APQ3\": 0.01079, \"Shimmer:APQ5\": 0.01342, \"MDVP:APQ\": 0.01892, \"Shimmer:DDA\": 0.03237, \"NHR\": 0.01166, \"HNR\": 21.118, \"RPDE\": 0.611137, \"DFA\": 0.776156, \"spread1\": -5.24977, \"spread2\": 0.391002, \"D2\": 2.407313, \"PPE\": 0.24974, \"Column1\": 0.0}, {\"MDVP:Fo(Hz)\": 186.695, \"MDVP:Fhi(Hz)\": 211.961, \"MDVP:Flo(Hz)\": 149.442, \"MDVP:Jitter(%)\": 0.01872, \"MDVP:Jitter(Abs)\": 0.0001, \"MDVP:RAP\": 0.01075, \"MDVP:PPQ\": 0.01154, \"Jitter:DDP\": 0.03225, \"MDVP:Shimmer\": 0.0583, \"MDVP:Shimmer(dB)\": 0.784, \"Shimmer:APQ3\": 0.02699, \"Shimmer:APQ5\": 0.03714, \"MDVP:APQ\": 0.06259, \"Shimmer:DDA\": 0.08096, \"NHR\": 0.10952, \"HNR\": 12.529, \"RPDE\": 0.507826, \"DFA\": 0.762726, \"spread1\": -4.484303, \"spread2\": 0.340256, \"D2\": 2.958815, \"PPE\": 0.301487, \"Column1\": 0.0}, {\"MDVP:Fo(Hz)\": 153.046, \"MDVP:Fhi(Hz)\": 175.829, \"MDVP:Flo(Hz)\": 68.623, \"MDVP:Jitter(%)\": 0.00742, \"MDVP:Jitter(Abs)\": 5e-05, \"MDVP:RAP\": 0.00364, \"MDVP:PPQ\": 0.00432, \"Jitter:DDP\": 0.01092, \"MDVP:Shimmer\": 0.05517, \"MDVP:Shimmer(dB)\": 0.542, \"Shimmer:APQ3\": 0.02471, \"Shimmer:APQ5\": 0.03572, \"MDVP:APQ\": 0.05767, \"Shimmer:DDA\": 0.07413, \"NHR\": 0.0316, \"HNR\": 17.28, \"RPDE\": 0.665318, \"DFA\": 0.719467, \"spread1\": -3.949079, \"spread2\": 0.35787, \"D2\": 3.10901, \"PPE\": 0.377429, \"Column1\": 0.0}]}\n"
          ]
        }
      ],
      "execution_count": 22,
      "metadata": {
        "gather": {
          "logged": 1612460509139
        }
      }
    },
    {
      "cell_type": "markdown",
      "source": [
        "Send a request to the web deployed service to test it."
      ],
      "metadata": {}
    },
    {
      "cell_type": "code",
      "source": [
        "output = service.run(scoring_json)"
      ],
      "outputs": [],
      "execution_count": 23,
      "metadata": {
        "gather": {
          "logged": 1612460516771
        }
      }
    },
    {
      "cell_type": "markdown",
      "source": [
        "The result of the model vs the expectation"
      ],
      "metadata": {}
    },
    {
      "cell_type": "code",
      "source": [
        "print (output)"
      ],
      "outputs": [
        {
          "output_type": "stream",
          "name": "stdout",
          "text": [
            "{\"result\": [1, 1, 1]}\n"
          ]
        }
      ],
      "execution_count": 25,
      "metadata": {
        "gather": {
          "logged": 1612460534315
        }
      }
    },
    {
      "cell_type": "code",
      "source": [
        "print(y_df)"
      ],
      "outputs": [
        {
          "output_type": "stream",
          "name": "stdout",
          "text": [
            "10     1\n",
            "150    1\n",
            "18     1\n",
            "Name: status, dtype: int64\n"
          ]
        }
      ],
      "execution_count": 27,
      "metadata": {
        "gather": {
          "logged": 1612460545082
        }
      }
    },
    {
      "cell_type": "markdown",
      "source": [
        "In the cell below, the logs of the web service are printed once over the service is deleted"
      ],
      "metadata": {}
    },
    {
      "cell_type": "code",
      "source": [
        "print(service.get_logs())"
      ],
      "outputs": [
        {
          "output_type": "stream",
          "name": "stdout",
          "text": [
            "2021-02-04T17:23:55,617408005+00:00 - iot-server/run \n",
            "2021-02-04T17:23:55,617518411+00:00 - gunicorn/run \n",
            "2021-02-04T17:23:55,618469462+00:00 - rsyslog/run \n",
            "rsyslogd: /azureml-envs/azureml_7785023fceb74e4facc1b1a577b1faf9/lib/libuuid.so.1: no version information available (required by rsyslogd)\n",
            "/usr/sbin/nginx: /azureml-envs/azureml_7785023fceb74e4facc1b1a577b1faf9/lib/libcrypto.so.1.0.0: no version information available (required by /usr/sbin/nginx)\n",
            "/usr/sbin/nginx: /azureml-envs/azureml_7785023fceb74e4facc1b1a577b1faf9/lib/libcrypto.so.1.0.0: no version information available (required by /usr/sbin/nginx)\n",
            "/usr/sbin/nginx: /azureml-envs/azureml_7785023fceb74e4facc1b1a577b1faf9/lib/libssl.so.1.0.0: no version information available (required by /usr/sbin/nginx)\n",
            "/usr/sbin/nginx: /azureml-envs/azureml_7785023fceb74e4facc1b1a577b1faf9/lib/libssl.so.1.0.0: no version information available (required by /usr/sbin/nginx)\n",
            "/usr/sbin/nginx: /azureml-envs/azureml_7785023fceb74e4facc1b1a577b1faf9/lib/libssl.so.1.0.0: no version information available (required by /usr/sbin/nginx)\n",
            "2021-02-04T17:23:55,634088397+00:00 - nginx/run \n",
            "EdgeHubConnectionString and IOTEDGE_IOTHUBHOSTNAME are not set. Exiting...\n",
            "2021-02-04T17:23:55,791493912+00:00 - iot-server/finish 1 0\n",
            "2021-02-04T17:23:55,793025294+00:00 - Exit code 1 is normal. Not restarting iot-server.\n",
            "Starting gunicorn 19.9.0\n",
            "Listening at: http://127.0.0.1:31311 (14)\n",
            "Using worker: sync\n",
            "worker timeout is set to 300\n",
            "Booting worker with pid: 42\n",
            "SPARK_HOME not set. Skipping PySpark Initialization.\n",
            "Generating new fontManager, this may take some time...\n",
            "Initializing logger\n",
            "2021-02-04 17:23:57,283 | root | INFO | Starting up app insights client\n",
            "2021-02-04 17:23:57,284 | root | INFO | Starting up request id generator\n",
            "2021-02-04 17:23:57,284 | root | INFO | Starting up app insight hooks\n",
            "2021-02-04 17:23:57,284 | root | INFO | Invoking user's init function\n",
            "2021-02-04 17:23:59,791 | root | INFO | Users's init has completed successfully\n",
            "2021-02-04 17:23:59,795 | root | INFO | Skipping middleware: dbg_model_info as it's not enabled.\n",
            "2021-02-04 17:23:59,795 | root | INFO | Skipping middleware: dbg_resource_usage as it's not enabled.\n",
            "2021-02-04 17:23:59,797 | root | INFO | Scoring timeout is found from os.environ: 60000 ms\n",
            "2021-02-04 17:24:08,354 | root | INFO | 200\n",
            "127.0.0.1 - - [04/Feb/2021:17:24:08 +0000] \"GET /swagger.json HTTP/1.0\" 200 3605 \"-\" \"Go-http-client/1.1\"\n",
            "2021-02-04 17:24:12,530 | root | INFO | 200\n",
            "127.0.0.1 - - [04/Feb/2021:17:24:12 +0000] \"GET /swagger.json HTTP/1.0\" 200 3605 \"-\" \"Go-http-client/1.1\"\n",
            "2021-02-04 17:41:27,917 | root | INFO | 200\n",
            "127.0.0.1 - - [04/Feb/2021:17:41:27 +0000] \"GET /swagger.json HTTP/1.0\" 200 3605 \"-\" \"Go-http-client/1.1\"\n",
            "2021-02-04 17:41:56,581 | root | INFO | Validation Request Content-Type\n",
            "2021-02-04 17:41:56,582 | root | INFO | Scoring Timer is set to 60.0 seconds\n",
            "2021-02-04 17:41:56,688 | root | INFO | 200\n",
            "127.0.0.1 - - [04/Feb/2021:17:41:56 +0000] \"POST /score HTTP/1.0\" 200 25 \"-\" \"python-requests/2.25.1\"\n",
            "\n"
          ]
        }
      ],
      "execution_count": 28,
      "metadata": {
        "gather": {
          "logged": 1612460563463
        }
      }
    },
    {
      "cell_type": "markdown",
      "source": [
        "to delete the service and the compute targetto delete the service and the compute target"
      ],
      "metadata": {}
    },
    {
      "cell_type": "code",
      "source": [
        "service.delete()\n",
        "aml_compute.delete()"
      ],
      "outputs": [],
      "execution_count": 29,
      "metadata": {
        "gather": {
          "logged": 1612460573164
        }
      }
    }
  ],
  "metadata": {
    "kernel_info": {
      "name": "python3"
    },
    "kernelspec": {
      "name": "python3",
      "language": "python",
      "display_name": "Python 3"
    },
    "language_info": {
      "name": "python",
      "version": "3.6.9",
      "mimetype": "text/x-python",
      "codemirror_mode": {
        "name": "ipython",
        "version": 3
      },
      "pygments_lexer": "ipython3",
      "nbconvert_exporter": "python",
      "file_extension": ".py"
    },
    "nteract": {
      "version": "nteract-front-end@1.0.0"
    }
  },
  "nbformat": 4,
  "nbformat_minor": 2
}